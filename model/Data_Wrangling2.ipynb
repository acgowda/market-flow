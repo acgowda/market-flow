{
  "cells": [
    {
      "cell_type": "markdown",
      "metadata": {
        "id": "view-in-github",
        "colab_type": "text"
      },
      "source": [
        "<a href=\"https://colab.research.google.com/github/acgowda/market-flow/blob/main/model/Data_Wrangling2.ipynb\" target=\"_parent\"><img src=\"https://colab.research.google.com/assets/colab-badge.svg\" alt=\"Open In Colab\"/></a>"
      ]
    },
    {
      "cell_type": "code",
      "execution_count": 1,
      "metadata": {
        "colab": {
          "base_uri": "https://localhost:8080/"
        },
        "id": "DAsPqSZxkiHM",
        "outputId": "ea75ac8b-73dd-4b31-9394-72b3260df76d"
      },
      "outputs": [
        {
          "output_type": "stream",
          "name": "stdout",
          "text": [
            "Looking in indexes: https://pypi.org/simple, https://us-python.pkg.dev/colab-wheels/public/simple/\n",
            "Collecting yfinance\n",
            "  Downloading yfinance-0.1.70-py2.py3-none-any.whl (26 kB)\n",
            "Collecting lxml>=4.5.1\n",
            "  Downloading lxml-4.9.0-cp37-cp37m-manylinux_2_17_x86_64.manylinux2014_x86_64.manylinux_2_24_x86_64.whl (6.4 MB)\n",
            "\u001b[K     |████████████████████████████████| 6.4 MB 8.4 MB/s \n",
            "\u001b[?25hRequirement already satisfied: numpy>=1.15 in /usr/local/lib/python3.7/dist-packages (from yfinance) (1.21.6)\n",
            "Collecting requests>=2.26\n",
            "  Downloading requests-2.27.1-py2.py3-none-any.whl (63 kB)\n",
            "\u001b[K     |████████████████████████████████| 63 kB 1.6 MB/s \n",
            "\u001b[?25hRequirement already satisfied: multitasking>=0.0.7 in /usr/local/lib/python3.7/dist-packages (from yfinance) (0.0.10)\n",
            "Requirement already satisfied: pandas>=0.24.0 in /usr/local/lib/python3.7/dist-packages (from yfinance) (1.3.5)\n",
            "Requirement already satisfied: pytz>=2017.3 in /usr/local/lib/python3.7/dist-packages (from pandas>=0.24.0->yfinance) (2022.1)\n",
            "Requirement already satisfied: python-dateutil>=2.7.3 in /usr/local/lib/python3.7/dist-packages (from pandas>=0.24.0->yfinance) (2.8.2)\n",
            "Requirement already satisfied: six>=1.5 in /usr/local/lib/python3.7/dist-packages (from python-dateutil>=2.7.3->pandas>=0.24.0->yfinance) (1.15.0)\n",
            "Requirement already satisfied: idna<4,>=2.5 in /usr/local/lib/python3.7/dist-packages (from requests>=2.26->yfinance) (2.10)\n",
            "Requirement already satisfied: urllib3<1.27,>=1.21.1 in /usr/local/lib/python3.7/dist-packages (from requests>=2.26->yfinance) (1.24.3)\n",
            "Requirement already satisfied: charset-normalizer~=2.0.0 in /usr/local/lib/python3.7/dist-packages (from requests>=2.26->yfinance) (2.0.12)\n",
            "Requirement already satisfied: certifi>=2017.4.17 in /usr/local/lib/python3.7/dist-packages (from requests>=2.26->yfinance) (2022.5.18.1)\n",
            "Installing collected packages: requests, lxml, yfinance\n",
            "  Attempting uninstall: requests\n",
            "    Found existing installation: requests 2.23.0\n",
            "    Uninstalling requests-2.23.0:\n",
            "      Successfully uninstalled requests-2.23.0\n",
            "  Attempting uninstall: lxml\n",
            "    Found existing installation: lxml 4.2.6\n",
            "    Uninstalling lxml-4.2.6:\n",
            "      Successfully uninstalled lxml-4.2.6\n",
            "\u001b[31mERROR: pip's dependency resolver does not currently take into account all the packages that are installed. This behaviour is the source of the following dependency conflicts.\n",
            "google-colab 1.0.0 requires requests~=2.23.0, but you have requests 2.27.1 which is incompatible.\n",
            "datascience 0.10.6 requires folium==0.2.1, but you have folium 0.8.3 which is incompatible.\u001b[0m\n",
            "Successfully installed lxml-4.9.0 requests-2.27.1 yfinance-0.1.70\n"
          ]
        }
      ],
      "source": [
        "pip install yfinance"
      ]
    },
    {
      "cell_type": "code",
      "execution_count": 2,
      "metadata": {
        "colab": {
          "base_uri": "https://localhost:8080/"
        },
        "id": "3f5R-L_-ecMC",
        "outputId": "f19acb96-7233-406e-87c4-a7c595be72b6"
      },
      "outputs": [
        {
          "output_type": "stream",
          "name": "stdout",
          "text": [
            "Drive already mounted at /content/drive; to attempt to forcibly remount, call drive.mount(\"/content/drive\", force_remount=True).\n"
          ]
        }
      ],
      "source": [
        "from google.colab import drive\n",
        "drive.mount('/content/drive')"
      ]
    },
    {
      "cell_type": "code",
      "execution_count": 5,
      "metadata": {
        "id": "acyAkT7jkmAu"
      },
      "outputs": [],
      "source": [
        "# imports\n",
        "import yfinance as yf\n",
        "import pandas as pd\n",
        "import numpy as np\n",
        "import zipfile\n",
        "import pickle\n",
        "from sklearn.preprocessing import StandardScaler\n",
        "import datetime as dt"
      ]
    },
    {
      "cell_type": "code",
      "source": [
        "import tensorflow as tf"
      ],
      "metadata": {
        "id": "qjAynju0d1Nc"
      },
      "execution_count": 6,
      "outputs": []
    },
    {
      "cell_type": "code",
      "execution_count": 139,
      "metadata": {
        "id": "pigPGeEQkoWP"
      },
      "outputs": [],
      "source": [
        "# get most recent list of SP500 tickers\n",
        "def get_sp500_tickers():\n",
        "    \"\"\"\n",
        "    Returns a data frame of the most recent\n",
        "    S&P 500 tickers from the Wikipedia page\n",
        "    on the S&P 500 Index\n",
        "\n",
        "    Also saves a pickle file of the tickers for future use\n",
        "    \"\"\"\n",
        "    tickers = pd.read_html(\n",
        "    'https://en.wikipedia.org/wiki/List_of_S%26P_500_companies')[0]['Symbol']\n",
        "\n",
        "    with open('sp500_tickers','wb') as f:\n",
        "        pickle.dump(tickers,f)\n",
        "    return tickers\n",
        "\n",
        "def get_nasdaq100_tickers():\n",
        "    \"\"\"\n",
        "    Returns a data frame of the NASDAQ100 tickers from the \n",
        "    NASDAQ website\n",
        "\n",
        "    Also saves a pickle file of the tickers for future use\n",
        "    \"\"\"\n",
        "    tickers = pd.read_html('https://en.wikipedia.org/wiki/Nasdaq-100')[3]['Ticker']\n",
        "    with open('nasdaq_tickers','wb') as f:\n",
        "        pickle.dump(tickers,f)  \n",
        "    return tickers \n",
        "\n",
        "def remove_inf(df):\n",
        "    \"\"\"\n",
        "    Removes negative and positive infinities from our dataframe\n",
        "    by replacing them with the minimum and maximum values from the column\n",
        "    they are located in\n",
        "    \"\"\"\n",
        "    # replace any infinite values with respective\n",
        "    # max or min value of each column\n",
        "    for col in df.columns:\n",
        "        # indices where positive infinities are located\n",
        "        p_ind = df[df[col]==np.inf].index\n",
        "        # indices where negative infinities are located\n",
        "        n_ind = df[df[col]==-np.inf].index\n",
        "        # replacing the positive and negative infinities\n",
        "        if len(p_ind) > 0:\n",
        "            df[col].replace(np.inf,max(df[col].drop(p_ind,axis = 0)),inplace=True)\n",
        "        if len(n_ind) > 0:\n",
        "            df[col].replace(-np.inf,min(df[col].drop(n_ind,axis = 0)),inplace=True)\n",
        "    return df\n",
        "\n",
        "def create_target(df):\n",
        "    \"\"\"\n",
        "    Used to create the target variable, which indicates\n",
        "    if a stock will be up or down the next day\n",
        "    \"\"\"\n",
        "    df = df.copy()\n",
        "    #df['close'] = df['close'].pct_change()\n",
        "    #df.dropna(inplace = True) #drop nan\n",
        "    df['close'] = df['close'].apply(lambda x: 1 if x > 0 else 0)\n",
        "    df['close'] = df['close'].shift(-1)\n",
        "    return df\n",
        "\n",
        "def create_salient_target(df):\n",
        "    \"\"\"\n",
        "    Used to create the target variable, which indicates\n",
        "    if a stock will be up or down the next day\n",
        "    \"\"\"\n",
        "    df = df.copy()\n",
        "    df['close'] = df['close'].pct_change()\n",
        "    df.dropna(inplace = True) #drop nan\n",
        "    \n",
        "    df['close'] = np.where(df['close'] >= 0.03, 2,df['close'])\n",
        "    df['close'] = np.where(df['close'] < 0.03 and df['close'] > -0.015, 1,df['close'])\n",
        "    df['close'] = np.where(df['close'] <= -0.015, 0,df['close'])\n",
        "    df['close'] = df['close'].shift(-1)\n",
        "\n",
        "    return df\n",
        "\n",
        "def create_close_MAs(df,MAs = [5,20,60,200]):\n",
        "    \"\"\"\n",
        "    Create moving average columns of 'close'\n",
        "    data column in our historical price dataset\n",
        "    \"\"\"\n",
        "    df = df.copy()\n",
        "    for ma in MAs:\n",
        "        df[f'ma{ma}'] = df['close'].rolling(window=ma).mean()\n",
        "    return df\n",
        "\n",
        "def scale_df(df):\n",
        "    # for normalising values in our indices' dataframe\n",
        "    scaler = StandardScaler()\n",
        "    cols = list(df.columns)\n",
        "    i_ind = df.index\n",
        "    df = pd.DataFrame(scaler.fit_transform(df),index = i_ind)\n",
        "    df.columns = cols\n",
        "    return df\n",
        "\n",
        "def get_index_data(indices = [\"^GSPC\",\"^VIX\"],period = '5y',\n",
        "                   resolution='1d', MAs = [5,20,60,200]):\n",
        "    \"\"\"\n",
        "    Obtain index data for our training dataset.\n",
        "\n",
        "    Index data represents all other column-wise data\n",
        "    that we will use to train our model.\n",
        "\n",
        "    In this case, we used the following financial indices\n",
        "    to train our model:\n",
        "    ['^GSPC','^VIX']\n",
        "    \"\"\"\n",
        "\n",
        "    main_df = pd.DataFrame()\n",
        "    for ind in indices:\n",
        "        # read in a specific indices' historical financial information\n",
        "        df = yf.Ticker(ind).history(period=period,interval = resolution)\n",
        "\n",
        "        # drop whichever columns work\n",
        "        try:\n",
        "          df.drop(['Dividends','Stock Splits','Open','Low','High'],axis = 1,inplace = True)\n",
        "        except:\n",
        "          df.drop(['Open','Low','High'],axis = 1,inplace = True)\n",
        "\n",
        "        # lowercase the columns and label them\n",
        "        for col in df.columns:\n",
        "          df.rename(columns = {col:f'{ind}-{col.lower()}'},inplace = True)\n",
        "\n",
        "        # create moving average columns\n",
        "        for ma in MAs:\n",
        "          df[f'{ind}-ma{ma}'] = df[f'{ind}-close'].rolling(window=ma).mean()\n",
        "\n",
        "        # scale data frame w/ percent change\n",
        "        # df = scale_df(df)\n",
        "        df = df.pct_change()\n",
        "\n",
        "        try:\n",
        "            # if this column exists, it will be all NaNs,\n",
        "            # so remove it\n",
        "            df.drop(['^VIX-volume'],axis = 1,inplace = True)\n",
        "        except:\n",
        "            pass\n",
        "\n",
        "        # forward fill any NA values\n",
        "        df.fillna(method = 'ffill')\n",
        "        # remove inf values potentially created\n",
        "        df = remove_inf(df)\n",
        "\n",
        "        # add this data to our final df\n",
        "        if main_df.empty:\n",
        "          main_df = df\n",
        "        else:\n",
        "          main_df = pd.concat([main_df,df],axis = 1)\n",
        "    return main_df\n",
        "\n",
        "def scale_df2(df):\n",
        "    # normalise all columns except for the\n",
        "    # column containing our closing price\n",
        "\n",
        "    scaler = StandardScaler()\n",
        "    y = df['close']\n",
        "    X = df.drop(['close'],axis = 1)\n",
        "    cols = list(X.columns)\n",
        "    X = pd.DataFrame(scaler.fit_transform(X),index = y.index)\n",
        "    df = pd.concat([y,X],axis = 1)\n",
        "    df.columns = ['close'] + cols\n",
        "    return df\n",
        "\n",
        "def compile_data(tickers,indices = [\"^GSPC\",\"^VIX\"],\n",
        "                 period = '5y',\n",
        "                 resolution = '1d',\n",
        "                 MAs = [5,20,60,200]):\n",
        "    \"\"\"\n",
        "    Compile all of the data\n",
        "    we will use to train our model\n",
        "    \"\"\"\n",
        "    main_df = pd.DataFrame() # our final dataframe\n",
        "    count = 0 # keep track of progress\n",
        "\n",
        "    # get extra financial information we want to use\n",
        "    # in making predictions\n",
        "    index_df = get_index_data(indices,period,resolution,MAs)\n",
        "\n",
        "    if resolution not in ['1d','1wk']:\n",
        "       return \"Please specify your resolution as '1d' or '1wk'\"\n",
        "\n",
        "    for ticker in tickers:\n",
        "        try:\n",
        "            # yahoo finance doesn't like '.' full stops, and prefers '-' dashes\n",
        "            ticker = ticker.replace('.', '-')\n",
        "            # read in a specific ticker's historical financial information\n",
        "            df = yf.Ticker(ticker).history(period = period,interval = resolution)\n",
        "            # drop columns we won't be using from that dataframe\n",
        "            df.drop(['Dividends','Stock Splits'],axis = 1,inplace = True)\n",
        "            \n",
        "            # make column names lower cased, because it's easier to type\n",
        "            for col in df.columns:\n",
        "                df.rename(columns = {col:col.lower()},inplace = True)\n",
        "\n",
        "            # drop NAs for jic\n",
        "            df.dropna(inplace = True)\n",
        "\n",
        "            # add a few rolling window columns on our closing price\n",
        "            df = create_close_MAs(df,MAs)\n",
        "\n",
        "            # scale data frame w/ percent change\n",
        "            # df = scale_df(df)\n",
        "            df = df.pct_change()\n",
        "            \n",
        "            # fill foward missing values just in case any came up\n",
        "            df.fillna(method = 'ffill')\n",
        "\n",
        "            df = remove_inf(df) # remove inf values \n",
        "\n",
        "            # merge the extra financial info along the column-axis\n",
        "            df = pd.concat([df,index_df], axis=1, ignore_index=False)\n",
        "\n",
        "            # make our target variable\n",
        "            df = create_target(df)\n",
        "            \n",
        "            # remove NaNs\n",
        "            df.dropna(inplace = True,axis = 0)\n",
        "\n",
        "            # add this data to our final df\n",
        "            if main_df.empty:\n",
        "                main_df = df\n",
        "            else:\n",
        "                main_df = pd.concat([main_df,df],axis = 0)\n",
        "            \n",
        "            # progress counting\n",
        "            count +=1 # increment for every stock addded\n",
        "            if count % 50 == 0: # will let us know progress for every 50 stocks added\n",
        "                print(f'Progress: {count}/{len(tickers)}')\n",
        "        except:\n",
        "            continue\n",
        "    \n",
        "    # get day of week; 0 = Monday, ..., so on so forth\n",
        "    # if the data is daily; add it to dataframe as a column\n",
        "    if resolution == '1d':\n",
        "      main_df['day'] = list(pd.Series(main_df.index).apply(lambda x: str(x.weekday())))\n",
        "\n",
        "    # get month of year as a column\n",
        "    main_df['month'] = list(pd.Series(main_df.index).apply(lambda x: str(x.month)))\n",
        "\n",
        "    # convert categorical data to dummy variables\n",
        "    main_df = pd.get_dummies(main_df)\n",
        "\n",
        "    # drop any NaNs\n",
        "    main_df = main_df.dropna(axis = 0)\n",
        "\n",
        "    return main_df\n",
        "\n",
        "def get_input_data(tickers,indices = [\"^GSPC\",\"^VIX\"],\n",
        "                   period = '5y',\n",
        "                   resolution = '1d',\n",
        "                   MAs = [5,20,60,200]):\n",
        "    \"\"\"\n",
        "    Gets the data we need for model training or testing;\n",
        "    Ensures that the dataset has equal number of buy/sell signals\n",
        "    in it, so that our model training and testing process won't\n",
        "    be biased\n",
        "\n",
        "    Indices will default to \"^GSPC\",\"^VIX\" which\n",
        "    represent the S&P500 index and VIX index on\n",
        "    yahoo finance, respectively\n",
        "    \"\"\"\n",
        "    df = compile_data(tickers,indices,period,resolution,MAs)\n",
        "\n",
        "    # obtain whichever is lower: the number of buy signals (1)\n",
        "    # or the number of sell signals (0)\n",
        "    lower = min(len(df.loc[df['close'] == 1]), len(df.loc[df['close'] == 0]))\n",
        "\n",
        "    # balance our data: \n",
        "      # get dataframes of buys and sells which have the same number\n",
        "      # of buy and sell signals\n",
        "      # and combine them into a single dataframe\n",
        "    # i.e. downsample whichever has more obs\n",
        "    buys_df = df.loc[df['close'] == 1].sample(frac=lower/len(df.loc[df['close'] == 1]))\n",
        "    sells_df = df.loc[df['close'] == 0].sample(frac=lower/len(df.loc[df['close'] == 0]))\n",
        "    df_new = pd.concat([buys_df,sells_df],axis = 0)\n",
        "\n",
        "    # shuffle the data\n",
        "    df_new = df_new.sample(frac = 1)\n",
        "\n",
        "    return df_new\n",
        "\n",
        "def get_preds_data(ticker,indices = [\"^GSPC\",\"^VIX\"],\n",
        "                   period = '4y',\n",
        "                   resolution = '1d',\n",
        "                   MAs = [5,20,60,200]):\n",
        "    \"\"\"\n",
        "    Get data for model to make predictions on\n",
        "    \"\"\"\n",
        "    # yahoo finance doesn't like '.' full stops, and prefers '-' dashes\n",
        "    ticker = ticker.replace('.', '-')\n",
        "    # read in a specific ticker's historical financial information\n",
        "    df = yf.Ticker(ticker).history(period = period,interval = resolution)\n",
        "    index_df = get_index_data(indices,period,resolution,MAs)\n",
        "\n",
        "    # drop columns we won't be using from that dataframe\n",
        "    df.drop(['Dividends','Stock Splits'],axis = 1,inplace = True)\n",
        "    # make column names lower cased, because it's easier to type\n",
        "    for col in df.columns:\n",
        "        df.rename(columns = {col:col.lower()},inplace = True)\n",
        "\n",
        "    # drop NAs for jic\n",
        "    df.dropna(inplace = True)\n",
        "    \n",
        "    # add a few rolling window columns on our closing price\n",
        "    df = create_close_MAs(df,MAs)\n",
        "    \n",
        "    # normalise all columns as percentages\n",
        "    df = df.pct_change()\n",
        "\n",
        "    # fill foward missing values just in case any came up\n",
        "    df.fillna(method = 'ffill')\n",
        "\n",
        "    df = remove_inf(df) # remove inf values\n",
        "\n",
        "    df = pd.concat([df,index_df], axis=1, ignore_index=False)\n",
        "\n",
        "    df['returns'] = df['close']\n",
        "    # merge the extra financial info along the column-axis\n",
        "    df = create_target(df)\n",
        "\n",
        "    # get day of week; 0 = Monday, ..., so on so forth\n",
        "    # as a column\n",
        "    if resolution == '1d':\n",
        "      df['day'] = list(pd.Series(df.index).apply(lambda x: str(x.weekday())))\n",
        "\n",
        "    # get month of year as a column\n",
        "    df['month'] = list(pd.Series(df.index).apply(lambda x: str(x.month)))\n",
        "\n",
        "    # convert categorical data to dummy variables\n",
        "    df = pd.get_dummies(df)\n",
        "\n",
        "    df.dropna(inplace=True)\n",
        "\n",
        "    return df"
      ]
    },
    {
      "cell_type": "markdown",
      "source": [
        "## Data Stuff"
      ],
      "metadata": {
        "id": "a9CU_sJ3Md_O"
      }
    },
    {
      "cell_type": "code",
      "source": [
        "sp500_tickers =  get_sp500_tickers()\n",
        "indices = ['^GSPC','^VIX','^IXIC','^DJI','^HSI','^FTSE','^FCHI','GC=F','CL=F']\n",
        "period = '5y'\n",
        "df = get_input_data(sp500_tickers,indices,period,\n",
        "                    resolution = '1wk',\n",
        "                    MAs = [4,21,52])"
      ],
      "metadata": {
        "colab": {
          "base_uri": "https://localhost:8080/"
        },
        "id": "6sVFOtsZjF2A",
        "outputId": "64a5e3b7-b849-4479-8f5d-60805c0be249"
      },
      "execution_count": null,
      "outputs": [
        {
          "output_type": "stream",
          "name": "stdout",
          "text": [
            "Progress: 50/504\n",
            "Progress: 100/504\n",
            "Progress: 150/504\n",
            "Progress: 200/504\n",
            "Progress: 250/504\n",
            "Progress: 300/504\n",
            "Progress: 350/504\n",
            "Progress: 400/504\n",
            "Progress: 450/504\n"
          ]
        },
        {
          "output_type": "stream",
          "name": "stderr",
          "text": [
            "/usr/local/lib/python3.7/dist-packages/pandas/core/frame.py:4913: SettingWithCopyWarning: \n",
            "A value is trying to be set on a copy of a slice from a DataFrame\n",
            "\n",
            "See the caveats in the documentation: https://pandas.pydata.org/pandas-docs/stable/user_guide/indexing.html#returning-a-view-versus-a-copy\n",
            "  errors=errors,\n",
            "/usr/local/lib/python3.7/dist-packages/pandas/core/frame.py:5047: SettingWithCopyWarning: \n",
            "A value is trying to be set on a copy of a slice from a DataFrame\n",
            "\n",
            "See the caveats in the documentation: https://pandas.pydata.org/pandas-docs/stable/user_guide/indexing.html#returning-a-view-versus-a-copy\n",
            "  errors=errors,\n",
            "/usr/local/lib/python3.7/dist-packages/pandas/util/_decorators.py:311: SettingWithCopyWarning: \n",
            "A value is trying to be set on a copy of a slice from a DataFrame\n",
            "\n",
            "See the caveats in the documentation: https://pandas.pydata.org/pandas-docs/stable/user_guide/indexing.html#returning-a-view-versus-a-copy\n",
            "  return func(*args, **kwargs)\n"
          ]
        },
        {
          "output_type": "stream",
          "name": "stdout",
          "text": [
            "Progress: 500/504\n"
          ]
        }
      ]
    },
    {
      "cell_type": "code",
      "source": [
        "df.shape"
      ],
      "metadata": {
        "colab": {
          "base_uri": "https://localhost:8080/"
        },
        "id": "HzlCgTl0KGw6",
        "outputId": "00d04481-952a-490c-a18e-37df15fe89ba"
      },
      "execution_count": null,
      "outputs": [
        {
          "output_type": "execute_result",
          "data": {
            "text/plain": [
              "(93212, 64)"
            ]
          },
          "metadata": {},
          "execution_count": 9
        }
      ]
    },
    {
      "cell_type": "code",
      "source": [
        "df.to_csv('weekly_stock_data4.csv')"
      ],
      "metadata": {
        "id": "jbJKRMHUsc5W"
      },
      "execution_count": null,
      "outputs": []
    },
    {
      "cell_type": "code",
      "source": [
        "df = pd.read_csv(\"/content/drive/Shareddrives/PIC 16B Project/weekly_stock_data4.csv\",index_col = 0)"
      ],
      "metadata": {
        "id": "j7rbXWsmEkTo"
      },
      "execution_count": 47,
      "outputs": []
    },
    {
      "cell_type": "code",
      "source": [
        "df.shape"
      ],
      "metadata": {
        "colab": {
          "base_uri": "https://localhost:8080/"
        },
        "id": "cSvgUCM6ZD0M",
        "outputId": "92d41783-2104-430d-be14-661149b12669"
      },
      "execution_count": null,
      "outputs": [
        {
          "output_type": "execute_result",
          "data": {
            "text/plain": [
              "(93212, 64)"
            ]
          },
          "metadata": {},
          "execution_count": 49
        }
      ]
    },
    {
      "cell_type": "code",
      "source": [
        "#df = pd.read_csv(\"/content/drive/Shareddrives/PIC 16B Project/weekly_stock_data2.csv\",index_col = 0)"
      ],
      "metadata": {
        "id": "zGN-WkGnyFIA"
      },
      "execution_count": null,
      "outputs": []
    },
    {
      "cell_type": "code",
      "source": [
        "# df = pd.read_csv(\"/content/drive/Shareddrives/PIC 16B Project/weekly_stock_data_large.zip\",index_col = 0,compression = 'zip')"
      ],
      "metadata": {
        "id": "dRwNYyOMpFwL"
      },
      "execution_count": null,
      "outputs": []
    },
    {
      "cell_type": "code",
      "source": [
        "df.describe().loc['max'][df.describe().loc['max'] > 10]"
      ],
      "metadata": {
        "colab": {
          "base_uri": "https://localhost:8080/"
        },
        "id": "nNqAN-BeDQg2",
        "outputId": "37ace915-ecbe-4674-e7b5-139dd8fdc6f4"
      },
      "execution_count": 48,
      "outputs": [
        {
          "output_type": "execute_result",
          "data": {
            "text/plain": [
              "volume         25361.296296\n",
              "GC=F-volume    23438.461538\n",
              "Name: max, dtype: float64"
            ]
          },
          "metadata": {},
          "execution_count": 48
        }
      ]
    },
    {
      "cell_type": "code",
      "source": [
        "high_change_cols = list(df.describe().loc['max'][df.describe().loc['max'] > 10].index)\n",
        "high_change_cols"
      ],
      "metadata": {
        "colab": {
          "base_uri": "https://localhost:8080/"
        },
        "id": "N--walIWDU14",
        "outputId": "983312b6-674c-46be-b88e-031e72f19268"
      },
      "execution_count": 49,
      "outputs": [
        {
          "output_type": "execute_result",
          "data": {
            "text/plain": [
              "['volume', 'GC=F-volume']"
            ]
          },
          "metadata": {},
          "execution_count": 49
        }
      ]
    },
    {
      "cell_type": "code",
      "source": [
        "df.drop(high_change_cols,axis = 1,inplace = True)"
      ],
      "metadata": {
        "id": "j8mQg1GfDbLd"
      },
      "execution_count": 50,
      "outputs": []
    },
    {
      "cell_type": "code",
      "execution_count": 51,
      "metadata": {
        "id": "cE5JdCoub0XX"
      },
      "outputs": [],
      "source": [
        "X = df.drop(['close'],axis = 1)\n",
        "y = df['close']\n",
        "y = np.asarray(y).astype('float32')"
      ]
    },
    {
      "cell_type": "code",
      "execution_count": 52,
      "metadata": {
        "id": "H2VmuJ49KYcn"
      },
      "outputs": [],
      "source": [
        "from sklearn.model_selection import train_test_split\n",
        "\n",
        "X_train, X_val, y_train, y_val = train_test_split(X, y, \n",
        "                                                    test_size=0.25, \n",
        "                                                    random_state=42,\n",
        "                                                    stratify=y)\n",
        "\n",
        "X_val, X_test, y_val, y_test = train_test_split(X_val, y_val, \n",
        "                                                    test_size=0.25, \n",
        "                                                    random_state=42,\n",
        "                                                    stratify=y_val)"
      ]
    },
    {
      "cell_type": "code",
      "source": [
        "sum(y_train)/len(y_train)"
      ],
      "metadata": {
        "id": "DGdGSix8PuIe",
        "outputId": "9664d374-56d1-488d-aa3a-80c0f80007bf",
        "colab": {
          "base_uri": "https://localhost:8080/"
        }
      },
      "execution_count": 53,
      "outputs": [
        {
          "output_type": "execute_result",
          "data": {
            "text/plain": [
              "0.5000071521549443"
            ]
          },
          "metadata": {},
          "execution_count": 53
        }
      ]
    },
    {
      "cell_type": "code",
      "source": [
        "sum(y_val)/len(y_val)"
      ],
      "metadata": {
        "colab": {
          "base_uri": "https://localhost:8080/"
        },
        "id": "xdVL0773Pnob",
        "outputId": "ad8714a9-9a42-4ccc-f823-2d05e9fbda0c"
      },
      "execution_count": 54,
      "outputs": [
        {
          "output_type": "execute_result",
          "data": {
            "text/plain": [
              "0.49997139097099047"
            ]
          },
          "metadata": {},
          "execution_count": 54
        }
      ]
    },
    {
      "cell_type": "code",
      "source": [
        "sum(y_test)/len(y_test) # model base rate"
      ],
      "metadata": {
        "id": "Y4Zy295uPu6I",
        "outputId": "3ebc3cbf-e7bf-45d0-acdd-07fc237d00de",
        "colab": {
          "base_uri": "https://localhost:8080/"
        }
      },
      "execution_count": 55,
      "outputs": [
        {
          "output_type": "execute_result",
          "data": {
            "text/plain": [
              "0.5"
            ]
          },
          "metadata": {},
          "execution_count": 55
        }
      ]
    },
    {
      "cell_type": "markdown",
      "metadata": {
        "id": "MxoV2Vv3nhzd"
      },
      "source": [
        "## Model"
      ]
    },
    {
      "cell_type": "markdown",
      "source": [
        "### RF"
      ],
      "metadata": {
        "id": "HYkm-3aoPIO-"
      }
    },
    {
      "cell_type": "code",
      "source": [
        "from sklearn.ensemble import RandomForestClassifier\n",
        "rf = RandomForestClassifier(n_estimators=300)\n",
        "rf.fit(X_train,y_train)\n",
        "preds = rf.predict(X_val) \n",
        "np.mean(preds == y_val)"
      ],
      "metadata": {
        "colab": {
          "base_uri": "https://localhost:8080/"
        },
        "id": "1--ud0z_PGny",
        "outputId": "1e098f9f-93f1-4da7-d608-87e50d280309"
      },
      "execution_count": null,
      "outputs": [
        {
          "output_type": "execute_result",
          "data": {
            "text/plain": [
              "0.7020872865275142"
            ]
          },
          "metadata": {},
          "execution_count": 37
        }
      ]
    },
    {
      "cell_type": "markdown",
      "source": [
        "### NN"
      ],
      "metadata": {
        "id": "GBdrjdXOPHJp"
      }
    },
    {
      "cell_type": "code",
      "execution_count": 56,
      "metadata": {
        "id": "nz8mfTDka4FH"
      },
      "outputs": [],
      "source": [
        "X_train = np.asarray(X_train).astype('float32')\n",
        "X_val = np.asarray(X_val).astype('float32')\n",
        "X_test = np.asarray(X_test).astype('float32')\n",
        "y_train = y_train.reshape(-1,)\n",
        "y_val = y_val.reshape(-1,)\n",
        "y_test = y_test.reshape(-1,)"
      ]
    },
    {
      "cell_type": "code",
      "execution_count": 57,
      "metadata": {
        "colab": {
          "base_uri": "https://localhost:8080/"
        },
        "id": "lYXKgDNLZDGp",
        "outputId": "191b11ad-9860-4499-e84a-c2bbbf1c8d9b"
      },
      "outputs": [
        {
          "output_type": "stream",
          "name": "stdout",
          "text": [
            "Train: 69909, Validation: 17477, Test: 5826\n",
            "TRAIN sells: 34954, buys: 34955\n",
            "VALIDATION sells: 8739, buys: 8738\n",
            "TEST sells: 2913, buys: 2913\n"
          ]
        }
      ],
      "source": [
        "print(f\"Train: {len(X_train)}, Validation: {len(X_val)}, Test: {len(X_test)}\")\n",
        "print(f\"TRAIN sells: {np.sum(y_train == 0)}, buys: {np.sum(y_train == 1)}\")\n",
        "print(f\"VALIDATION sells: {np.sum(y_val == 0)}, buys: {np.sum(y_val == 1)}\")\n",
        "print(f\"TEST sells: {np.sum(y_test == 0)}, buys: {np.sum(y_test == 1)}\")"
      ]
    },
    {
      "cell_type": "code",
      "execution_count": 58,
      "metadata": {
        "id": "Lxjmym0jcIwH"
      },
      "outputs": [],
      "source": [
        "import tensorflow as tf\n",
        "from tensorflow import keras\n",
        "def build_model():\n",
        "  model = tf.keras.Sequential([\n",
        "    # classification\n",
        "    # input\n",
        "    keras.layers.Dense(64,input_shape = X_train.shape[1:]),\n",
        "    keras.layers.BatchNormalization(),\n",
        "    keras.layers.Activation('relu'),\n",
        "    keras.layers.Dropout(0.2),\n",
        "    \n",
        "    # hidden 1\n",
        "    keras.layers.Dense(64),\n",
        "    keras.layers.BatchNormalization(),\n",
        "    keras.layers.Activation('relu'),\n",
        "    keras.layers.Dropout(0.2),\n",
        "    \n",
        "    # hidden 2\n",
        "    keras.layers.Dense(64),\n",
        "    keras.layers.BatchNormalization(),\n",
        "    keras.layers.Activation('relu'),\n",
        "    keras.layers.Dropout(0.2),\n",
        "\n",
        "    # output\n",
        "    keras.layers.Dense(1) \n",
        "  ])\n",
        "  return model"
      ]
    },
    {
      "cell_type": "code",
      "execution_count": 59,
      "metadata": {
        "id": "5eQtnLZWcZa-"
      },
      "outputs": [],
      "source": [
        "model = build_model()\n",
        "\n",
        "# compile our model with relevant optimizer, loss function, and metrics\n",
        "model.compile(optimizer = keras.optimizers.Adam(),\n",
        "            # from_logits = True to apply softmax layer at end\n",
        "            loss = tf.keras.losses.BinaryCrossentropy(from_logits = True), \n",
        "            metrics = ['accuracy'])\n",
        "\n",
        "#tf.keras.losses.SparseCategoricalCrossentropy(from_logits = True)"
      ]
    },
    {
      "cell_type": "code",
      "source": [
        "model.summary()"
      ],
      "metadata": {
        "colab": {
          "base_uri": "https://localhost:8080/"
        },
        "id": "_yp0v_3sSdUZ",
        "outputId": "796efbe4-acbd-468c-aecb-99f547fed005"
      },
      "execution_count": 60,
      "outputs": [
        {
          "output_type": "stream",
          "name": "stdout",
          "text": [
            "Model: \"sequential\"\n",
            "_________________________________________________________________\n",
            " Layer (type)                Output Shape              Param #   \n",
            "=================================================================\n",
            " dense (Dense)               (None, 64)                3968      \n",
            "                                                                 \n",
            " batch_normalization (BatchN  (None, 64)               256       \n",
            " ormalization)                                                   \n",
            "                                                                 \n",
            " activation (Activation)     (None, 64)                0         \n",
            "                                                                 \n",
            " dropout (Dropout)           (None, 64)                0         \n",
            "                                                                 \n",
            " dense_1 (Dense)             (None, 64)                4160      \n",
            "                                                                 \n",
            " batch_normalization_1 (Batc  (None, 64)               256       \n",
            " hNormalization)                                                 \n",
            "                                                                 \n",
            " activation_1 (Activation)   (None, 64)                0         \n",
            "                                                                 \n",
            " dropout_1 (Dropout)         (None, 64)                0         \n",
            "                                                                 \n",
            " dense_2 (Dense)             (None, 64)                4160      \n",
            "                                                                 \n",
            " batch_normalization_2 (Batc  (None, 64)               256       \n",
            " hNormalization)                                                 \n",
            "                                                                 \n",
            " activation_2 (Activation)   (None, 64)                0         \n",
            "                                                                 \n",
            " dropout_2 (Dropout)         (None, 64)                0         \n",
            "                                                                 \n",
            " dense_3 (Dense)             (None, 1)                 65        \n",
            "                                                                 \n",
            "=================================================================\n",
            "Total params: 13,121\n",
            "Trainable params: 12,737\n",
            "Non-trainable params: 384\n",
            "_________________________________________________________________\n"
          ]
        }
      ]
    },
    {
      "cell_type": "code",
      "execution_count": 61,
      "metadata": {
        "id": "KlWGzx_8ccnG",
        "colab": {
          "base_uri": "https://localhost:8080/"
        },
        "outputId": "c04dc7e7-e005-4fcf-ab3a-f5e2fd77e7be"
      },
      "outputs": [
        {
          "output_type": "stream",
          "name": "stdout",
          "text": [
            "Epoch 1/20\n",
            "1093/1093 [==============================] - 8s 5ms/step - loss: 0.6724 - accuracy: 0.5687 - val_loss: 0.6071 - val_accuracy: 0.6070\n",
            "Epoch 2/20\n",
            "1093/1093 [==============================] - 5s 4ms/step - loss: 0.6269 - accuracy: 0.6183 - val_loss: 0.5848 - val_accuracy: 0.6452\n",
            "Epoch 3/20\n",
            "1093/1093 [==============================] - 4s 4ms/step - loss: 0.6099 - accuracy: 0.6387 - val_loss: 0.5774 - val_accuracy: 0.6531\n",
            "Epoch 4/20\n",
            "1093/1093 [==============================] - 4s 4ms/step - loss: 0.5997 - accuracy: 0.6459 - val_loss: 0.5745 - val_accuracy: 0.6627\n",
            "Epoch 5/20\n",
            "1093/1093 [==============================] - 4s 4ms/step - loss: 0.5933 - accuracy: 0.6539 - val_loss: 0.5699 - val_accuracy: 0.6655\n",
            "Epoch 6/20\n",
            "1093/1093 [==============================] - 4s 4ms/step - loss: 0.5901 - accuracy: 0.6561 - val_loss: 0.5679 - val_accuracy: 0.6638\n",
            "Epoch 7/20\n",
            "1093/1093 [==============================] - 4s 4ms/step - loss: 0.5873 - accuracy: 0.6565 - val_loss: 0.5656 - val_accuracy: 0.6653\n",
            "Epoch 8/20\n",
            "1093/1093 [==============================] - 5s 4ms/step - loss: 0.5845 - accuracy: 0.6594 - val_loss: 0.5656 - val_accuracy: 0.6681\n",
            "Epoch 9/20\n",
            "1093/1093 [==============================] - 5s 4ms/step - loss: 0.5819 - accuracy: 0.6625 - val_loss: 0.5646 - val_accuracy: 0.6640\n",
            "Epoch 10/20\n",
            "1093/1093 [==============================] - 5s 4ms/step - loss: 0.5823 - accuracy: 0.6620 - val_loss: 0.5620 - val_accuracy: 0.6741\n",
            "Epoch 11/20\n",
            "1093/1093 [==============================] - 5s 4ms/step - loss: 0.5794 - accuracy: 0.6641 - val_loss: 0.5611 - val_accuracy: 0.6678\n",
            "Epoch 12/20\n",
            "1093/1093 [==============================] - 5s 4ms/step - loss: 0.5788 - accuracy: 0.6624 - val_loss: 0.5602 - val_accuracy: 0.6634\n",
            "Epoch 13/20\n",
            "1093/1093 [==============================] - 5s 4ms/step - loss: 0.5768 - accuracy: 0.6659 - val_loss: 0.5592 - val_accuracy: 0.6698\n",
            "Epoch 14/20\n",
            "1093/1093 [==============================] - 4s 4ms/step - loss: 0.5764 - accuracy: 0.6641 - val_loss: 0.5586 - val_accuracy: 0.6713\n",
            "Epoch 15/20\n",
            "1093/1093 [==============================] - 4s 4ms/step - loss: 0.5771 - accuracy: 0.6666 - val_loss: 0.5594 - val_accuracy: 0.6639\n",
            "Epoch 16/20\n",
            "1093/1093 [==============================] - 4s 4ms/step - loss: 0.5750 - accuracy: 0.6669 - val_loss: 0.5597 - val_accuracy: 0.6658\n",
            "Epoch 17/20\n",
            "1093/1093 [==============================] - 4s 4ms/step - loss: 0.5733 - accuracy: 0.6679 - val_loss: 0.5597 - val_accuracy: 0.6674\n",
            "Epoch 18/20\n",
            "1093/1093 [==============================] - 5s 4ms/step - loss: 0.5730 - accuracy: 0.6685 - val_loss: 0.5565 - val_accuracy: 0.6700\n",
            "Epoch 19/20\n",
            "1093/1093 [==============================] - 5s 4ms/step - loss: 0.5725 - accuracy: 0.6701 - val_loss: 0.5560 - val_accuracy: 0.6691\n",
            "Epoch 20/20\n",
            "1093/1093 [==============================] - 9s 8ms/step - loss: 0.5707 - accuracy: 0.6726 - val_loss: 0.5580 - val_accuracy: 0.6646\n"
          ]
        }
      ],
      "source": [
        "checkpoint_filepath = '/tmp/checkpoint' # create a checkpoint filepath for saving our model\n",
        "\n",
        "# callback function for our model\n",
        "# we want to save the best model's weights \n",
        "# best is based on validation accuracy in our training phase\n",
        "model_checkpoint_callback = tf.keras.callbacks.ModelCheckpoint(\n",
        "    filepath=checkpoint_filepath, save_weights_only=True,\n",
        "    monitor='val_accuracy',mode='max',\n",
        "    save_best_only=True)\n",
        "\n",
        "# PATIENT EARLY STOPPING\n",
        "es = tf.keras.callbacks.EarlyStopping(monitor='val_loss', \n",
        "                                      mode='min', verbose=1,\n",
        "                                      patience=15)\n",
        "\n",
        "# fit and train the model\n",
        "history = model.fit(X_train,y_train,\n",
        "                    batch_size=64,\n",
        "                    epochs = 20, \n",
        "                    validation_data = (X_val,y_val),\n",
        "                    callbacks=[model_checkpoint_callback,\n",
        "                               es],\n",
        "                    verbose = True\n",
        "                    )"
      ]
    },
    {
      "cell_type": "code",
      "execution_count": null,
      "metadata": {
        "colab": {
          "base_uri": "https://localhost:8080/",
          "height": 614
        },
        "id": "eMw44VbxfPjm",
        "outputId": "52c8ab98-59f3-4ea3-9b5f-bb7bd07e7278"
      },
      "outputs": [
        {
          "output_type": "display_data",
          "data": {
            "text/plain": [
              "<Figure size 960x660 with 1 Axes>"
            ],
            "image/png": "[encoded data removed]"
          },
          "metadata": {}
        }
      ],
      "source": [
        "import matplotlib as mpl\n",
        "import matplotlib.pyplot as plt\n",
        "mpl.rcParams['figure.dpi'] = 120\n",
        "mpl.style.use('seaborn')\n",
        "\n",
        "def plot_history(history):  \n",
        "  plt.plot(history.history[\"accuracy\"], label = \"training\")\n",
        "  plt.plot(history.history[\"val_accuracy\"], label = \"validation\")\n",
        "  plt.gca().set(xlabel = \"epoch\", ylabel = \"accuracy\")\n",
        "  plt.title(\"Training vs Validation Accuracy\")\n",
        "  plt.legend()\n",
        "  plt.show()\n",
        "\n",
        "plot_history(history)"
      ]
    },
    {
      "cell_type": "code",
      "execution_count": null,
      "metadata": {
        "colab": {
          "base_uri": "https://localhost:8080/",
          "height": 614
        },
        "id": "IunJL0eDg2qf",
        "outputId": "e9d9cd92-1b49-455c-94e6-9eb5e4679c6c"
      },
      "outputs": [
        {
          "output_type": "display_data",
          "data": {
            "text/plain": [
              "<Figure size 960x660 with 1 Axes>"
            ],
            "image/png": "[encoded data removed]"
          },
          "metadata": {}
        }
      ],
      "source": [
        "from sklearn.metrics import roc_curve, auc\n",
        "\n",
        "def plot_roc(model, X_test, y_test):\n",
        "  y_pred = model.predict(X_test).ravel()\n",
        "  nn_fpr_keras, nn_tpr_keras, nn_thresholds_keras = roc_curve(y_test, y_pred)\n",
        "  auc_keras = auc(nn_fpr_keras, nn_tpr_keras)\n",
        "  fig,ax = plt.subplots(1)\n",
        "  ax.plot(nn_fpr_keras, nn_tpr_keras, marker='.', label='Neural Network (auc = %0.3f)' % auc_keras)\n",
        "  x = np.linspace(*ax.get_xlim())\n",
        "  ax.plot(np.linspace(0,1,2),linewidth=2,linestyle = \"dashed\")\n",
        "  plt.xlabel('False Positive Rate')\n",
        "  plt.ylabel('True Positive Rate')\n",
        "  ax.legend()\n",
        "  plt.title('ROC Curve')\n",
        "  plt.show()\n",
        "plot_roc(model, X_test, y_test)\n",
        "\n",
        "#np.linspace()"
      ]
    },
    {
      "cell_type": "code",
      "execution_count": 96,
      "metadata": {
        "colab": {
          "base_uri": "https://localhost:8080/"
        },
        "id": "sQPvTEhhk6qI",
        "outputId": "8d34f629-6626-4cd8-8a19-0c9b86752ef3"
      },
      "outputs": [
        {
          "output_type": "execute_result",
          "data": {
            "text/plain": [
              "<tensorflow.python.training.tracking.util.CheckpointLoadStatus at 0x7f977a32b150>"
            ]
          },
          "metadata": {},
          "execution_count": 96
        }
      ],
      "source": [
        "model.load_weights(checkpoint_filepath)"
      ]
    },
    {
      "cell_type": "code",
      "source": [
        "model.evaluate(X_test,y_test)"
      ],
      "metadata": {
        "colab": {
          "base_uri": "https://localhost:8080/"
        },
        "id": "50RhIBWtaIws",
        "outputId": "40fd167e-6c1b-4294-c91e-a0de8c045764"
      },
      "execution_count": 97,
      "outputs": [
        {
          "output_type": "stream",
          "name": "stdout",
          "text": [
            "183/183 [==============================] - 0s 2ms/step - loss: 0.5704 - accuracy: 0.6710\n"
          ]
        },
        {
          "output_type": "execute_result",
          "data": {
            "text/plain": [
              "[0.5704169869422913, 0.6709578037261963]"
            ]
          },
          "metadata": {},
          "execution_count": 97
        }
      ]
    },
    {
      "cell_type": "code",
      "execution_count": null,
      "metadata": {
        "colab": {
          "base_uri": "https://localhost:8080/"
        },
        "id": "Wsn_SZ5Kkt0u",
        "outputId": "f5070f28-00fb-41e7-aa18-eedfd93b953b"
      },
      "outputs": [
        {
          "output_type": "stream",
          "name": "stdout",
          "text": [
            "INFO:tensorflow:Assets written to: models/weekly_model/assets\n"
          ]
        }
      ],
      "source": [
        "#!mkdir -p models\n",
        "model.save('models/weekly_model') "
      ]
    },
    {
      "cell_type": "markdown",
      "source": [
        "## Testing Weekly"
      ],
      "metadata": {
        "id": "ECN0HchS7Fy8"
      }
    },
    {
      "cell_type": "code",
      "source": [
        "model = tf.keras.models.load_model('/content/drive/Shareddrives/PIC 16B Project/model_week')"
      ],
      "metadata": {
        "id": "1DdEOvX6YMd5"
      },
      "execution_count": 7,
      "outputs": []
    },
    {
      "cell_type": "code",
      "source": [
        "#nasdaq_tickers = get_nasdaq100_tickers()\n",
        "#ticks = [t for t in nasdaq_tickers if t not in list(sp500_tickers)]\n",
        "#indices = ['^GSPC','^VIX','^IXIC','^DJI','^HSI','^FTSE','^FCHI','GC=F','CL=F']\n",
        "#period = '5y'\n",
        "#test_df = get_preds_data('TSLA',indices,period,resolution = '1wk',MAs = [4,21,52])"
      ],
      "metadata": {
        "id": "NrWILvXo7FMe"
      },
      "execution_count": 10,
      "outputs": []
    },
    {
      "cell_type": "code",
      "source": [
        "indices = ['^GSPC','^VIX','^IXIC','^DJI','^HSI','^FTSE','^FCHI','GC=F','CL=F']\n",
        "period = '2y'\n",
        "ticker = 'SPY' #any ticker\n",
        "test_df = get_preds_data(ticker,\n",
        "                    indices,\n",
        "                    period,\n",
        "                    resolution = '1wk',\n",
        "                    MAs = [4,21,52])"
      ],
      "metadata": {
        "id": "RqgfqF6_GFbK"
      },
      "execution_count": 154,
      "outputs": []
    },
    {
      "cell_type": "code",
      "source": [
        "test_df.tail()"
      ],
      "metadata": {
        "colab": {
          "base_uri": "https://localhost:8080/",
          "height": 435
        },
        "id": "vib3c57inqED",
        "outputId": "f3386106-0a4e-40db-c937-77186c0cc343"
      },
      "execution_count": 155,
      "outputs": [
        {
          "output_type": "execute_result",
          "data": {
            "text/plain": [
              "                open      high       low  close    volume       ma4      ma21  \\\n",
              "Date                                                                            \n",
              "2022-05-09 -0.016915 -0.054113 -0.049059    0.0 -0.092919 -0.021379 -0.005931   \n",
              "2022-05-16 -0.012639  0.005315 -0.011969    1.0 -0.228040 -0.022052 -0.008607   \n",
              "2022-05-23 -0.017876  0.016668  0.016871    0.0 -0.162970  0.002019 -0.006358   \n",
              "2022-05-30  0.052745  0.004959  0.051607    1.0 -0.216552 -0.000494 -0.005945   \n",
              "2022-06-06  0.002974 -0.001988  0.001671    0.0 -0.650974  0.008670 -0.005255   \n",
              "\n",
              "                ma52  ^GSPC-close  ^GSPC-volume  ...  month_11  month_12  \\\n",
              "Date                                             ...                       \n",
              "2022-05-09 -0.000413    -0.024119      0.101087  ...         0         0   \n",
              "2022-05-16 -0.000871    -0.030451     -0.111197  ...         0         0   \n",
              "2022-05-23  0.000030     0.065844     -0.070490  ...         0         0   \n",
              "2022-05-30 -0.000288    -0.011952     -0.161406  ...         0         0   \n",
              "2022-06-06 -0.000134     0.012691     -0.543393  ...         0         0   \n",
              "\n",
              "            month_2  month_3  month_4  month_5  month_6  month_7  month_8  \\\n",
              "Date                                                                        \n",
              "2022-05-09        0        0        0        1        0        0        0   \n",
              "2022-05-16        0        0        0        1        0        0        0   \n",
              "2022-05-23        0        0        0        1        0        0        0   \n",
              "2022-05-30        0        0        0        1        0        0        0   \n",
              "2022-06-06        0        0        0        0        1        0        0   \n",
              "\n",
              "            month_9  \n",
              "Date                 \n",
              "2022-05-09        0  \n",
              "2022-05-16        0  \n",
              "2022-05-23        0  \n",
              "2022-05-30        0  \n",
              "2022-06-06        0  \n",
              "\n",
              "[5 rows x 65 columns]"
            ],
            "text/html": [
              "\n",
              "  <div id=\"df-77a9abfc-494c-4da3-aade-15c9c8729561\">\n",
              "    <div class=\"colab-df-container\">\n",
              "      <div>\n",
              "<style scoped>\n",
              "    .dataframe tbody tr th:only-of-type {\n",
              "        vertical-align: middle;\n",
              "    }\n",
              "\n",
              "    .dataframe tbody tr th {\n",
              "        vertical-align: top;\n",
              "    }\n",
              "\n",
              "    .dataframe thead th {\n",
              "        text-align: right;\n",
              "    }\n",
              "</style>\n",
              "<table border=\"1\" class=\"dataframe\">\n",
              "  <thead>\n",
              "    <tr style=\"text-align: right;\">\n",
              "      <th></th>\n",
              "      <th>open</th>\n",
              "      <th>high</th>\n",
              "      <th>low</th>\n",
              "      <th>close</th>\n",
              "      <th>volume</th>\n",
              "      <th>ma4</th>\n",
              "      <th>ma21</th>\n",
              "      <th>ma52</th>\n",
              "      <th>^GSPC-close</th>\n",
              "      <th>^GSPC-volume</th>\n",
              "      <th>...</th>\n",
              "      <th>month_11</th>\n",
              "      <th>month_12</th>\n",
              "      <th>month_2</th>\n",
              "      <th>month_3</th>\n",
              "      <th>month_4</th>\n",
              "      <th>month_5</th>\n",
              "      <th>month_6</th>\n",
              "      <th>month_7</th>\n",
              "      <th>month_8</th>\n",
              "      <th>month_9</th>\n",
              "    </tr>\n",
              "    <tr>\n",
              "      <th>Date</th>\n",
              "      <th></th>\n",
              "      <th></th>\n",
              "      <th></th>\n",
              "      <th></th>\n",
              "      <th></th>\n",
              "      <th></th>\n",
              "      <th></th>\n",
              "      <th></th>\n",
              "      <th></th>\n",
              "      <th></th>\n",
              "      <th></th>\n",
              "      <th></th>\n",
              "      <th></th>\n",
              "      <th></th>\n",
              "      <th></th>\n",
              "      <th></th>\n",
              "      <th></th>\n",
              "      <th></th>\n",
              "      <th></th>\n",
              "      <th></th>\n",
              "      <th></th>\n",
              "    </tr>\n",
              "  </thead>\n",
              "  <tbody>\n",
              "    <tr>\n",
              "      <th>2022-05-09</th>\n",
              "      <td>-0.016915</td>\n",
              "      <td>-0.054113</td>\n",
              "      <td>-0.049059</td>\n",
              "      <td>0.0</td>\n",
              "      <td>-0.092919</td>\n",
              "      <td>-0.021379</td>\n",
              "      <td>-0.005931</td>\n",
              "      <td>-0.000413</td>\n",
              "      <td>-0.024119</td>\n",
              "      <td>0.101087</td>\n",
              "      <td>...</td>\n",
              "      <td>0</td>\n",
              "      <td>0</td>\n",
              "      <td>0</td>\n",
              "      <td>0</td>\n",
              "      <td>0</td>\n",
              "      <td>1</td>\n",
              "      <td>0</td>\n",
              "      <td>0</td>\n",
              "      <td>0</td>\n",
              "      <td>0</td>\n",
              "    </tr>\n",
              "    <tr>\n",
              "      <th>2022-05-16</th>\n",
              "      <td>-0.012639</td>\n",
              "      <td>0.005315</td>\n",
              "      <td>-0.011969</td>\n",
              "      <td>1.0</td>\n",
              "      <td>-0.228040</td>\n",
              "      <td>-0.022052</td>\n",
              "      <td>-0.008607</td>\n",
              "      <td>-0.000871</td>\n",
              "      <td>-0.030451</td>\n",
              "      <td>-0.111197</td>\n",
              "      <td>...</td>\n",
              "      <td>0</td>\n",
              "      <td>0</td>\n",
              "      <td>0</td>\n",
              "      <td>0</td>\n",
              "      <td>0</td>\n",
              "      <td>1</td>\n",
              "      <td>0</td>\n",
              "      <td>0</td>\n",
              "      <td>0</td>\n",
              "      <td>0</td>\n",
              "    </tr>\n",
              "    <tr>\n",
              "      <th>2022-05-23</th>\n",
              "      <td>-0.017876</td>\n",
              "      <td>0.016668</td>\n",
              "      <td>0.016871</td>\n",
              "      <td>0.0</td>\n",
              "      <td>-0.162970</td>\n",
              "      <td>0.002019</td>\n",
              "      <td>-0.006358</td>\n",
              "      <td>0.000030</td>\n",
              "      <td>0.065844</td>\n",
              "      <td>-0.070490</td>\n",
              "      <td>...</td>\n",
              "      <td>0</td>\n",
              "      <td>0</td>\n",
              "      <td>0</td>\n",
              "      <td>0</td>\n",
              "      <td>0</td>\n",
              "      <td>1</td>\n",
              "      <td>0</td>\n",
              "      <td>0</td>\n",
              "      <td>0</td>\n",
              "      <td>0</td>\n",
              "    </tr>\n",
              "    <tr>\n",
              "      <th>2022-05-30</th>\n",
              "      <td>0.052745</td>\n",
              "      <td>0.004959</td>\n",
              "      <td>0.051607</td>\n",
              "      <td>1.0</td>\n",
              "      <td>-0.216552</td>\n",
              "      <td>-0.000494</td>\n",
              "      <td>-0.005945</td>\n",
              "      <td>-0.000288</td>\n",
              "      <td>-0.011952</td>\n",
              "      <td>-0.161406</td>\n",
              "      <td>...</td>\n",
              "      <td>0</td>\n",
              "      <td>0</td>\n",
              "      <td>0</td>\n",
              "      <td>0</td>\n",
              "      <td>0</td>\n",
              "      <td>1</td>\n",
              "      <td>0</td>\n",
              "      <td>0</td>\n",
              "      <td>0</td>\n",
              "      <td>0</td>\n",
              "    </tr>\n",
              "    <tr>\n",
              "      <th>2022-06-06</th>\n",
              "      <td>0.002974</td>\n",
              "      <td>-0.001988</td>\n",
              "      <td>0.001671</td>\n",
              "      <td>0.0</td>\n",
              "      <td>-0.650974</td>\n",
              "      <td>0.008670</td>\n",
              "      <td>-0.005255</td>\n",
              "      <td>-0.000134</td>\n",
              "      <td>0.012691</td>\n",
              "      <td>-0.543393</td>\n",
              "      <td>...</td>\n",
              "      <td>0</td>\n",
              "      <td>0</td>\n",
              "      <td>0</td>\n",
              "      <td>0</td>\n",
              "      <td>0</td>\n",
              "      <td>0</td>\n",
              "      <td>1</td>\n",
              "      <td>0</td>\n",
              "      <td>0</td>\n",
              "      <td>0</td>\n",
              "    </tr>\n",
              "  </tbody>\n",
              "</table>\n",
              "<p>5 rows × 65 columns</p>\n",
              "</div>\n",
              "      <button class=\"colab-df-convert\" onclick=\"convertToInteractive('df-77a9abfc-494c-4da3-aade-15c9c8729561')\"\n",
              "              title=\"Convert this dataframe to an interactive table.\"\n",
              "              style=\"display:none;\">\n",
              "        \n",
              "  <svg xmlns=\"http://www.w3.org/2000/svg\" height=\"24px\"viewBox=\"0 0 24 24\"\n",
              "       width=\"24px\">\n",
              "    <path d=\"M0 0h24v24H0V0z\" fill=\"none\"/>\n",
              "    <path d=\"M18.56 5.44l.94 2.06.94-2.06 2.06-.94-2.06-.94-.94-2.06-.94 2.06-2.06.94zm-11 1L8.5 8.5l.94-2.06 2.06-.94-2.06-.94L8.5 2.5l-.94 2.06-2.06.94zm10 10l.94 2.06.94-2.06 2.06-.94-2.06-.94-.94-2.06-.94 2.06-2.06.94z\"/><path d=\"M17.41 7.96l-1.37-1.37c-.4-.4-.92-.59-1.43-.59-.52 0-1.04.2-1.43.59L10.3 9.45l-7.72 7.72c-.78.78-.78 2.05 0 2.83L4 21.41c.39.39.9.59 1.41.59.51 0 1.02-.2 1.41-.59l7.78-7.78 2.81-2.81c.8-.78.8-2.07 0-2.86zM5.41 20L4 18.59l7.72-7.72 1.47 1.35L5.41 20z\"/>\n",
              "  </svg>\n",
              "      </button>\n",
              "      \n",
              "  <style>\n",
              "    .colab-df-container {\n",
              "      display:flex;\n",
              "      flex-wrap:wrap;\n",
              "      gap: 12px;\n",
              "    }\n",
              "\n",
              "    .colab-df-convert {\n",
              "      background-color: #E8F0FE;\n",
              "      border: none;\n",
              "      border-radius: 50%;\n",
              "      cursor: pointer;\n",
              "      display: none;\n",
              "      fill: #1967D2;\n",
              "      height: 32px;\n",
              "      padding: 0 0 0 0;\n",
              "      width: 32px;\n",
              "    }\n",
              "\n",
              "    .colab-df-convert:hover {\n",
              "      background-color: #E2EBFA;\n",
              "      box-shadow: 0px 1px 2px rgba(60, 64, 67, 0.3), 0px 1px 3px 1px rgba(60, 64, 67, 0.15);\n",
              "      fill: #174EA6;\n",
              "    }\n",
              "\n",
              "    [theme=dark] .colab-df-convert {\n",
              "      background-color: #3B4455;\n",
              "      fill: #D2E3FC;\n",
              "    }\n",
              "\n",
              "    [theme=dark] .colab-df-convert:hover {\n",
              "      background-color: #434B5C;\n",
              "      box-shadow: 0px 1px 3px 1px rgba(0, 0, 0, 0.15);\n",
              "      filter: drop-shadow(0px 1px 2px rgba(0, 0, 0, 0.3));\n",
              "      fill: #FFFFFF;\n",
              "    }\n",
              "  </style>\n",
              "\n",
              "      <script>\n",
              "        const buttonEl =\n",
              "          document.querySelector('#df-77a9abfc-494c-4da3-aade-15c9c8729561 button.colab-df-convert');\n",
              "        buttonEl.style.display =\n",
              "          google.colab.kernel.accessAllowed ? 'block' : 'none';\n",
              "\n",
              "        async function convertToInteractive(key) {\n",
              "          const element = document.querySelector('#df-77a9abfc-494c-4da3-aade-15c9c8729561');\n",
              "          const dataTable =\n",
              "            await google.colab.kernel.invokeFunction('convertToInteractive',\n",
              "                                                     [key], {});\n",
              "          if (!dataTable) return;\n",
              "\n",
              "          const docLinkHtml = 'Like what you see? Visit the ' +\n",
              "            '<a target=\"_blank\" href=https://colab.research.google.com/notebooks/data_table.ipynb>data table notebook</a>'\n",
              "            + ' to learn more about interactive tables.';\n",
              "          element.innerHTML = '';\n",
              "          dataTable['output_type'] = 'display_data';\n",
              "          await google.colab.output.renderOutput(dataTable, element);\n",
              "          const docLink = document.createElement('div');\n",
              "          docLink.innerHTML = docLinkHtml;\n",
              "          element.appendChild(docLink);\n",
              "        }\n",
              "      </script>\n",
              "    </div>\n",
              "  </div>\n",
              "  "
            ]
          },
          "metadata": {},
          "execution_count": 155
        }
      ]
    },
    {
      "cell_type": "code",
      "source": [
        "high_change_cols = ['volume','GC=F-volume','returns']"
      ],
      "metadata": {
        "id": "h0DrC_9QeT6c"
      },
      "execution_count": 156,
      "outputs": []
    },
    {
      "cell_type": "code",
      "source": [
        "test_df.drop(high_change_cols,axis = 1,inplace = True)"
      ],
      "metadata": {
        "id": "_uyjmx5_7T2g"
      },
      "execution_count": 157,
      "outputs": []
    },
    {
      "cell_type": "code",
      "source": [
        "y_val = np.asarray(test_df['close'])\n",
        "y_val = y_val.reshape(-1,)\n",
        "X_val = test_df.drop(['close'],axis = 1)\n",
        "X_val = np.asarray(X_val).astype('float32')"
      ],
      "metadata": {
        "id": "qsknYp167g9A"
      },
      "execution_count": 158,
      "outputs": []
    },
    {
      "cell_type": "code",
      "source": [
        "model.evaluate(X_val,y_val)"
      ],
      "metadata": {
        "colab": {
          "base_uri": "https://localhost:8080/"
        },
        "id": "5GC7XmKh7rqs",
        "outputId": "018d23f3-5748-4936-86e9-6aae0978e709"
      },
      "execution_count": 160,
      "outputs": [
        {
          "output_type": "stream",
          "name": "stdout",
          "text": [
            "2/2 [==============================] - 0s 10ms/step - loss: 0.4504 - accuracy: 0.7170\n"
          ]
        },
        {
          "output_type": "execute_result",
          "data": {
            "text/plain": [
              "[0.45044398307800293, 0.7169811129570007]"
            ]
          },
          "metadata": {},
          "execution_count": 160
        }
      ]
    },
    {
      "cell_type": "markdown",
      "source": [
        "## Testing Daily"
      ],
      "metadata": {
        "id": "RbzVOZ4QFqdT"
      }
    },
    {
      "cell_type": "code",
      "source": [
        "sp500_tickers =  get_sp500_tickers()\n",
        "nasdaq_tickers = get_nasdaq100_tickers()\n",
        "indices = ['^GSPC','^VIX','^IXIC','^DJI','^HSI','^FTSE','^FCHI','GC=F','CL=F']\n",
        "period = '5y'"
      ],
      "metadata": {
        "id": "PWUgLqhQzeic"
      },
      "execution_count": null,
      "outputs": []
    },
    {
      "cell_type": "code",
      "source": [
        "test_tickers = [t for t in nasdaq_tickers if t not in sp500_tickers]"
      ],
      "metadata": {
        "id": "g-Fo3HYqGFy7",
        "colab": {
          "base_uri": "https://localhost:8080/",
          "height": 166
        },
        "outputId": "e83a41f6-340c-4c51-f63d-4619ad4bd4cd"
      },
      "execution_count": null,
      "outputs": [
        {
          "output_type": "error",
          "ename": "NameError",
          "evalue": "ignored",
          "traceback": [
            "\u001b[0;31m---------------------------------------------------------------------------\u001b[0m",
            "\u001b[0;31mNameError\u001b[0m                                 Traceback (most recent call last)",
            "\u001b[0;32m<ipython-input-12-8b3fd564bd85>\u001b[0m in \u001b[0;36m<module>\u001b[0;34m()\u001b[0m\n\u001b[0;32m----> 1\u001b[0;31m \u001b[0mtest_tickers\u001b[0m \u001b[0;34m=\u001b[0m \u001b[0;34m[\u001b[0m\u001b[0mt\u001b[0m \u001b[0;32mfor\u001b[0m \u001b[0mt\u001b[0m \u001b[0;32min\u001b[0m \u001b[0mnasdaq_tickers\u001b[0m \u001b[0;32mif\u001b[0m \u001b[0mt\u001b[0m \u001b[0;32mnot\u001b[0m \u001b[0;32min\u001b[0m \u001b[0msp500_tickers\u001b[0m\u001b[0;34m]\u001b[0m\u001b[0;34m\u001b[0m\u001b[0;34m\u001b[0m\u001b[0m\n\u001b[0m",
            "\u001b[0;31mNameError\u001b[0m: name 'nasdaq_tickers' is not defined"
          ]
        }
      ]
    },
    {
      "cell_type": "code",
      "source": [
        "df_val = get_preds_data(ticker = test_tickers[1], \n",
        "                        indices = indices,\n",
        "                        period = period, \n",
        "                        resolution = '1wk')"
      ],
      "metadata": {
        "id": "996j-TqcFp8n",
        "colab": {
          "base_uri": "https://localhost:8080/",
          "height": 218
        },
        "outputId": "dacb6df4-d398-4443-949f-759b4ac2886d"
      },
      "execution_count": null,
      "outputs": [
        {
          "output_type": "error",
          "ename": "NameError",
          "evalue": "ignored",
          "traceback": [
            "\u001b[0;31m---------------------------------------------------------------------------\u001b[0m",
            "\u001b[0;31mNameError\u001b[0m                                 Traceback (most recent call last)",
            "\u001b[0;32m<ipython-input-11-601df9f00474>\u001b[0m in \u001b[0;36m<module>\u001b[0;34m()\u001b[0m\n\u001b[0;32m----> 1\u001b[0;31m df_val = get_preds_data(ticker = test_tickers[1], \n\u001b[0m\u001b[1;32m      2\u001b[0m                         \u001b[0mindices\u001b[0m \u001b[0;34m=\u001b[0m \u001b[0mindices\u001b[0m\u001b[0;34m,\u001b[0m\u001b[0;34m\u001b[0m\u001b[0;34m\u001b[0m\u001b[0m\n\u001b[1;32m      3\u001b[0m                         \u001b[0mperiod\u001b[0m \u001b[0;34m=\u001b[0m \u001b[0mperiod\u001b[0m\u001b[0;34m,\u001b[0m\u001b[0;34m\u001b[0m\u001b[0;34m\u001b[0m\u001b[0m\n\u001b[1;32m      4\u001b[0m                         resolution = '1wk')\n",
            "\u001b[0;31mNameError\u001b[0m: name 'test_tickers' is not defined"
          ]
        }
      ]
    },
    {
      "cell_type": "code",
      "source": [
        ""
      ],
      "metadata": {
        "id": "r8yyynhnTwM-"
      },
      "execution_count": null,
      "outputs": []
    },
    {
      "cell_type": "code",
      "source": [
        "df_val.shape"
      ],
      "metadata": {
        "colab": {
          "base_uri": "https://localhost:8080/"
        },
        "id": "CL7Rkz_zIb3X",
        "outputId": "b15d1ccc-5cc0-4b99-ad61-a1bd3d4365ee"
      },
      "execution_count": null,
      "outputs": [
        {
          "output_type": "execute_result",
          "data": {
            "text/plain": [
              "(61, 127)"
            ]
          },
          "metadata": {},
          "execution_count": 188
        }
      ]
    },
    {
      "cell_type": "code",
      "source": [
        "df_val.drop(['week_53'],axis = 1,inplace = True)"
      ],
      "metadata": {
        "id": "x30McFykILyY"
      },
      "execution_count": null,
      "outputs": []
    },
    {
      "cell_type": "code",
      "source": [
        "y_val = np.asarray(df_val['close'])\n",
        "y_val = y_val.reshape(-1,)\n",
        "X_val = df_val.drop(['close'],axis = 1)\n",
        "X_val = np.asarray(X_val).astype('float32')"
      ],
      "metadata": {
        "id": "3DtUKMmFGiPM"
      },
      "execution_count": null,
      "outputs": []
    },
    {
      "cell_type": "code",
      "source": [
        "X_val.shape"
      ],
      "metadata": {
        "colab": {
          "base_uri": "https://localhost:8080/"
        },
        "id": "Tiz1U0_rIEri",
        "outputId": "b339ba68-f604-4f76-eee5-878fc80eca3a"
      },
      "execution_count": null,
      "outputs": [
        {
          "output_type": "execute_result",
          "data": {
            "text/plain": [
              "(61, 125)"
            ]
          },
          "metadata": {},
          "execution_count": 191
        }
      ]
    },
    {
      "cell_type": "code",
      "source": [
        "model.evaluate(X_val,y_val)"
      ],
      "metadata": {
        "colab": {
          "base_uri": "https://localhost:8080/"
        },
        "id": "YYFzKbnVHKHt",
        "outputId": "9538f501-db1c-446d-acaa-91478a81cf8e"
      },
      "execution_count": null,
      "outputs": [
        {
          "output_type": "stream",
          "name": "stdout",
          "text": [
            "2/2 [==============================] - 0s 10ms/step - loss: 20.9426 - accuracy: 0.5574\n"
          ]
        },
        {
          "output_type": "execute_result",
          "data": {
            "text/plain": [
              "[20.942596435546875, 0.5573770403862]"
            ]
          },
          "metadata": {},
          "execution_count": 192
        }
      ]
    },
    {
      "cell_type": "code",
      "source": [
        ""
      ],
      "metadata": {
        "id": "H9f-caQRJRjY"
      },
      "execution_count": null,
      "outputs": []
    }
  ],
  "metadata": {
    "colab": {
      "collapsed_sections": [],
      "name": "Data Wrangling2.ipynb",
      "provenance": [],
      "mount_file_id": "1izCa7HIK6v85uRQ4fWt_fg6DpjfidO4m",
      "authorship_tag": "ABX9TyONv5SAxVfmAx+N7wiUa3H6",
      "include_colab_link": true
    },
    "kernelspec": {
      "display_name": "Python 3",
      "name": "python3"
    },
    "language_info": {
      "name": "python"
    },
    "accelerator": "TPU"
  },
  "nbformat": 4,
  "nbformat_minor": 0
}