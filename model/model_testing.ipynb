{
  "nbformat": 4,
  "nbformat_minor": 0,
  "metadata": {
    "colab": {
      "name": "model_testing.ipynb",
      "provenance": [],
      "mount_file_id": "https://github.com/acgowda/market-flow/blob/main/model/model_testing.ipynb",
      "authorship_tag": "ABX9TyMe2hBmVDRN+b/NYqw2vbS2",
      "include_colab_link": true
    },
    "kernelspec": {
      "name": "python3",
      "display_name": "Python 3"
    },
    "language_info": {
      "name": "python"
    },
    "accelerator": "GPU"
  },
  "cells": [
    {
      "cell_type": "markdown",
      "metadata": {
        "id": "view-in-github",
        "colab_type": "text"
      },
      "source": [
        "<a href=\"https://colab.research.google.com/github/acgowda/market-flow/blob/main/model/model_testing.ipynb\" target=\"_parent\"><img src=\"https://colab.research.google.com/assets/colab-badge.svg\" alt=\"Open In Colab\"/></a>"
      ]
    },
    {
      "cell_type": "code",
      "source": [
        "import tensorflow as tf\n",
        "from tensorflow.keras import layers\n",
        "\n",
        "from sklearn.model_selection import train_test_split\n",
        "\n",
        "import numpy as np\n",
        "from matplotlib import pyplot as plt\n",
        "import pandas as pd"
      ],
      "metadata": {
        "id": "fpnC_R4IdWPf"
      },
      "execution_count": 1,
      "outputs": []
    },
    {
      "cell_type": "code",
      "execution_count": 2,
      "metadata": {
        "colab": {
          "base_uri": "https://localhost:8080/"
        },
        "id": "x_KRw1ClWWXY",
        "outputId": "0ce37ab7-d5af-4a72-ea08-2f3d17e73680"
      },
      "outputs": [
        {
          "output_type": "stream",
          "name": "stdout",
          "text": [
            "Drive already mounted at /content/drive/; to attempt to forcibly remount, call drive.mount(\"/content/drive/\", force_remount=True).\n"
          ]
        }
      ],
      "source": [
        "from google.colab import drive\n",
        "drive.mount('/content/drive/')"
      ]
    },
    {
      "cell_type": "code",
      "source": [
        "# df = pd.read_csv('/content/drive/Shareddrives/PIC 16B Project/stock_data3.csv')\n",
        "train = pd.read_csv('/content/drive/Shareddrives/PIC 16B Project/daily_train_17-22.csv')\n",
        "test = pd.read_csv('/content/drive/Shareddrives/PIC 16B Project/daily_test_2mo.csv')"
      ],
      "metadata": {
        "id": "22dL3Q80bcSX"
      },
      "execution_count": 3,
      "outputs": []
    },
    {
      "cell_type": "code",
      "source": [
        "train.head()"
      ],
      "metadata": {
        "id": "xklZQmULLHE0",
        "outputId": "6282603b-e3de-401d-c6b0-3525e8b90a09",
        "colab": {
          "base_uri": "https://localhost:8080/",
          "height": 382
        }
      },
      "execution_count": 4,
      "outputs": [
        {
          "output_type": "execute_result",
          "data": {
            "text/plain": [
              "         Date      open      high       low     close    volume       ma5  \\\n",
              "0  2019-05-15 -0.002246 -0.004708 -0.005828  0.012641  0.084964 -0.001974   \n",
              "1  2021-11-26 -0.030833 -0.057339 -0.055760  0.022795  0.445857 -0.000889   \n",
              "2  2018-11-27  0.002172  0.000866  0.002079  0.005537  0.240568 -0.002984   \n",
              "3  2021-04-30  0.004319 -0.002106 -0.000713  0.007457  0.328617 -0.005105   \n",
              "4  2017-12-20  0.004885  0.003506 -0.010445  0.014390  0.272972  0.003867   \n",
              "\n",
              "       ma20      ma60     ma200  ...  month_3  month_4  month_5  month_6  \\\n",
              "0 -0.001104  0.000575  0.000334  ...        0        0        0        0   \n",
              "1 -0.000481  0.005645  0.002421  ...        0        0        0        0   \n",
              "2  0.001689  0.000940  0.000911  ...        0        0        0        0   \n",
              "3  0.001125  0.002052  0.001222  ...        0        0        0        0   \n",
              "4  0.003885  0.001778  0.000665  ...        0        0        0        0   \n",
              "\n",
              "   month_7  month_8  month_9  month_10  month_11  month_12  \n",
              "0        0        0        0         0         0         0  \n",
              "1        0        0        0         0         0         0  \n",
              "2        0        0        0         0         0         0  \n",
              "3        0        0        0         0         0         0  \n",
              "4        0        0        0         0         0         0  \n",
              "\n",
              "[5 rows x 81 columns]"
            ],
            "text/html": [
              "\n",
              "  <div id=\"df-202f20a1-0479-4318-ab8f-47cded2bcd22\">\n",
              "    <div class=\"colab-df-container\">\n",
              "      <div>\n",
              "<style scoped>\n",
              "    .dataframe tbody tr th:only-of-type {\n",
              "        vertical-align: middle;\n",
              "    }\n",
              "\n",
              "    .dataframe tbody tr th {\n",
              "        vertical-align: top;\n",
              "    }\n",
              "\n",
              "    .dataframe thead th {\n",
              "        text-align: right;\n",
              "    }\n",
              "</style>\n",
              "<table border=\"1\" class=\"dataframe\">\n",
              "  <thead>\n",
              "    <tr style=\"text-align: right;\">\n",
              "      <th></th>\n",
              "      <th>Date</th>\n",
              "      <th>open</th>\n",
              "      <th>high</th>\n",
              "      <th>low</th>\n",
              "      <th>close</th>\n",
              "      <th>volume</th>\n",
              "      <th>ma5</th>\n",
              "      <th>ma20</th>\n",
              "      <th>ma60</th>\n",
              "      <th>ma200</th>\n",
              "      <th>...</th>\n",
              "      <th>month_3</th>\n",
              "      <th>month_4</th>\n",
              "      <th>month_5</th>\n",
              "      <th>month_6</th>\n",
              "      <th>month_7</th>\n",
              "      <th>month_8</th>\n",
              "      <th>month_9</th>\n",
              "      <th>month_10</th>\n",
              "      <th>month_11</th>\n",
              "      <th>month_12</th>\n",
              "    </tr>\n",
              "  </thead>\n",
              "  <tbody>\n",
              "    <tr>\n",
              "      <th>0</th>\n",
              "      <td>2019-05-15</td>\n",
              "      <td>-0.002246</td>\n",
              "      <td>-0.004708</td>\n",
              "      <td>-0.005828</td>\n",
              "      <td>0.012641</td>\n",
              "      <td>0.084964</td>\n",
              "      <td>-0.001974</td>\n",
              "      <td>-0.001104</td>\n",
              "      <td>0.000575</td>\n",
              "      <td>0.000334</td>\n",
              "      <td>...</td>\n",
              "      <td>0</td>\n",
              "      <td>0</td>\n",
              "      <td>0</td>\n",
              "      <td>0</td>\n",
              "      <td>0</td>\n",
              "      <td>0</td>\n",
              "      <td>0</td>\n",
              "      <td>0</td>\n",
              "      <td>0</td>\n",
              "      <td>0</td>\n",
              "    </tr>\n",
              "    <tr>\n",
              "      <th>1</th>\n",
              "      <td>2021-11-26</td>\n",
              "      <td>-0.030833</td>\n",
              "      <td>-0.057339</td>\n",
              "      <td>-0.055760</td>\n",
              "      <td>0.022795</td>\n",
              "      <td>0.445857</td>\n",
              "      <td>-0.000889</td>\n",
              "      <td>-0.000481</td>\n",
              "      <td>0.005645</td>\n",
              "      <td>0.002421</td>\n",
              "      <td>...</td>\n",
              "      <td>0</td>\n",
              "      <td>0</td>\n",
              "      <td>0</td>\n",
              "      <td>0</td>\n",
              "      <td>0</td>\n",
              "      <td>0</td>\n",
              "      <td>0</td>\n",
              "      <td>0</td>\n",
              "      <td>0</td>\n",
              "      <td>0</td>\n",
              "    </tr>\n",
              "    <tr>\n",
              "      <th>2</th>\n",
              "      <td>2018-11-27</td>\n",
              "      <td>0.002172</td>\n",
              "      <td>0.000866</td>\n",
              "      <td>0.002079</td>\n",
              "      <td>0.005537</td>\n",
              "      <td>0.240568</td>\n",
              "      <td>-0.002984</td>\n",
              "      <td>0.001689</td>\n",
              "      <td>0.000940</td>\n",
              "      <td>0.000911</td>\n",
              "      <td>...</td>\n",
              "      <td>0</td>\n",
              "      <td>0</td>\n",
              "      <td>0</td>\n",
              "      <td>0</td>\n",
              "      <td>0</td>\n",
              "      <td>0</td>\n",
              "      <td>0</td>\n",
              "      <td>0</td>\n",
              "      <td>0</td>\n",
              "      <td>0</td>\n",
              "    </tr>\n",
              "    <tr>\n",
              "      <th>3</th>\n",
              "      <td>2021-04-30</td>\n",
              "      <td>0.004319</td>\n",
              "      <td>-0.002106</td>\n",
              "      <td>-0.000713</td>\n",
              "      <td>0.007457</td>\n",
              "      <td>0.328617</td>\n",
              "      <td>-0.005105</td>\n",
              "      <td>0.001125</td>\n",
              "      <td>0.002052</td>\n",
              "      <td>0.001222</td>\n",
              "      <td>...</td>\n",
              "      <td>0</td>\n",
              "      <td>0</td>\n",
              "      <td>0</td>\n",
              "      <td>0</td>\n",
              "      <td>0</td>\n",
              "      <td>0</td>\n",
              "      <td>0</td>\n",
              "      <td>0</td>\n",
              "      <td>0</td>\n",
              "      <td>0</td>\n",
              "    </tr>\n",
              "    <tr>\n",
              "      <th>4</th>\n",
              "      <td>2017-12-20</td>\n",
              "      <td>0.004885</td>\n",
              "      <td>0.003506</td>\n",
              "      <td>-0.010445</td>\n",
              "      <td>0.014390</td>\n",
              "      <td>0.272972</td>\n",
              "      <td>0.003867</td>\n",
              "      <td>0.003885</td>\n",
              "      <td>0.001778</td>\n",
              "      <td>0.000665</td>\n",
              "      <td>...</td>\n",
              "      <td>0</td>\n",
              "      <td>0</td>\n",
              "      <td>0</td>\n",
              "      <td>0</td>\n",
              "      <td>0</td>\n",
              "      <td>0</td>\n",
              "      <td>0</td>\n",
              "      <td>0</td>\n",
              "      <td>0</td>\n",
              "      <td>0</td>\n",
              "    </tr>\n",
              "  </tbody>\n",
              "</table>\n",
              "<p>5 rows × 81 columns</p>\n",
              "</div>\n",
              "      <button class=\"colab-df-convert\" onclick=\"convertToInteractive('df-202f20a1-0479-4318-ab8f-47cded2bcd22')\"\n",
              "              title=\"Convert this dataframe to an interactive table.\"\n",
              "              style=\"display:none;\">\n",
              "        \n",
              "  <svg xmlns=\"http://www.w3.org/2000/svg\" height=\"24px\"viewBox=\"0 0 24 24\"\n",
              "       width=\"24px\">\n",
              "    <path d=\"M0 0h24v24H0V0z\" fill=\"none\"/>\n",
              "    <path d=\"M18.56 5.44l.94 2.06.94-2.06 2.06-.94-2.06-.94-.94-2.06-.94 2.06-2.06.94zm-11 1L8.5 8.5l.94-2.06 2.06-.94-2.06-.94L8.5 2.5l-.94 2.06-2.06.94zm10 10l.94 2.06.94-2.06 2.06-.94-2.06-.94-.94-2.06-.94 2.06-2.06.94z\"/><path d=\"M17.41 7.96l-1.37-1.37c-.4-.4-.92-.59-1.43-.59-.52 0-1.04.2-1.43.59L10.3 9.45l-7.72 7.72c-.78.78-.78 2.05 0 2.83L4 21.41c.39.39.9.59 1.41.59.51 0 1.02-.2 1.41-.59l7.78-7.78 2.81-2.81c.8-.78.8-2.07 0-2.86zM5.41 20L4 18.59l7.72-7.72 1.47 1.35L5.41 20z\"/>\n",
              "  </svg>\n",
              "      </button>\n",
              "      \n",
              "  <style>\n",
              "    .colab-df-container {\n",
              "      display:flex;\n",
              "      flex-wrap:wrap;\n",
              "      gap: 12px;\n",
              "    }\n",
              "\n",
              "    .colab-df-convert {\n",
              "      background-color: #E8F0FE;\n",
              "      border: none;\n",
              "      border-radius: 50%;\n",
              "      cursor: pointer;\n",
              "      display: none;\n",
              "      fill: #1967D2;\n",
              "      height: 32px;\n",
              "      padding: 0 0 0 0;\n",
              "      width: 32px;\n",
              "    }\n",
              "\n",
              "    .colab-df-convert:hover {\n",
              "      background-color: #E2EBFA;\n",
              "      box-shadow: 0px 1px 2px rgba(60, 64, 67, 0.3), 0px 1px 3px 1px rgba(60, 64, 67, 0.15);\n",
              "      fill: #174EA6;\n",
              "    }\n",
              "\n",
              "    [theme=dark] .colab-df-convert {\n",
              "      background-color: #3B4455;\n",
              "      fill: #D2E3FC;\n",
              "    }\n",
              "\n",
              "    [theme=dark] .colab-df-convert:hover {\n",
              "      background-color: #434B5C;\n",
              "      box-shadow: 0px 1px 3px 1px rgba(0, 0, 0, 0.15);\n",
              "      filter: drop-shadow(0px 1px 2px rgba(0, 0, 0, 0.3));\n",
              "      fill: #FFFFFF;\n",
              "    }\n",
              "  </style>\n",
              "\n",
              "      <script>\n",
              "        const buttonEl =\n",
              "          document.querySelector('#df-202f20a1-0479-4318-ab8f-47cded2bcd22 button.colab-df-convert');\n",
              "        buttonEl.style.display =\n",
              "          google.colab.kernel.accessAllowed ? 'block' : 'none';\n",
              "\n",
              "        async function convertToInteractive(key) {\n",
              "          const element = document.querySelector('#df-202f20a1-0479-4318-ab8f-47cded2bcd22');\n",
              "          const dataTable =\n",
              "            await google.colab.kernel.invokeFunction('convertToInteractive',\n",
              "                                                     [key], {});\n",
              "          if (!dataTable) return;\n",
              "\n",
              "          const docLinkHtml = 'Like what you see? Visit the ' +\n",
              "            '<a target=\"_blank\" href=https://colab.research.google.com/notebooks/data_table.ipynb>data table notebook</a>'\n",
              "            + ' to learn more about interactive tables.';\n",
              "          element.innerHTML = '';\n",
              "          dataTable['output_type'] = 'display_data';\n",
              "          await google.colab.output.renderOutput(dataTable, element);\n",
              "          const docLink = document.createElement('div');\n",
              "          docLink.innerHTML = docLinkHtml;\n",
              "          element.appendChild(docLink);\n",
              "        }\n",
              "      </script>\n",
              "    </div>\n",
              "  </div>\n",
              "  "
            ]
          },
          "metadata": {},
          "execution_count": 4
        }
      ]
    },
    {
      "cell_type": "code",
      "source": [
        "high_change_cols = list(train.describe().loc['max'][train.describe().loc['max'] > 10].index)\n",
        "drop_cols = ['Date'] + high_change_cols\n",
        "drop_cols"
      ],
      "metadata": {
        "id": "YGg5l7QiOPKo",
        "outputId": "b445c627-0709-4bf3-ff7b-934c4b896e49",
        "colab": {
          "base_uri": "https://localhost:8080/"
        }
      },
      "execution_count": 5,
      "outputs": [
        {
          "output_type": "execute_result",
          "data": {
            "text/plain": [
              "['Date', 'volume', '^FTSE-volume', '^FCHI-volume', 'GC=F-volume']"
            ]
          },
          "metadata": {},
          "execution_count": 5
        }
      ]
    },
    {
      "cell_type": "code",
      "source": [
        "def get_Xy(df):\n",
        "    new = df.drop(drop_cols, axis = 1)\n",
        "    new['target'] = new['close'].apply(lambda x: 1 if x > 0 else 0)\n",
        "    new = new.drop(['close'], axis = 1)\n",
        "    \n",
        "    return new.drop(columns=['target']), new['target']"
      ],
      "metadata": {
        "id": "cuD04g7HlmjK"
      },
      "execution_count": 6,
      "outputs": []
    },
    {
      "cell_type": "code",
      "source": [
        "X, y = get_Xy(train)\n",
        "\n",
        "X_train, X_val, y_train, y_val = train_test_split(X, y, stratify = y,\n",
        "                                                  random_state = 42,\n",
        "                                                  test_size = 0.3)"
      ],
      "metadata": {
        "id": "zQndmd7kOUyf"
      },
      "execution_count": 7,
      "outputs": []
    },
    {
      "cell_type": "code",
      "source": [
        "X.columns"
      ],
      "metadata": {
        "id": "xrFnpBWtL_A1",
        "outputId": "1615b77a-34d0-4113-bd02-93931992ad99",
        "colab": {
          "base_uri": "https://localhost:8080/"
        }
      },
      "execution_count": 8,
      "outputs": [
        {
          "output_type": "execute_result",
          "data": {
            "text/plain": [
              "Index(['open', 'high', 'low', 'ma5', 'ma20', 'ma60', 'ma200', '^GSPC-close',\n",
              "       '^GSPC-volume', '^GSPC-ma5', '^GSPC-ma20', '^GSPC-ma60', '^GSPC-ma200',\n",
              "       '^VIX-close', '^VIX-ma5', '^VIX-ma20', '^VIX-ma60', '^VIX-ma200',\n",
              "       '^IXIC-close', '^IXIC-volume', '^IXIC-ma5', '^IXIC-ma20', '^IXIC-ma60',\n",
              "       '^IXIC-ma200', '^DJI-close', '^DJI-volume', '^DJI-ma5', '^DJI-ma20',\n",
              "       '^DJI-ma60', '^DJI-ma200', '^HSI-close', '^HSI-volume', '^HSI-ma5',\n",
              "       '^HSI-ma20', '^HSI-ma60', '^HSI-ma200', '^FTSE-close', '^FTSE-ma5',\n",
              "       '^FTSE-ma20', '^FTSE-ma60', '^FTSE-ma200', '^FCHI-close', '^FCHI-ma5',\n",
              "       '^FCHI-ma20', '^FCHI-ma60', '^FCHI-ma200', 'GC=F-close', 'GC=F-ma5',\n",
              "       'GC=F-ma20', 'GC=F-ma60', 'GC=F-ma200', 'CL=F-close', 'CL=F-volume',\n",
              "       'CL=F-ma5', 'CL=F-ma20', 'CL=F-ma60', 'CL=F-ma200', 'day_1', 'day_2',\n",
              "       'day_3', 'day_4', 'day_5', 'month_1', 'month_2', 'month_3', 'month_4',\n",
              "       'month_5', 'month_6', 'month_7', 'month_8', 'month_9', 'month_10',\n",
              "       'month_11', 'month_12'],\n",
              "      dtype='object')"
            ]
          },
          "metadata": {},
          "execution_count": 8
        }
      ]
    },
    {
      "cell_type": "code",
      "source": [
        "X.shape"
      ],
      "metadata": {
        "id": "SgMymYA1gUxs",
        "outputId": "5a60a4a6-753c-4ccc-a029-a80934ccb92b",
        "colab": {
          "base_uri": "https://localhost:8080/"
        }
      },
      "execution_count": 9,
      "outputs": [
        {
          "output_type": "execute_result",
          "data": {
            "text/plain": [
              "(428018, 74)"
            ]
          },
          "metadata": {},
          "execution_count": 9
        }
      ]
    },
    {
      "cell_type": "code",
      "source": [
        "model = tf.keras.models.Sequential([\n",
        "    layers.Dense(128, input_shape=(74,), activation='relu'),\n",
        "    layers.BatchNormalization(),\n",
        "    layers.Dropout(0.5),\n",
        "    layers.Dense(128, activation='relu'),\n",
        "    layers.BatchNormalization(),\n",
        "    layers.Dropout(0.5),\n",
        "    layers.Dense(64, activation='relu'),\n",
        "    layers.BatchNormalization(),\n",
        "    layers.Dropout(0.5),\n",
        "    layers.Dense(2)\n",
        "])"
      ],
      "metadata": {
        "id": "8A65sAYge-D0"
      },
      "execution_count": 60,
      "outputs": []
    },
    {
      "cell_type": "code",
      "source": [
        "model.compile(optimizer = \"adam\",\n",
        "              loss = tf.keras.losses.SparseCategoricalCrossentropy(from_logits=True),\n",
        "              metrics=['accuracy'])\n",
        "\n",
        "history = model.fit(X_train, y_train,\n",
        "                    validation_data = (X_test, y_test),\n",
        "                    epochs = 10, batch_size = 64, \n",
        "                    shuffle = True, verbose=1)"
      ],
      "metadata": {
        "colab": {
          "base_uri": "https://localhost:8080/"
        },
        "id": "2iZkYG8gfbeG",
        "outputId": "f2b1d20c-190b-40b6-a3df-beeab7c79d94"
      },
      "execution_count": 61,
      "outputs": [
        {
          "output_type": "stream",
          "name": "stdout",
          "text": [
            "Epoch 1/10\n",
            "4682/4682 [==============================] - 21s 4ms/step - loss: 0.7117 - accuracy: 0.5113 - val_loss: 0.6962 - val_accuracy: 0.4651\n",
            "Epoch 2/10\n",
            "4682/4682 [==============================] - 20s 4ms/step - loss: 0.6854 - accuracy: 0.5439 - val_loss: 0.6874 - val_accuracy: 0.5419\n",
            "Epoch 3/10\n",
            "4682/4682 [==============================] - 21s 5ms/step - loss: 0.6721 - accuracy: 0.5679 - val_loss: 0.7107 - val_accuracy: 0.4820\n",
            "Epoch 4/10\n",
            "4682/4682 [==============================] - 22s 5ms/step - loss: 0.6612 - accuracy: 0.5847 - val_loss: 0.7524 - val_accuracy: 0.4797\n",
            "Epoch 5/10\n",
            "4682/4682 [==============================] - 20s 4ms/step - loss: 0.6534 - accuracy: 0.5974 - val_loss: 0.7720 - val_accuracy: 0.4812\n",
            "Epoch 6/10\n",
            "4682/4682 [==============================] - 20s 4ms/step - loss: 0.6482 - accuracy: 0.6050 - val_loss: 0.7521 - val_accuracy: 0.4695\n",
            "Epoch 7/10\n",
            "4682/4682 [==============================] - 20s 4ms/step - loss: 0.6429 - accuracy: 0.6113 - val_loss: 0.7549 - val_accuracy: 0.4917\n",
            "Epoch 8/10\n",
            "4682/4682 [==============================] - 20s 4ms/step - loss: 0.6399 - accuracy: 0.6162 - val_loss: 0.7559 - val_accuracy: 0.5038\n",
            "Epoch 9/10\n",
            "4682/4682 [==============================] - 20s 4ms/step - loss: 0.6370 - accuracy: 0.6212 - val_loss: 0.7767 - val_accuracy: 0.4767\n",
            "Epoch 10/10\n",
            "4682/4682 [==============================] - 20s 4ms/step - loss: 0.6348 - accuracy: 0.6235 - val_loss: 0.7827 - val_accuracy: 0.4941\n"
          ]
        }
      ]
    },
    {
      "cell_type": "code",
      "source": [
        "def plot_history(hist):\n",
        "    plt.plot(hist.history[\"accuracy\"], label = \"training\")\n",
        "    plt.plot(hist.history[\"val_accuracy\"], label = \"validation\")\n",
        "    plt.gca().set(xlabel = \"epoch\", ylabel = \"accuracy\")\n",
        "    plt.legend()\n",
        "    plt.show()"
      ],
      "metadata": {
        "id": "X-NxFp9S6Swd"
      },
      "execution_count": 12,
      "outputs": []
    },
    {
      "cell_type": "code",
      "source": [
        "plot_history(history)"
      ],
      "metadata": {
        "colab": {
          "base_uri": "https://localhost:8080/",
          "height": 279
        },
        "id": "Awafvdj56cE_",
        "outputId": "7e3efef4-e3e6-4a89-b960-b9082120b6e1"
      },
      "execution_count": 53,
      "outputs": [
        {
          "output_type": "display_data",
          "data": {
            "text/plain": [
              "<Figure size 432x288 with 1 Axes>"
            ],
            "image/png": "[encoded data removed]"
          },
          "metadata": {
            "needs_background": "light"
          }
        }
      ]
    },
    {
      "cell_type": "code",
      "source": [
        "test.head()"
      ],
      "metadata": {
        "id": "3lh1KX04MLvv",
        "outputId": "962e059a-a52f-47a8-f88a-510febaa3340",
        "colab": {
          "base_uri": "https://localhost:8080/",
          "height": 382
        }
      },
      "execution_count": 43,
      "outputs": [
        {
          "output_type": "execute_result",
          "data": {
            "text/plain": [
              "         Date      open      high       low     close    volume       ma5  \\\n",
              "0  2022-04-12  0.003907  0.001617  0.006849  0.009239  0.034329 -0.001325   \n",
              "1  2022-04-12  0.002190 -0.004278  0.000588  0.007450 -0.090065 -0.012964   \n",
              "2  2022-05-16  0.018544  0.034064  0.030342  0.012754  0.011737  0.015043   \n",
              "3  2022-05-19 -0.046616 -0.032033 -0.009348  0.026028  0.124463 -0.005932   \n",
              "4  2022-06-16 -0.012085 -0.007838 -0.014000  0.004648  0.014978 -0.007895   \n",
              "\n",
              "       ma20      ma60     ma200  ...  month_3  month_4  month_5  month_6  \\\n",
              "0 -0.000168 -0.003352 -0.000764  ...        0        0        0        0   \n",
              "1 -0.002295 -0.003534 -0.000513  ...        0        0        0        0   \n",
              "2  0.001381  0.002533  0.002596  ...        0        0        0        0   \n",
              "3 -0.006329 -0.003017 -0.001846  ...        0        0        0        0   \n",
              "4 -0.001115  0.000910  0.000517  ...        0        0        0        0   \n",
              "\n",
              "   month_7  month_8  month_9  month_10  month_11  month_12  \n",
              "0        0        0        0         0         0         0  \n",
              "1        0        0        0         0         0         0  \n",
              "2        0        0        0         0         0         0  \n",
              "3        0        0        0         0         0         0  \n",
              "4        0        0        0         0         0         0  \n",
              "\n",
              "[5 rows x 81 columns]"
            ],
            "text/html": [
              "\n",
              "  <div id=\"df-3d99028b-32ff-467a-8084-ac75827aae8f\">\n",
              "    <div class=\"colab-df-container\">\n",
              "      <div>\n",
              "<style scoped>\n",
              "    .dataframe tbody tr th:only-of-type {\n",
              "        vertical-align: middle;\n",
              "    }\n",
              "\n",
              "    .dataframe tbody tr th {\n",
              "        vertical-align: top;\n",
              "    }\n",
              "\n",
              "    .dataframe thead th {\n",
              "        text-align: right;\n",
              "    }\n",
              "</style>\n",
              "<table border=\"1\" class=\"dataframe\">\n",
              "  <thead>\n",
              "    <tr style=\"text-align: right;\">\n",
              "      <th></th>\n",
              "      <th>Date</th>\n",
              "      <th>open</th>\n",
              "      <th>high</th>\n",
              "      <th>low</th>\n",
              "      <th>close</th>\n",
              "      <th>volume</th>\n",
              "      <th>ma5</th>\n",
              "      <th>ma20</th>\n",
              "      <th>ma60</th>\n",
              "      <th>ma200</th>\n",
              "      <th>...</th>\n",
              "      <th>month_3</th>\n",
              "      <th>month_4</th>\n",
              "      <th>month_5</th>\n",
              "      <th>month_6</th>\n",
              "      <th>month_7</th>\n",
              "      <th>month_8</th>\n",
              "      <th>month_9</th>\n",
              "      <th>month_10</th>\n",
              "      <th>month_11</th>\n",
              "      <th>month_12</th>\n",
              "    </tr>\n",
              "  </thead>\n",
              "  <tbody>\n",
              "    <tr>\n",
              "      <th>0</th>\n",
              "      <td>2022-04-12</td>\n",
              "      <td>0.003907</td>\n",
              "      <td>0.001617</td>\n",
              "      <td>0.006849</td>\n",
              "      <td>0.009239</td>\n",
              "      <td>0.034329</td>\n",
              "      <td>-0.001325</td>\n",
              "      <td>-0.000168</td>\n",
              "      <td>-0.003352</td>\n",
              "      <td>-0.000764</td>\n",
              "      <td>...</td>\n",
              "      <td>0</td>\n",
              "      <td>0</td>\n",
              "      <td>0</td>\n",
              "      <td>0</td>\n",
              "      <td>0</td>\n",
              "      <td>0</td>\n",
              "      <td>0</td>\n",
              "      <td>0</td>\n",
              "      <td>0</td>\n",
              "      <td>0</td>\n",
              "    </tr>\n",
              "    <tr>\n",
              "      <th>1</th>\n",
              "      <td>2022-04-12</td>\n",
              "      <td>0.002190</td>\n",
              "      <td>-0.004278</td>\n",
              "      <td>0.000588</td>\n",
              "      <td>0.007450</td>\n",
              "      <td>-0.090065</td>\n",
              "      <td>-0.012964</td>\n",
              "      <td>-0.002295</td>\n",
              "      <td>-0.003534</td>\n",
              "      <td>-0.000513</td>\n",
              "      <td>...</td>\n",
              "      <td>0</td>\n",
              "      <td>0</td>\n",
              "      <td>0</td>\n",
              "      <td>0</td>\n",
              "      <td>0</td>\n",
              "      <td>0</td>\n",
              "      <td>0</td>\n",
              "      <td>0</td>\n",
              "      <td>0</td>\n",
              "      <td>0</td>\n",
              "    </tr>\n",
              "    <tr>\n",
              "      <th>2</th>\n",
              "      <td>2022-05-16</td>\n",
              "      <td>0.018544</td>\n",
              "      <td>0.034064</td>\n",
              "      <td>0.030342</td>\n",
              "      <td>0.012754</td>\n",
              "      <td>0.011737</td>\n",
              "      <td>0.015043</td>\n",
              "      <td>0.001381</td>\n",
              "      <td>0.002533</td>\n",
              "      <td>0.002596</td>\n",
              "      <td>...</td>\n",
              "      <td>0</td>\n",
              "      <td>0</td>\n",
              "      <td>0</td>\n",
              "      <td>0</td>\n",
              "      <td>0</td>\n",
              "      <td>0</td>\n",
              "      <td>0</td>\n",
              "      <td>0</td>\n",
              "      <td>0</td>\n",
              "      <td>0</td>\n",
              "    </tr>\n",
              "    <tr>\n",
              "      <th>3</th>\n",
              "      <td>2022-05-19</td>\n",
              "      <td>-0.046616</td>\n",
              "      <td>-0.032033</td>\n",
              "      <td>-0.009348</td>\n",
              "      <td>0.026028</td>\n",
              "      <td>0.124463</td>\n",
              "      <td>-0.005932</td>\n",
              "      <td>-0.006329</td>\n",
              "      <td>-0.003017</td>\n",
              "      <td>-0.001846</td>\n",
              "      <td>...</td>\n",
              "      <td>0</td>\n",
              "      <td>0</td>\n",
              "      <td>0</td>\n",
              "      <td>0</td>\n",
              "      <td>0</td>\n",
              "      <td>0</td>\n",
              "      <td>0</td>\n",
              "      <td>0</td>\n",
              "      <td>0</td>\n",
              "      <td>0</td>\n",
              "    </tr>\n",
              "    <tr>\n",
              "      <th>4</th>\n",
              "      <td>2022-06-16</td>\n",
              "      <td>-0.012085</td>\n",
              "      <td>-0.007838</td>\n",
              "      <td>-0.014000</td>\n",
              "      <td>0.004648</td>\n",
              "      <td>0.014978</td>\n",
              "      <td>-0.007895</td>\n",
              "      <td>-0.001115</td>\n",
              "      <td>0.000910</td>\n",
              "      <td>0.000517</td>\n",
              "      <td>...</td>\n",
              "      <td>0</td>\n",
              "      <td>0</td>\n",
              "      <td>0</td>\n",
              "      <td>0</td>\n",
              "      <td>0</td>\n",
              "      <td>0</td>\n",
              "      <td>0</td>\n",
              "      <td>0</td>\n",
              "      <td>0</td>\n",
              "      <td>0</td>\n",
              "    </tr>\n",
              "  </tbody>\n",
              "</table>\n",
              "<p>5 rows × 81 columns</p>\n",
              "</div>\n",
              "      <button class=\"colab-df-convert\" onclick=\"convertToInteractive('df-3d99028b-32ff-467a-8084-ac75827aae8f')\"\n",
              "              title=\"Convert this dataframe to an interactive table.\"\n",
              "              style=\"display:none;\">\n",
              "        \n",
              "  <svg xmlns=\"http://www.w3.org/2000/svg\" height=\"24px\"viewBox=\"0 0 24 24\"\n",
              "       width=\"24px\">\n",
              "    <path d=\"M0 0h24v24H0V0z\" fill=\"none\"/>\n",
              "    <path d=\"M18.56 5.44l.94 2.06.94-2.06 2.06-.94-2.06-.94-.94-2.06-.94 2.06-2.06.94zm-11 1L8.5 8.5l.94-2.06 2.06-.94-2.06-.94L8.5 2.5l-.94 2.06-2.06.94zm10 10l.94 2.06.94-2.06 2.06-.94-2.06-.94-.94-2.06-.94 2.06-2.06.94z\"/><path d=\"M17.41 7.96l-1.37-1.37c-.4-.4-.92-.59-1.43-.59-.52 0-1.04.2-1.43.59L10.3 9.45l-7.72 7.72c-.78.78-.78 2.05 0 2.83L4 21.41c.39.39.9.59 1.41.59.51 0 1.02-.2 1.41-.59l7.78-7.78 2.81-2.81c.8-.78.8-2.07 0-2.86zM5.41 20L4 18.59l7.72-7.72 1.47 1.35L5.41 20z\"/>\n",
              "  </svg>\n",
              "      </button>\n",
              "      \n",
              "  <style>\n",
              "    .colab-df-container {\n",
              "      display:flex;\n",
              "      flex-wrap:wrap;\n",
              "      gap: 12px;\n",
              "    }\n",
              "\n",
              "    .colab-df-convert {\n",
              "      background-color: #E8F0FE;\n",
              "      border: none;\n",
              "      border-radius: 50%;\n",
              "      cursor: pointer;\n",
              "      display: none;\n",
              "      fill: #1967D2;\n",
              "      height: 32px;\n",
              "      padding: 0 0 0 0;\n",
              "      width: 32px;\n",
              "    }\n",
              "\n",
              "    .colab-df-convert:hover {\n",
              "      background-color: #E2EBFA;\n",
              "      box-shadow: 0px 1px 2px rgba(60, 64, 67, 0.3), 0px 1px 3px 1px rgba(60, 64, 67, 0.15);\n",
              "      fill: #174EA6;\n",
              "    }\n",
              "\n",
              "    [theme=dark] .colab-df-convert {\n",
              "      background-color: #3B4455;\n",
              "      fill: #D2E3FC;\n",
              "    }\n",
              "\n",
              "    [theme=dark] .colab-df-convert:hover {\n",
              "      background-color: #434B5C;\n",
              "      box-shadow: 0px 1px 3px 1px rgba(0, 0, 0, 0.15);\n",
              "      filter: drop-shadow(0px 1px 2px rgba(0, 0, 0, 0.3));\n",
              "      fill: #FFFFFF;\n",
              "    }\n",
              "  </style>\n",
              "\n",
              "      <script>\n",
              "        const buttonEl =\n",
              "          document.querySelector('#df-3d99028b-32ff-467a-8084-ac75827aae8f button.colab-df-convert');\n",
              "        buttonEl.style.display =\n",
              "          google.colab.kernel.accessAllowed ? 'block' : 'none';\n",
              "\n",
              "        async function convertToInteractive(key) {\n",
              "          const element = document.querySelector('#df-3d99028b-32ff-467a-8084-ac75827aae8f');\n",
              "          const dataTable =\n",
              "            await google.colab.kernel.invokeFunction('convertToInteractive',\n",
              "                                                     [key], {});\n",
              "          if (!dataTable) return;\n",
              "\n",
              "          const docLinkHtml = 'Like what you see? Visit the ' +\n",
              "            '<a target=\"_blank\" href=https://colab.research.google.com/notebooks/data_table.ipynb>data table notebook</a>'\n",
              "            + ' to learn more about interactive tables.';\n",
              "          element.innerHTML = '';\n",
              "          dataTable['output_type'] = 'display_data';\n",
              "          await google.colab.output.renderOutput(dataTable, element);\n",
              "          const docLink = document.createElement('div');\n",
              "          docLink.innerHTML = docLinkHtml;\n",
              "          element.appendChild(docLink);\n",
              "        }\n",
              "      </script>\n",
              "    </div>\n",
              "  </div>\n",
              "  "
            ]
          },
          "metadata": {},
          "execution_count": 43
        }
      ]
    },
    {
      "cell_type": "code",
      "source": [
        "X_test, y_test = get_Xy(test)"
      ],
      "metadata": {
        "id": "gnHGfJNLJNjr"
      },
      "execution_count": 49,
      "outputs": []
    },
    {
      "cell_type": "code",
      "source": [
        "loss, accuracy = model.evaluate(X_test, y_test)\n",
        "print('Test accuracy :', accuracy)"
      ],
      "metadata": {
        "colab": {
          "base_uri": "https://localhost:8080/"
        },
        "id": "grSbRGiI-t_v",
        "outputId": "1dc619d9-5710-44fb-93df-c464ec93be8f"
      },
      "execution_count": 54,
      "outputs": [
        {
          "output_type": "stream",
          "name": "stdout",
          "text": [
            "552/552 [==============================] - 1s 2ms/step - loss: 0.7459 - accuracy: 0.5179\n",
            "Test accuracy : 0.5178976058959961\n"
          ]
        }
      ]
    },
    {
      "cell_type": "code",
      "source": [
        "model.save('/content/drive/Shareddrives/PIC 16B Project/model_week')"
      ],
      "metadata": {
        "id": "2mwi35FFScEa",
        "outputId": "e600860a-999e-496f-d5ff-c26a6a8526a2",
        "colab": {
          "base_uri": "https://localhost:8080/"
        }
      },
      "execution_count": null,
      "outputs": [
        {
          "output_type": "stream",
          "name": "stdout",
          "text": [
            "INFO:tensorflow:Assets written to: /content/drive/Shareddrives/PIC 16B Project/model_week/assets\n"
          ]
        }
      ]
    }
  ]
}