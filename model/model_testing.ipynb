{
  "nbformat": 4,
  "nbformat_minor": 0,
  "metadata": {
    "colab": {
      "name": "model_testing.ipynb",
      "provenance": [],
      "authorship_tag": "ABX9TyNdYYB8lTY8DU3hRNKlVwMh",
      "include_colab_link": true
    },
    "kernelspec": {
      "name": "python3",
      "display_name": "Python 3"
    },
    "language_info": {
      "name": "python"
    },
    "accelerator": "GPU"
  },
  "cells": [
    {
      "cell_type": "markdown",
      "metadata": {
        "id": "view-in-github",
        "colab_type": "text"
      },
      "source": [
        "<a href=\"https://colab.research.google.com/github/acgowda/market-flow/blob/main/model/model_testing.ipynb\" target=\"_parent\"><img src=\"https://colab.research.google.com/assets/colab-badge.svg\" alt=\"Open In Colab\"/></a>"
      ]
    },
    {
      "cell_type": "code",
      "source": [
        "import tensorflow as tf\n",
        "from tensorflow.keras import layers\n",
        "\n",
        "from sklearn.model_selection import train_test_split\n",
        "\n",
        "import numpy as np\n",
        "from matplotlib import pyplot as plt\n",
        "import pandas as pd"
      ],
      "metadata": {
        "id": "fpnC_R4IdWPf"
      },
      "execution_count": 7,
      "outputs": []
    },
    {
      "cell_type": "code",
      "execution_count": 8,
      "metadata": {
        "colab": {
          "base_uri": "https://localhost:8080/"
        },
        "id": "x_KRw1ClWWXY",
        "outputId": "33d79789-4f49-4607-ade3-d014f313785f"
      },
      "outputs": [
        {
          "output_type": "stream",
          "name": "stdout",
          "text": [
            "Drive already mounted at /content/drive/; to attempt to forcibly remount, call drive.mount(\"/content/drive/\", force_remount=True).\n"
          ]
        }
      ],
      "source": [
        "from google.colab import drive\n",
        "drive.mount('/content/drive/')"
      ]
    },
    {
      "cell_type": "code",
      "source": [
        "# df = pd.read_csv('/content/drive/Shareddrives/PIC 16B Project/stock_data3.csv')\n",
        "df = pd.read_csv('/content/drive/Shareddrives/PIC 16B Project/weekly_stock_data4.csv')\n",
        "df.head()"
      ],
      "metadata": {
        "id": "22dL3Q80bcSX",
        "colab": {
          "base_uri": "https://localhost:8080/",
          "height": 399
        },
        "outputId": "c25184ea-d81f-465b-f275-831ea4bee5c1"
      },
      "execution_count": 22,
      "outputs": [
        {
          "output_type": "execute_result",
          "data": {
            "text/plain": [
              "         Date      open      high       low  close    volume       ma4  \\\n",
              "0  2020-05-11 -0.046358 -0.086602 -0.144796    1.0  0.833677 -0.020976   \n",
              "1  2020-03-02 -0.081929 -0.023429  0.042318    0.0  0.169067 -0.008085   \n",
              "2  2022-02-07  0.057884  0.044082  0.060046    0.0 -0.039859 -0.021680   \n",
              "3  2022-03-28  0.014184  0.043588  0.015635    0.0 -0.003532  0.021874   \n",
              "4  2020-07-20  0.040920  0.011185  0.048317    0.0 -0.169984 -0.011515   \n",
              "\n",
              "       ma21      ma52  ^GSPC-close  ...  month_11  month_12  month_2  month_3  \\\n",
              "0 -0.041928 -0.016598    -0.022561  ...         0         0        0        0   \n",
              "1  0.010951  0.008829     0.006144  ...         0         0        0        1   \n",
              "2  0.006230  0.004645    -0.018196  ...         0         0        1        0   \n",
              "3 -0.016288 -0.003028     0.000616  ...         0         0        0        1   \n",
              "4 -0.006362 -0.007315    -0.002822  ...         0         0        0        0   \n",
              "\n",
              "   month_4  month_5  month_6  month_7  month_8  month_9  \n",
              "0        0        1        0        0        0        0  \n",
              "1        0        0        0        0        0        0  \n",
              "2        0        0        0        0        0        0  \n",
              "3        0        0        0        0        0        0  \n",
              "4        0        0        0        1        0        0  \n",
              "\n",
              "[5 rows x 65 columns]"
            ],
            "text/html": [
              "\n",
              "  <div id=\"df-968f7ba7-1054-49b5-aadb-b45521ac9732\">\n",
              "    <div class=\"colab-df-container\">\n",
              "      <div>\n",
              "<style scoped>\n",
              "    .dataframe tbody tr th:only-of-type {\n",
              "        vertical-align: middle;\n",
              "    }\n",
              "\n",
              "    .dataframe tbody tr th {\n",
              "        vertical-align: top;\n",
              "    }\n",
              "\n",
              "    .dataframe thead th {\n",
              "        text-align: right;\n",
              "    }\n",
              "</style>\n",
              "<table border=\"1\" class=\"dataframe\">\n",
              "  <thead>\n",
              "    <tr style=\"text-align: right;\">\n",
              "      <th></th>\n",
              "      <th>Date</th>\n",
              "      <th>open</th>\n",
              "      <th>high</th>\n",
              "      <th>low</th>\n",
              "      <th>close</th>\n",
              "      <th>volume</th>\n",
              "      <th>ma4</th>\n",
              "      <th>ma21</th>\n",
              "      <th>ma52</th>\n",
              "      <th>^GSPC-close</th>\n",
              "      <th>...</th>\n",
              "      <th>month_11</th>\n",
              "      <th>month_12</th>\n",
              "      <th>month_2</th>\n",
              "      <th>month_3</th>\n",
              "      <th>month_4</th>\n",
              "      <th>month_5</th>\n",
              "      <th>month_6</th>\n",
              "      <th>month_7</th>\n",
              "      <th>month_8</th>\n",
              "      <th>month_9</th>\n",
              "    </tr>\n",
              "  </thead>\n",
              "  <tbody>\n",
              "    <tr>\n",
              "      <th>0</th>\n",
              "      <td>2020-05-11</td>\n",
              "      <td>-0.046358</td>\n",
              "      <td>-0.086602</td>\n",
              "      <td>-0.144796</td>\n",
              "      <td>1.0</td>\n",
              "      <td>0.833677</td>\n",
              "      <td>-0.020976</td>\n",
              "      <td>-0.041928</td>\n",
              "      <td>-0.016598</td>\n",
              "      <td>-0.022561</td>\n",
              "      <td>...</td>\n",
              "      <td>0</td>\n",
              "      <td>0</td>\n",
              "      <td>0</td>\n",
              "      <td>0</td>\n",
              "      <td>0</td>\n",
              "      <td>1</td>\n",
              "      <td>0</td>\n",
              "      <td>0</td>\n",
              "      <td>0</td>\n",
              "      <td>0</td>\n",
              "    </tr>\n",
              "    <tr>\n",
              "      <th>1</th>\n",
              "      <td>2020-03-02</td>\n",
              "      <td>-0.081929</td>\n",
              "      <td>-0.023429</td>\n",
              "      <td>0.042318</td>\n",
              "      <td>0.0</td>\n",
              "      <td>0.169067</td>\n",
              "      <td>-0.008085</td>\n",
              "      <td>0.010951</td>\n",
              "      <td>0.008829</td>\n",
              "      <td>0.006144</td>\n",
              "      <td>...</td>\n",
              "      <td>0</td>\n",
              "      <td>0</td>\n",
              "      <td>0</td>\n",
              "      <td>1</td>\n",
              "      <td>0</td>\n",
              "      <td>0</td>\n",
              "      <td>0</td>\n",
              "      <td>0</td>\n",
              "      <td>0</td>\n",
              "      <td>0</td>\n",
              "    </tr>\n",
              "    <tr>\n",
              "      <th>2</th>\n",
              "      <td>2022-02-07</td>\n",
              "      <td>0.057884</td>\n",
              "      <td>0.044082</td>\n",
              "      <td>0.060046</td>\n",
              "      <td>0.0</td>\n",
              "      <td>-0.039859</td>\n",
              "      <td>-0.021680</td>\n",
              "      <td>0.006230</td>\n",
              "      <td>0.004645</td>\n",
              "      <td>-0.018196</td>\n",
              "      <td>...</td>\n",
              "      <td>0</td>\n",
              "      <td>0</td>\n",
              "      <td>1</td>\n",
              "      <td>0</td>\n",
              "      <td>0</td>\n",
              "      <td>0</td>\n",
              "      <td>0</td>\n",
              "      <td>0</td>\n",
              "      <td>0</td>\n",
              "      <td>0</td>\n",
              "    </tr>\n",
              "    <tr>\n",
              "      <th>3</th>\n",
              "      <td>2022-03-28</td>\n",
              "      <td>0.014184</td>\n",
              "      <td>0.043588</td>\n",
              "      <td>0.015635</td>\n",
              "      <td>0.0</td>\n",
              "      <td>-0.003532</td>\n",
              "      <td>0.021874</td>\n",
              "      <td>-0.016288</td>\n",
              "      <td>-0.003028</td>\n",
              "      <td>0.000616</td>\n",
              "      <td>...</td>\n",
              "      <td>0</td>\n",
              "      <td>0</td>\n",
              "      <td>0</td>\n",
              "      <td>1</td>\n",
              "      <td>0</td>\n",
              "      <td>0</td>\n",
              "      <td>0</td>\n",
              "      <td>0</td>\n",
              "      <td>0</td>\n",
              "      <td>0</td>\n",
              "    </tr>\n",
              "    <tr>\n",
              "      <th>4</th>\n",
              "      <td>2020-07-20</td>\n",
              "      <td>0.040920</td>\n",
              "      <td>0.011185</td>\n",
              "      <td>0.048317</td>\n",
              "      <td>0.0</td>\n",
              "      <td>-0.169984</td>\n",
              "      <td>-0.011515</td>\n",
              "      <td>-0.006362</td>\n",
              "      <td>-0.007315</td>\n",
              "      <td>-0.002822</td>\n",
              "      <td>...</td>\n",
              "      <td>0</td>\n",
              "      <td>0</td>\n",
              "      <td>0</td>\n",
              "      <td>0</td>\n",
              "      <td>0</td>\n",
              "      <td>0</td>\n",
              "      <td>0</td>\n",
              "      <td>1</td>\n",
              "      <td>0</td>\n",
              "      <td>0</td>\n",
              "    </tr>\n",
              "  </tbody>\n",
              "</table>\n",
              "<p>5 rows × 65 columns</p>\n",
              "</div>\n",
              "      <button class=\"colab-df-convert\" onclick=\"convertToInteractive('df-968f7ba7-1054-49b5-aadb-b45521ac9732')\"\n",
              "              title=\"Convert this dataframe to an interactive table.\"\n",
              "              style=\"display:none;\">\n",
              "        \n",
              "  <svg xmlns=\"http://www.w3.org/2000/svg\" height=\"24px\"viewBox=\"0 0 24 24\"\n",
              "       width=\"24px\">\n",
              "    <path d=\"M0 0h24v24H0V0z\" fill=\"none\"/>\n",
              "    <path d=\"M18.56 5.44l.94 2.06.94-2.06 2.06-.94-2.06-.94-.94-2.06-.94 2.06-2.06.94zm-11 1L8.5 8.5l.94-2.06 2.06-.94-2.06-.94L8.5 2.5l-.94 2.06-2.06.94zm10 10l.94 2.06.94-2.06 2.06-.94-2.06-.94-.94-2.06-.94 2.06-2.06.94z\"/><path d=\"M17.41 7.96l-1.37-1.37c-.4-.4-.92-.59-1.43-.59-.52 0-1.04.2-1.43.59L10.3 9.45l-7.72 7.72c-.78.78-.78 2.05 0 2.83L4 21.41c.39.39.9.59 1.41.59.51 0 1.02-.2 1.41-.59l7.78-7.78 2.81-2.81c.8-.78.8-2.07 0-2.86zM5.41 20L4 18.59l7.72-7.72 1.47 1.35L5.41 20z\"/>\n",
              "  </svg>\n",
              "      </button>\n",
              "      \n",
              "  <style>\n",
              "    .colab-df-container {\n",
              "      display:flex;\n",
              "      flex-wrap:wrap;\n",
              "      gap: 12px;\n",
              "    }\n",
              "\n",
              "    .colab-df-convert {\n",
              "      background-color: #E8F0FE;\n",
              "      border: none;\n",
              "      border-radius: 50%;\n",
              "      cursor: pointer;\n",
              "      display: none;\n",
              "      fill: #1967D2;\n",
              "      height: 32px;\n",
              "      padding: 0 0 0 0;\n",
              "      width: 32px;\n",
              "    }\n",
              "\n",
              "    .colab-df-convert:hover {\n",
              "      background-color: #E2EBFA;\n",
              "      box-shadow: 0px 1px 2px rgba(60, 64, 67, 0.3), 0px 1px 3px 1px rgba(60, 64, 67, 0.15);\n",
              "      fill: #174EA6;\n",
              "    }\n",
              "\n",
              "    [theme=dark] .colab-df-convert {\n",
              "      background-color: #3B4455;\n",
              "      fill: #D2E3FC;\n",
              "    }\n",
              "\n",
              "    [theme=dark] .colab-df-convert:hover {\n",
              "      background-color: #434B5C;\n",
              "      box-shadow: 0px 1px 3px 1px rgba(0, 0, 0, 0.15);\n",
              "      filter: drop-shadow(0px 1px 2px rgba(0, 0, 0, 0.3));\n",
              "      fill: #FFFFFF;\n",
              "    }\n",
              "  </style>\n",
              "\n",
              "      <script>\n",
              "        const buttonEl =\n",
              "          document.querySelector('#df-968f7ba7-1054-49b5-aadb-b45521ac9732 button.colab-df-convert');\n",
              "        buttonEl.style.display =\n",
              "          google.colab.kernel.accessAllowed ? 'block' : 'none';\n",
              "\n",
              "        async function convertToInteractive(key) {\n",
              "          const element = document.querySelector('#df-968f7ba7-1054-49b5-aadb-b45521ac9732');\n",
              "          const dataTable =\n",
              "            await google.colab.kernel.invokeFunction('convertToInteractive',\n",
              "                                                     [key], {});\n",
              "          if (!dataTable) return;\n",
              "\n",
              "          const docLinkHtml = 'Like what you see? Visit the ' +\n",
              "            '<a target=\"_blank\" href=https://colab.research.google.com/notebooks/data_table.ipynb>data table notebook</a>'\n",
              "            + ' to learn more about interactive tables.';\n",
              "          element.innerHTML = '';\n",
              "          dataTable['output_type'] = 'display_data';\n",
              "          await google.colab.output.renderOutput(dataTable, element);\n",
              "          const docLink = document.createElement('div');\n",
              "          docLink.innerHTML = docLinkHtml;\n",
              "          element.appendChild(docLink);\n",
              "        }\n",
              "      </script>\n",
              "    </div>\n",
              "  </div>\n",
              "  "
            ]
          },
          "metadata": {},
          "execution_count": 22
        }
      ]
    },
    {
      "cell_type": "code",
      "source": [
        "df.columns"
      ],
      "metadata": {
        "id": "xklZQmULLHE0",
        "outputId": "c29eea13-4733-4426-84e3-b59aa6cd5c34",
        "colab": {
          "base_uri": "https://localhost:8080/"
        }
      },
      "execution_count": 23,
      "outputs": [
        {
          "output_type": "execute_result",
          "data": {
            "text/plain": [
              "Index(['Date', 'open', 'high', 'low', 'close', 'volume', 'ma4', 'ma21', 'ma52',\n",
              "       '^GSPC-close', '^GSPC-volume', '^GSPC-ma4', '^GSPC-ma21', '^GSPC-ma52',\n",
              "       '^VIX-close', '^VIX-ma4', '^VIX-ma21', '^VIX-ma52', '^IXIC-close',\n",
              "       '^IXIC-volume', '^IXIC-ma4', '^IXIC-ma21', '^IXIC-ma52', '^DJI-close',\n",
              "       '^DJI-volume', '^DJI-ma4', '^DJI-ma21', '^DJI-ma52', '^HSI-close',\n",
              "       '^HSI-volume', '^HSI-ma4', '^HSI-ma21', '^HSI-ma52', '^FTSE-close',\n",
              "       '^FTSE-volume', '^FTSE-ma4', '^FTSE-ma21', '^FTSE-ma52', '^FCHI-close',\n",
              "       '^FCHI-volume', '^FCHI-ma4', '^FCHI-ma21', '^FCHI-ma52', 'GC=F-close',\n",
              "       'GC=F-volume', 'GC=F-ma4', 'GC=F-ma21', 'GC=F-ma52', 'CL=F-close',\n",
              "       'CL=F-volume', 'CL=F-ma4', 'CL=F-ma21', 'CL=F-ma52', 'month_1',\n",
              "       'month_10', 'month_11', 'month_12', 'month_2', 'month_3', 'month_4',\n",
              "       'month_5', 'month_6', 'month_7', 'month_8', 'month_9'],\n",
              "      dtype='object')"
            ]
          },
          "metadata": {},
          "execution_count": 23
        }
      ]
    },
    {
      "cell_type": "code",
      "source": [
        "high_change_cols = list(df.describe().loc['max'][df.describe().loc['max'] > 10].index)\n",
        "high_change_cols"
      ],
      "metadata": {
        "id": "YGg5l7QiOPKo",
        "outputId": "7e5ace33-6dac-4ce1-e372-13a9eb17f64f",
        "colab": {
          "base_uri": "https://localhost:8080/"
        }
      },
      "execution_count": 33,
      "outputs": [
        {
          "output_type": "execute_result",
          "data": {
            "text/plain": [
              "['volume', 'GC=F-volume']"
            ]
          },
          "metadata": {},
          "execution_count": 33
        }
      ]
    },
    {
      "cell_type": "code",
      "source": [
        "df = df.drop(['Date'], axis = 1)"
      ],
      "metadata": {
        "id": "cuD04g7HlmjK"
      },
      "execution_count": 24,
      "outputs": []
    },
    {
      "cell_type": "code",
      "source": [
        "df2 = df.drop(high_change_cols, axis = 1)"
      ],
      "metadata": {
        "id": "zQndmd7kOUyf"
      },
      "execution_count": 34,
      "outputs": []
    },
    {
      "cell_type": "code",
      "source": [
        "df2.shape"
      ],
      "metadata": {
        "id": "xrFnpBWtL_A1",
        "outputId": "cc8c59a3-44ac-4b57-e395-cf38e19b36b3",
        "colab": {
          "base_uri": "https://localhost:8080/"
        }
      },
      "execution_count": 35,
      "outputs": [
        {
          "output_type": "execute_result",
          "data": {
            "text/plain": [
              "(93212, 62)"
            ]
          },
          "metadata": {},
          "execution_count": 35
        }
      ]
    },
    {
      "cell_type": "code",
      "source": [
        "X = df2.drop(columns=['close'])\n",
        "y = df2['close']\n",
        "\n",
        "X_train, X_test, y_train, y_test = train_test_split(X, y, test_size = 0.3)"
      ],
      "metadata": {
        "id": "52KXCmSMhqpx"
      },
      "execution_count": 36,
      "outputs": []
    },
    {
      "cell_type": "code",
      "source": [
        "model2 = tf.keras.models.Sequential([\n",
        "    layers.Dense(128, input_shape=(61,), activation='relu'),\n",
        "    layers.Dropout(0.2),\n",
        "    layers.Dense(128, activation='relu'),\n",
        "    layers.Dropout(0.2),\n",
        "    layers.Dense(64, activation='relu'),\n",
        "    layers.Dropout(0.2),\n",
        "    layers.Dense(2)\n",
        "])"
      ],
      "metadata": {
        "id": "8A65sAYge-D0"
      },
      "execution_count": 37,
      "outputs": []
    },
    {
      "cell_type": "code",
      "source": [
        "model2.compile(optimizer = \"adam\",\n",
        "              loss = tf.keras.losses.SparseCategoricalCrossentropy(from_logits=True),\n",
        "              metrics=['accuracy'])\n",
        "\n",
        "history2 = model2.fit(X_train, y_train, epochs=30, batch_size = 64, \n",
        "                    shuffle = True, verbose=1)"
      ],
      "metadata": {
        "colab": {
          "base_uri": "https://localhost:8080/"
        },
        "id": "2iZkYG8gfbeG",
        "outputId": "393dc277-725f-419b-e74c-30d2e03bd068"
      },
      "execution_count": 38,
      "outputs": [
        {
          "output_type": "stream",
          "name": "stdout",
          "text": [
            "Epoch 1/30\n",
            "1020/1020 [==============================] - 3s 3ms/step - loss: 0.6382 - accuracy: 0.6266\n",
            "Epoch 2/30\n",
            "1020/1020 [==============================] - 3s 3ms/step - loss: 0.5930 - accuracy: 0.6763\n",
            "Epoch 3/30\n",
            "1020/1020 [==============================] - 3s 3ms/step - loss: 0.5804 - accuracy: 0.6852\n",
            "Epoch 4/30\n",
            "1020/1020 [==============================] - 3s 3ms/step - loss: 0.5767 - accuracy: 0.6895\n",
            "Epoch 5/30\n",
            "1020/1020 [==============================] - 3s 3ms/step - loss: 0.5726 - accuracy: 0.6916\n",
            "Epoch 6/30\n",
            "1020/1020 [==============================] - 3s 3ms/step - loss: 0.5701 - accuracy: 0.6953\n",
            "Epoch 7/30\n",
            "1020/1020 [==============================] - 3s 3ms/step - loss: 0.5673 - accuracy: 0.6953\n",
            "Epoch 8/30\n",
            "1020/1020 [==============================] - 3s 3ms/step - loss: 0.5668 - accuracy: 0.6970\n",
            "Epoch 9/30\n",
            "1020/1020 [==============================] - 3s 3ms/step - loss: 0.5650 - accuracy: 0.6960\n",
            "Epoch 10/30\n",
            "1020/1020 [==============================] - 3s 3ms/step - loss: 0.5637 - accuracy: 0.6981\n",
            "Epoch 11/30\n",
            "1020/1020 [==============================] - 3s 3ms/step - loss: 0.5621 - accuracy: 0.7006\n",
            "Epoch 12/30\n",
            "1020/1020 [==============================] - 3s 3ms/step - loss: 0.5619 - accuracy: 0.6988\n",
            "Epoch 13/30\n",
            "1020/1020 [==============================] - 3s 3ms/step - loss: 0.5600 - accuracy: 0.7019\n",
            "Epoch 14/30\n",
            "1020/1020 [==============================] - 3s 3ms/step - loss: 0.5605 - accuracy: 0.7028\n",
            "Epoch 15/30\n",
            "1020/1020 [==============================] - 3s 3ms/step - loss: 0.5580 - accuracy: 0.7047\n",
            "Epoch 16/30\n",
            "1020/1020 [==============================] - 3s 3ms/step - loss: 0.5569 - accuracy: 0.7050\n",
            "Epoch 17/30\n",
            "1020/1020 [==============================] - 3s 3ms/step - loss: 0.5562 - accuracy: 0.7041\n",
            "Epoch 18/30\n",
            "1020/1020 [==============================] - 3s 3ms/step - loss: 0.5548 - accuracy: 0.7055\n",
            "Epoch 19/30\n",
            "1020/1020 [==============================] - 3s 3ms/step - loss: 0.5547 - accuracy: 0.7058\n",
            "Epoch 20/30\n",
            "1020/1020 [==============================] - 3s 3ms/step - loss: 0.5527 - accuracy: 0.7080\n",
            "Epoch 21/30\n",
            "1020/1020 [==============================] - 3s 3ms/step - loss: 0.5531 - accuracy: 0.7071\n",
            "Epoch 22/30\n",
            "1020/1020 [==============================] - 3s 3ms/step - loss: 0.5511 - accuracy: 0.7101\n",
            "Epoch 23/30\n",
            "1020/1020 [==============================] - 3s 3ms/step - loss: 0.5513 - accuracy: 0.7094\n",
            "Epoch 24/30\n",
            "1020/1020 [==============================] - 3s 3ms/step - loss: 0.5507 - accuracy: 0.7111\n",
            "Epoch 25/30\n",
            "1020/1020 [==============================] - 3s 3ms/step - loss: 0.5490 - accuracy: 0.7092\n",
            "Epoch 26/30\n",
            "1020/1020 [==============================] - 3s 3ms/step - loss: 0.5480 - accuracy: 0.7106\n",
            "Epoch 27/30\n",
            "1020/1020 [==============================] - 3s 3ms/step - loss: 0.5489 - accuracy: 0.7108\n",
            "Epoch 28/30\n",
            "1020/1020 [==============================] - 3s 3ms/step - loss: 0.5471 - accuracy: 0.7113\n",
            "Epoch 29/30\n",
            "1020/1020 [==============================] - 3s 3ms/step - loss: 0.5464 - accuracy: 0.7142\n",
            "Epoch 30/30\n",
            "1020/1020 [==============================] - 3s 3ms/step - loss: 0.5464 - accuracy: 0.7128\n"
          ]
        }
      ]
    },
    {
      "cell_type": "code",
      "source": [
        "loss, accuracy = model2.evaluate(X_test, y_test)\n",
        "print('Test accuracy :', accuracy)"
      ],
      "metadata": {
        "colab": {
          "base_uri": "https://localhost:8080/"
        },
        "id": "grSbRGiI-t_v",
        "outputId": "8f8add5c-7702-4934-8854-731931b1e741"
      },
      "execution_count": 40,
      "outputs": [
        {
          "output_type": "stream",
          "name": "stdout",
          "text": [
            "874/874 [==============================] - 4s 4ms/step - loss: 0.5442 - accuracy: 0.7142\n",
            "Test accuracy : 0.7141681909561157\n"
          ]
        }
      ]
    },
    {
      "cell_type": "code",
      "source": [
        "df2 = pd.read_csv('/content/drive/Shareddrives/PIC 16B Project/test_stocks.csv')\n",
        "df2.head()"
      ],
      "metadata": {
        "id": "dC2a5CXjmP2i",
        "outputId": "0e93a9e7-cb28-4884-ddb6-811e8cdbae48",
        "colab": {
          "base_uri": "https://localhost:8080/",
          "height": 399
        }
      },
      "execution_count": null,
      "outputs": [
        {
          "output_type": "execute_result",
          "data": {
            "text/plain": [
              "         Date  close      open      high       low    volume       ma5  \\\n",
              "0  2021-09-27    0.0  0.559833  0.401174  0.641137 -0.579245  0.458167   \n",
              "1  2021-09-28    0.0  0.427936  0.259966  0.360757 -0.437262  0.450177   \n",
              "2  2021-09-29    0.0  0.299649  0.140253  0.341591 -0.712706  0.428906   \n",
              "3  2021-09-30    1.0  0.193452  0.052171  0.295591 -0.734789  0.345851   \n",
              "4  2021-10-01    0.0  0.310800  0.241541  0.451114 -0.332236  0.313551   \n",
              "\n",
              "       ma20      ma60     ma200  ...  ^GSPC-volume  ^GSPC-ma5  ^GSPC-ma20  \\\n",
              "0 -0.052220 -1.046358  0.117847  ...     -0.803180   1.687999    1.771267   \n",
              "1 -0.012513 -1.022518  0.178964  ...     -0.358725   1.687565    1.758907   \n",
              "2  0.028838 -0.996923  0.252754  ...     -1.071015   1.677487    1.747454   \n",
              "3  0.064119 -0.965703  0.349409  ...     -0.715940   1.638088    1.732260   \n",
              "4  0.114101 -0.926103  0.472845  ...     -0.691745   1.610667    1.719636   \n",
              "\n",
              "   ^GSPC-ma60  ^GSPC-ma200  ^VIX-close  ^VIX-ma5  ^VIX-ma20  ^VIX-ma60  \\\n",
              "0    1.764645     1.567048   -0.016410  0.137693   0.016000  -0.111738   \n",
              "1    1.764652     1.572679    0.495866  0.111809   0.059698  -0.092514   \n",
              "2    1.765034     1.578406    0.417142  0.151218   0.097330  -0.078131   \n",
              "3    1.763819     1.583836    0.483316  0.256388   0.140842  -0.061821   \n",
              "4    1.764689     1.589286    0.250567  0.334507   0.169871  -0.056886   \n",
              "\n",
              "   ^VIX-ma200  \n",
              "0    0.158469  \n",
              "1    0.159132  \n",
              "2    0.158451  \n",
              "3    0.157016  \n",
              "4    0.155390  \n",
              "\n",
              "[5 rows x 38 columns]"
            ],
            "text/html": [
              "\n",
              "  <div id=\"df-2eddba2b-b349-420b-87a0-71269e148171\">\n",
              "    <div class=\"colab-df-container\">\n",
              "      <div>\n",
              "<style scoped>\n",
              "    .dataframe tbody tr th:only-of-type {\n",
              "        vertical-align: middle;\n",
              "    }\n",
              "\n",
              "    .dataframe tbody tr th {\n",
              "        vertical-align: top;\n",
              "    }\n",
              "\n",
              "    .dataframe thead th {\n",
              "        text-align: right;\n",
              "    }\n",
              "</style>\n",
              "<table border=\"1\" class=\"dataframe\">\n",
              "  <thead>\n",
              "    <tr style=\"text-align: right;\">\n",
              "      <th></th>\n",
              "      <th>Date</th>\n",
              "      <th>close</th>\n",
              "      <th>open</th>\n",
              "      <th>high</th>\n",
              "      <th>low</th>\n",
              "      <th>volume</th>\n",
              "      <th>ma5</th>\n",
              "      <th>ma20</th>\n",
              "      <th>ma60</th>\n",
              "      <th>ma200</th>\n",
              "      <th>...</th>\n",
              "      <th>^GSPC-volume</th>\n",
              "      <th>^GSPC-ma5</th>\n",
              "      <th>^GSPC-ma20</th>\n",
              "      <th>^GSPC-ma60</th>\n",
              "      <th>^GSPC-ma200</th>\n",
              "      <th>^VIX-close</th>\n",
              "      <th>^VIX-ma5</th>\n",
              "      <th>^VIX-ma20</th>\n",
              "      <th>^VIX-ma60</th>\n",
              "      <th>^VIX-ma200</th>\n",
              "    </tr>\n",
              "  </thead>\n",
              "  <tbody>\n",
              "    <tr>\n",
              "      <th>0</th>\n",
              "      <td>2021-09-27</td>\n",
              "      <td>0.0</td>\n",
              "      <td>0.559833</td>\n",
              "      <td>0.401174</td>\n",
              "      <td>0.641137</td>\n",
              "      <td>-0.579245</td>\n",
              "      <td>0.458167</td>\n",
              "      <td>-0.052220</td>\n",
              "      <td>-1.046358</td>\n",
              "      <td>0.117847</td>\n",
              "      <td>...</td>\n",
              "      <td>-0.803180</td>\n",
              "      <td>1.687999</td>\n",
              "      <td>1.771267</td>\n",
              "      <td>1.764645</td>\n",
              "      <td>1.567048</td>\n",
              "      <td>-0.016410</td>\n",
              "      <td>0.137693</td>\n",
              "      <td>0.016000</td>\n",
              "      <td>-0.111738</td>\n",
              "      <td>0.158469</td>\n",
              "    </tr>\n",
              "    <tr>\n",
              "      <th>1</th>\n",
              "      <td>2021-09-28</td>\n",
              "      <td>0.0</td>\n",
              "      <td>0.427936</td>\n",
              "      <td>0.259966</td>\n",
              "      <td>0.360757</td>\n",
              "      <td>-0.437262</td>\n",
              "      <td>0.450177</td>\n",
              "      <td>-0.012513</td>\n",
              "      <td>-1.022518</td>\n",
              "      <td>0.178964</td>\n",
              "      <td>...</td>\n",
              "      <td>-0.358725</td>\n",
              "      <td>1.687565</td>\n",
              "      <td>1.758907</td>\n",
              "      <td>1.764652</td>\n",
              "      <td>1.572679</td>\n",
              "      <td>0.495866</td>\n",
              "      <td>0.111809</td>\n",
              "      <td>0.059698</td>\n",
              "      <td>-0.092514</td>\n",
              "      <td>0.159132</td>\n",
              "    </tr>\n",
              "    <tr>\n",
              "      <th>2</th>\n",
              "      <td>2021-09-29</td>\n",
              "      <td>0.0</td>\n",
              "      <td>0.299649</td>\n",
              "      <td>0.140253</td>\n",
              "      <td>0.341591</td>\n",
              "      <td>-0.712706</td>\n",
              "      <td>0.428906</td>\n",
              "      <td>0.028838</td>\n",
              "      <td>-0.996923</td>\n",
              "      <td>0.252754</td>\n",
              "      <td>...</td>\n",
              "      <td>-1.071015</td>\n",
              "      <td>1.677487</td>\n",
              "      <td>1.747454</td>\n",
              "      <td>1.765034</td>\n",
              "      <td>1.578406</td>\n",
              "      <td>0.417142</td>\n",
              "      <td>0.151218</td>\n",
              "      <td>0.097330</td>\n",
              "      <td>-0.078131</td>\n",
              "      <td>0.158451</td>\n",
              "    </tr>\n",
              "    <tr>\n",
              "      <th>3</th>\n",
              "      <td>2021-09-30</td>\n",
              "      <td>1.0</td>\n",
              "      <td>0.193452</td>\n",
              "      <td>0.052171</td>\n",
              "      <td>0.295591</td>\n",
              "      <td>-0.734789</td>\n",
              "      <td>0.345851</td>\n",
              "      <td>0.064119</td>\n",
              "      <td>-0.965703</td>\n",
              "      <td>0.349409</td>\n",
              "      <td>...</td>\n",
              "      <td>-0.715940</td>\n",
              "      <td>1.638088</td>\n",
              "      <td>1.732260</td>\n",
              "      <td>1.763819</td>\n",
              "      <td>1.583836</td>\n",
              "      <td>0.483316</td>\n",
              "      <td>0.256388</td>\n",
              "      <td>0.140842</td>\n",
              "      <td>-0.061821</td>\n",
              "      <td>0.157016</td>\n",
              "    </tr>\n",
              "    <tr>\n",
              "      <th>4</th>\n",
              "      <td>2021-10-01</td>\n",
              "      <td>0.0</td>\n",
              "      <td>0.310800</td>\n",
              "      <td>0.241541</td>\n",
              "      <td>0.451114</td>\n",
              "      <td>-0.332236</td>\n",
              "      <td>0.313551</td>\n",
              "      <td>0.114101</td>\n",
              "      <td>-0.926103</td>\n",
              "      <td>0.472845</td>\n",
              "      <td>...</td>\n",
              "      <td>-0.691745</td>\n",
              "      <td>1.610667</td>\n",
              "      <td>1.719636</td>\n",
              "      <td>1.764689</td>\n",
              "      <td>1.589286</td>\n",
              "      <td>0.250567</td>\n",
              "      <td>0.334507</td>\n",
              "      <td>0.169871</td>\n",
              "      <td>-0.056886</td>\n",
              "      <td>0.155390</td>\n",
              "    </tr>\n",
              "  </tbody>\n",
              "</table>\n",
              "<p>5 rows × 38 columns</p>\n",
              "</div>\n",
              "      <button class=\"colab-df-convert\" onclick=\"convertToInteractive('df-2eddba2b-b349-420b-87a0-71269e148171')\"\n",
              "              title=\"Convert this dataframe to an interactive table.\"\n",
              "              style=\"display:none;\">\n",
              "        \n",
              "  <svg xmlns=\"http://www.w3.org/2000/svg\" height=\"24px\"viewBox=\"0 0 24 24\"\n",
              "       width=\"24px\">\n",
              "    <path d=\"M0 0h24v24H0V0z\" fill=\"none\"/>\n",
              "    <path d=\"M18.56 5.44l.94 2.06.94-2.06 2.06-.94-2.06-.94-.94-2.06-.94 2.06-2.06.94zm-11 1L8.5 8.5l.94-2.06 2.06-.94-2.06-.94L8.5 2.5l-.94 2.06-2.06.94zm10 10l.94 2.06.94-2.06 2.06-.94-2.06-.94-.94-2.06-.94 2.06-2.06.94z\"/><path d=\"M17.41 7.96l-1.37-1.37c-.4-.4-.92-.59-1.43-.59-.52 0-1.04.2-1.43.59L10.3 9.45l-7.72 7.72c-.78.78-.78 2.05 0 2.83L4 21.41c.39.39.9.59 1.41.59.51 0 1.02-.2 1.41-.59l7.78-7.78 2.81-2.81c.8-.78.8-2.07 0-2.86zM5.41 20L4 18.59l7.72-7.72 1.47 1.35L5.41 20z\"/>\n",
              "  </svg>\n",
              "      </button>\n",
              "      \n",
              "  <style>\n",
              "    .colab-df-container {\n",
              "      display:flex;\n",
              "      flex-wrap:wrap;\n",
              "      gap: 12px;\n",
              "    }\n",
              "\n",
              "    .colab-df-convert {\n",
              "      background-color: #E8F0FE;\n",
              "      border: none;\n",
              "      border-radius: 50%;\n",
              "      cursor: pointer;\n",
              "      display: none;\n",
              "      fill: #1967D2;\n",
              "      height: 32px;\n",
              "      padding: 0 0 0 0;\n",
              "      width: 32px;\n",
              "    }\n",
              "\n",
              "    .colab-df-convert:hover {\n",
              "      background-color: #E2EBFA;\n",
              "      box-shadow: 0px 1px 2px rgba(60, 64, 67, 0.3), 0px 1px 3px 1px rgba(60, 64, 67, 0.15);\n",
              "      fill: #174EA6;\n",
              "    }\n",
              "\n",
              "    [theme=dark] .colab-df-convert {\n",
              "      background-color: #3B4455;\n",
              "      fill: #D2E3FC;\n",
              "    }\n",
              "\n",
              "    [theme=dark] .colab-df-convert:hover {\n",
              "      background-color: #434B5C;\n",
              "      box-shadow: 0px 1px 3px 1px rgba(0, 0, 0, 0.15);\n",
              "      filter: drop-shadow(0px 1px 2px rgba(0, 0, 0, 0.3));\n",
              "      fill: #FFFFFF;\n",
              "    }\n",
              "  </style>\n",
              "\n",
              "      <script>\n",
              "        const buttonEl =\n",
              "          document.querySelector('#df-2eddba2b-b349-420b-87a0-71269e148171 button.colab-df-convert');\n",
              "        buttonEl.style.display =\n",
              "          google.colab.kernel.accessAllowed ? 'block' : 'none';\n",
              "\n",
              "        async function convertToInteractive(key) {\n",
              "          const element = document.querySelector('#df-2eddba2b-b349-420b-87a0-71269e148171');\n",
              "          const dataTable =\n",
              "            await google.colab.kernel.invokeFunction('convertToInteractive',\n",
              "                                                     [key], {});\n",
              "          if (!dataTable) return;\n",
              "\n",
              "          const docLinkHtml = 'Like what you see? Visit the ' +\n",
              "            '<a target=\"_blank\" href=https://colab.research.google.com/notebooks/data_table.ipynb>data table notebook</a>'\n",
              "            + ' to learn more about interactive tables.';\n",
              "          element.innerHTML = '';\n",
              "          dataTable['output_type'] = 'display_data';\n",
              "          await google.colab.output.renderOutput(dataTable, element);\n",
              "          const docLink = document.createElement('div');\n",
              "          docLink.innerHTML = docLinkHtml;\n",
              "          element.appendChild(docLink);\n",
              "        }\n",
              "      </script>\n",
              "    </div>\n",
              "  </div>\n",
              "  "
            ]
          },
          "metadata": {},
          "execution_count": 66
        }
      ]
    },
    {
      "cell_type": "code",
      "source": [
        "def plot_history(hist):\n",
        "    plt.plot(hist.history[\"accuracy\"], label = \"training\")\n",
        "    # plt.plot(hist.history[\"val_accuracy\"], label = \"validation\")\n",
        "    plt.gca().set(xlabel = \"epoch\", ylabel = \"accuracy\")\n",
        "    plt.legend()\n",
        "    plt.show()"
      ],
      "metadata": {
        "id": "X-NxFp9S6Swd"
      },
      "execution_count": 41,
      "outputs": []
    },
    {
      "cell_type": "code",
      "source": [
        "plot_history(history2)"
      ],
      "metadata": {
        "colab": {
          "base_uri": "https://localhost:8080/",
          "height": 279
        },
        "id": "Awafvdj56cE_",
        "outputId": "57b6ed9e-d0a5-40bf-e257-6634abe3b903"
      },
      "execution_count": 42,
      "outputs": [
        {
          "output_type": "display_data",
          "data": {
            "text/plain": [
              "<Figure size 432x288 with 1 Axes>"
            ],
            "image/png": "[encoded data removed]"
          },
          "metadata": {
            "needs_background": "light"
          }
        }
      ]
    },
    {
      "cell_type": "code",
      "source": [
        "model2.save('/content/drive/Shareddrives/PIC 16B Project/model_week')"
      ],
      "metadata": {
        "id": "2mwi35FFScEa",
        "outputId": "e600860a-999e-496f-d5ff-c26a6a8526a2",
        "colab": {
          "base_uri": "https://localhost:8080/"
        }
      },
      "execution_count": 43,
      "outputs": [
        {
          "output_type": "stream",
          "name": "stdout",
          "text": [
            "INFO:tensorflow:Assets written to: /content/drive/Shareddrives/PIC 16B Project/model_week/assets\n"
          ]
        }
      ]
    }
  ]
}