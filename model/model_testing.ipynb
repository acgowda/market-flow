{
  "nbformat": 4,
  "nbformat_minor": 0,
  "metadata": {
    "colab": {
      "name": "model_testing.ipynb",
      "provenance": [],
      "mount_file_id": "https://github.com/acgowda/market-flow/blob/main/model/model_testing.ipynb",
      "authorship_tag": "ABX9TyNEBuIrQO3wHDZAeQm+Q0+d",
      "include_colab_link": true
    },
    "kernelspec": {
      "name": "python3",
      "display_name": "Python 3"
    },
    "language_info": {
      "name": "python"
    },
    "accelerator": "GPU"
  },
  "cells": [
    {
      "cell_type": "markdown",
      "metadata": {
        "id": "view-in-github",
        "colab_type": "text"
      },
      "source": [
        "<a href=\"https://colab.research.google.com/github/acgowda/market-flow/blob/main/model/model_testing.ipynb\" target=\"_parent\"><img src=\"https://colab.research.google.com/assets/colab-badge.svg\" alt=\"Open In Colab\"/></a>"
      ]
    },
    {
      "cell_type": "code",
      "source": [
        "import tensorflow as tf\n",
        "from tensorflow.keras import layers\n",
        "\n",
        "from sklearn.model_selection import train_test_split\n",
        "\n",
        "import numpy as np\n",
        "from matplotlib import pyplot as plt\n",
        "import pandas as pd"
      ],
      "metadata": {
        "id": "fpnC_R4IdWPf"
      },
      "execution_count": 1,
      "outputs": []
    },
    {
      "cell_type": "code",
      "execution_count": 2,
      "metadata": {
        "colab": {
          "base_uri": "https://localhost:8080/"
        },
        "id": "x_KRw1ClWWXY",
        "outputId": "a8789271-4eb5-4706-ef32-57d008c34693"
      },
      "outputs": [
        {
          "output_type": "stream",
          "name": "stdout",
          "text": [
            "Mounted at /content/drive/\n"
          ]
        }
      ],
      "source": [
        "from google.colab import drive\n",
        "drive.mount('/content/drive/')"
      ]
    },
    {
      "cell_type": "code",
      "source": [
        "# df = pd.read_csv('/content/drive/Shareddrives/PIC 16B Project/stock_data3.csv')\n",
        "train = pd.read_csv('/content/drive/Shareddrives/PIC 16B Project/daily_train_15-19.csv')\n",
        "test = pd.read_csv('/content/drive/Shareddrives/PIC 16B Project/daily_test_21-22.csv')"
      ],
      "metadata": {
        "id": "22dL3Q80bcSX"
      },
      "execution_count": 4,
      "outputs": []
    },
    {
      "cell_type": "code",
      "source": [
        "train.head()"
      ],
      "metadata": {
        "id": "xklZQmULLHE0",
        "outputId": "0315bbec-cefe-4519-f052-a5f31dd1cc3e",
        "colab": {
          "base_uri": "https://localhost:8080/",
          "height": 236
        }
      },
      "execution_count": 6,
      "outputs": [
        {
          "output_type": "execute_result",
          "data": {
            "text/plain": [
              "         Date      open      high       low     close    volume       ma5  \\\n",
              "0  2017-02-24 -0.004975 -0.004160 -0.000578  0.005131 -0.353873 -0.002895   \n",
              "1  2018-03-05  0.016585  0.007097  0.013997  0.002600 -0.107817  0.001940   \n",
              "2  2019-03-20 -0.011576 -0.013462 -0.006976  0.016155 -0.079744 -0.004009   \n",
              "3  2019-04-08 -0.002434  0.006996 -0.003820 -0.018972  0.180207  0.007415   \n",
              "4  2019-06-04  0.011535  0.003702 -0.004446  0.016835 -0.367681 -0.001624   \n",
              "\n",
              "       ma20      ma60     ma200  ...  month_11  month_12  month_2  month_3  \\\n",
              "0 -0.004106  0.001372  0.001192  ...         0         0        1        0   \n",
              "1  0.002069  0.000521 -0.000132  ...         0         0        0        1   \n",
              "2  0.001560  0.001419  0.000539  ...         0         0        0        1   \n",
              "3  0.003894  0.002793  0.000547  ...         0         0        0        0   \n",
              "4  0.000403  0.000146  0.000717  ...         0         0        0        0   \n",
              "\n",
              "   month_4  month_5  month_6  month_7  month_8  month_9  \n",
              "0        0        0        0        0        0        0  \n",
              "1        0        0        0        0        0        0  \n",
              "2        0        0        0        0        0        0  \n",
              "3        1        0        0        0        0        0  \n",
              "4        0        0        1        0        0        0  \n",
              "\n",
              "[5 rows x 81 columns]"
            ],
            "text/html": [
              "\n",
              "  <div id=\"df-738d6d3d-7f92-446f-8858-bcd8a292b9da\">\n",
              "    <div class=\"colab-df-container\">\n",
              "      <div>\n",
              "<style scoped>\n",
              "    .dataframe tbody tr th:only-of-type {\n",
              "        vertical-align: middle;\n",
              "    }\n",
              "\n",
              "    .dataframe tbody tr th {\n",
              "        vertical-align: top;\n",
              "    }\n",
              "\n",
              "    .dataframe thead th {\n",
              "        text-align: right;\n",
              "    }\n",
              "</style>\n",
              "<table border=\"1\" class=\"dataframe\">\n",
              "  <thead>\n",
              "    <tr style=\"text-align: right;\">\n",
              "      <th></th>\n",
              "      <th>Date</th>\n",
              "      <th>open</th>\n",
              "      <th>high</th>\n",
              "      <th>low</th>\n",
              "      <th>close</th>\n",
              "      <th>volume</th>\n",
              "      <th>ma5</th>\n",
              "      <th>ma20</th>\n",
              "      <th>ma60</th>\n",
              "      <th>ma200</th>\n",
              "      <th>...</th>\n",
              "      <th>month_11</th>\n",
              "      <th>month_12</th>\n",
              "      <th>month_2</th>\n",
              "      <th>month_3</th>\n",
              "      <th>month_4</th>\n",
              "      <th>month_5</th>\n",
              "      <th>month_6</th>\n",
              "      <th>month_7</th>\n",
              "      <th>month_8</th>\n",
              "      <th>month_9</th>\n",
              "    </tr>\n",
              "  </thead>\n",
              "  <tbody>\n",
              "    <tr>\n",
              "      <th>0</th>\n",
              "      <td>2017-02-24</td>\n",
              "      <td>-0.004975</td>\n",
              "      <td>-0.004160</td>\n",
              "      <td>-0.000578</td>\n",
              "      <td>0.005131</td>\n",
              "      <td>-0.353873</td>\n",
              "      <td>-0.002895</td>\n",
              "      <td>-0.004106</td>\n",
              "      <td>0.001372</td>\n",
              "      <td>0.001192</td>\n",
              "      <td>...</td>\n",
              "      <td>0</td>\n",
              "      <td>0</td>\n",
              "      <td>1</td>\n",
              "      <td>0</td>\n",
              "      <td>0</td>\n",
              "      <td>0</td>\n",
              "      <td>0</td>\n",
              "      <td>0</td>\n",
              "      <td>0</td>\n",
              "      <td>0</td>\n",
              "    </tr>\n",
              "    <tr>\n",
              "      <th>1</th>\n",
              "      <td>2018-03-05</td>\n",
              "      <td>0.016585</td>\n",
              "      <td>0.007097</td>\n",
              "      <td>0.013997</td>\n",
              "      <td>0.002600</td>\n",
              "      <td>-0.107817</td>\n",
              "      <td>0.001940</td>\n",
              "      <td>0.002069</td>\n",
              "      <td>0.000521</td>\n",
              "      <td>-0.000132</td>\n",
              "      <td>...</td>\n",
              "      <td>0</td>\n",
              "      <td>0</td>\n",
              "      <td>0</td>\n",
              "      <td>1</td>\n",
              "      <td>0</td>\n",
              "      <td>0</td>\n",
              "      <td>0</td>\n",
              "      <td>0</td>\n",
              "      <td>0</td>\n",
              "      <td>0</td>\n",
              "    </tr>\n",
              "    <tr>\n",
              "      <th>2</th>\n",
              "      <td>2019-03-20</td>\n",
              "      <td>-0.011576</td>\n",
              "      <td>-0.013462</td>\n",
              "      <td>-0.006976</td>\n",
              "      <td>0.016155</td>\n",
              "      <td>-0.079744</td>\n",
              "      <td>-0.004009</td>\n",
              "      <td>0.001560</td>\n",
              "      <td>0.001419</td>\n",
              "      <td>0.000539</td>\n",
              "      <td>...</td>\n",
              "      <td>0</td>\n",
              "      <td>0</td>\n",
              "      <td>0</td>\n",
              "      <td>1</td>\n",
              "      <td>0</td>\n",
              "      <td>0</td>\n",
              "      <td>0</td>\n",
              "      <td>0</td>\n",
              "      <td>0</td>\n",
              "      <td>0</td>\n",
              "    </tr>\n",
              "    <tr>\n",
              "      <th>3</th>\n",
              "      <td>2019-04-08</td>\n",
              "      <td>-0.002434</td>\n",
              "      <td>0.006996</td>\n",
              "      <td>-0.003820</td>\n",
              "      <td>-0.018972</td>\n",
              "      <td>0.180207</td>\n",
              "      <td>0.007415</td>\n",
              "      <td>0.003894</td>\n",
              "      <td>0.002793</td>\n",
              "      <td>0.000547</td>\n",
              "      <td>...</td>\n",
              "      <td>0</td>\n",
              "      <td>0</td>\n",
              "      <td>0</td>\n",
              "      <td>0</td>\n",
              "      <td>1</td>\n",
              "      <td>0</td>\n",
              "      <td>0</td>\n",
              "      <td>0</td>\n",
              "      <td>0</td>\n",
              "      <td>0</td>\n",
              "    </tr>\n",
              "    <tr>\n",
              "      <th>4</th>\n",
              "      <td>2019-06-04</td>\n",
              "      <td>0.011535</td>\n",
              "      <td>0.003702</td>\n",
              "      <td>-0.004446</td>\n",
              "      <td>0.016835</td>\n",
              "      <td>-0.367681</td>\n",
              "      <td>-0.001624</td>\n",
              "      <td>0.000403</td>\n",
              "      <td>0.000146</td>\n",
              "      <td>0.000717</td>\n",
              "      <td>...</td>\n",
              "      <td>0</td>\n",
              "      <td>0</td>\n",
              "      <td>0</td>\n",
              "      <td>0</td>\n",
              "      <td>0</td>\n",
              "      <td>0</td>\n",
              "      <td>1</td>\n",
              "      <td>0</td>\n",
              "      <td>0</td>\n",
              "      <td>0</td>\n",
              "    </tr>\n",
              "  </tbody>\n",
              "</table>\n",
              "<p>5 rows × 81 columns</p>\n",
              "</div>\n",
              "      <button class=\"colab-df-convert\" onclick=\"convertToInteractive('df-738d6d3d-7f92-446f-8858-bcd8a292b9da')\"\n",
              "              title=\"Convert this dataframe to an interactive table.\"\n",
              "              style=\"display:none;\">\n",
              "        \n",
              "  <svg xmlns=\"http://www.w3.org/2000/svg\" height=\"24px\"viewBox=\"0 0 24 24\"\n",
              "       width=\"24px\">\n",
              "    <path d=\"M0 0h24v24H0V0z\" fill=\"none\"/>\n",
              "    <path d=\"M18.56 5.44l.94 2.06.94-2.06 2.06-.94-2.06-.94-.94-2.06-.94 2.06-2.06.94zm-11 1L8.5 8.5l.94-2.06 2.06-.94-2.06-.94L8.5 2.5l-.94 2.06-2.06.94zm10 10l.94 2.06.94-2.06 2.06-.94-2.06-.94-.94-2.06-.94 2.06-2.06.94z\"/><path d=\"M17.41 7.96l-1.37-1.37c-.4-.4-.92-.59-1.43-.59-.52 0-1.04.2-1.43.59L10.3 9.45l-7.72 7.72c-.78.78-.78 2.05 0 2.83L4 21.41c.39.39.9.59 1.41.59.51 0 1.02-.2 1.41-.59l7.78-7.78 2.81-2.81c.8-.78.8-2.07 0-2.86zM5.41 20L4 18.59l7.72-7.72 1.47 1.35L5.41 20z\"/>\n",
              "  </svg>\n",
              "      </button>\n",
              "      \n",
              "  <style>\n",
              "    .colab-df-container {\n",
              "      display:flex;\n",
              "      flex-wrap:wrap;\n",
              "      gap: 12px;\n",
              "    }\n",
              "\n",
              "    .colab-df-convert {\n",
              "      background-color: #E8F0FE;\n",
              "      border: none;\n",
              "      border-radius: 50%;\n",
              "      cursor: pointer;\n",
              "      display: none;\n",
              "      fill: #1967D2;\n",
              "      height: 32px;\n",
              "      padding: 0 0 0 0;\n",
              "      width: 32px;\n",
              "    }\n",
              "\n",
              "    .colab-df-convert:hover {\n",
              "      background-color: #E2EBFA;\n",
              "      box-shadow: 0px 1px 2px rgba(60, 64, 67, 0.3), 0px 1px 3px 1px rgba(60, 64, 67, 0.15);\n",
              "      fill: #174EA6;\n",
              "    }\n",
              "\n",
              "    [theme=dark] .colab-df-convert {\n",
              "      background-color: #3B4455;\n",
              "      fill: #D2E3FC;\n",
              "    }\n",
              "\n",
              "    [theme=dark] .colab-df-convert:hover {\n",
              "      background-color: #434B5C;\n",
              "      box-shadow: 0px 1px 3px 1px rgba(0, 0, 0, 0.15);\n",
              "      filter: drop-shadow(0px 1px 2px rgba(0, 0, 0, 0.3));\n",
              "      fill: #FFFFFF;\n",
              "    }\n",
              "  </style>\n",
              "\n",
              "      <script>\n",
              "        const buttonEl =\n",
              "          document.querySelector('#df-738d6d3d-7f92-446f-8858-bcd8a292b9da button.colab-df-convert');\n",
              "        buttonEl.style.display =\n",
              "          google.colab.kernel.accessAllowed ? 'block' : 'none';\n",
              "\n",
              "        async function convertToInteractive(key) {\n",
              "          const element = document.querySelector('#df-738d6d3d-7f92-446f-8858-bcd8a292b9da');\n",
              "          const dataTable =\n",
              "            await google.colab.kernel.invokeFunction('convertToInteractive',\n",
              "                                                     [key], {});\n",
              "          if (!dataTable) return;\n",
              "\n",
              "          const docLinkHtml = 'Like what you see? Visit the ' +\n",
              "            '<a target=\"_blank\" href=https://colab.research.google.com/notebooks/data_table.ipynb>data table notebook</a>'\n",
              "            + ' to learn more about interactive tables.';\n",
              "          element.innerHTML = '';\n",
              "          dataTable['output_type'] = 'display_data';\n",
              "          await google.colab.output.renderOutput(dataTable, element);\n",
              "          const docLink = document.createElement('div');\n",
              "          docLink.innerHTML = docLinkHtml;\n",
              "          element.appendChild(docLink);\n",
              "        }\n",
              "      </script>\n",
              "    </div>\n",
              "  </div>\n",
              "  "
            ]
          },
          "metadata": {},
          "execution_count": 6
        }
      ]
    },
    {
      "cell_type": "code",
      "source": [
        "high_change_cols = list(train.describe().loc['max'][train.describe().loc['max'] > 10].index)\n",
        "drop_cols = ['Date'] + high_change_cols\n",
        "drop_cols"
      ],
      "metadata": {
        "id": "YGg5l7QiOPKo",
        "outputId": "9a70137e-621a-45dc-9fd3-83725c3b60c7",
        "colab": {
          "base_uri": "https://localhost:8080/"
        }
      },
      "execution_count": 13,
      "outputs": [
        {
          "output_type": "execute_result",
          "data": {
            "text/plain": [
              "['Date', 'volume', 'GC=F-volume']"
            ]
          },
          "metadata": {},
          "execution_count": 13
        }
      ]
    },
    {
      "cell_type": "code",
      "source": [
        "def get_Xy(df):\n",
        "    new = df.drop(drop_cols, axis = 1)\n",
        "    new['target'] = new['close'].apply(lambda x: 1 if x > 0 else 0)\n",
        "    new = new.drop(['close'], axis = 1)\n",
        "    \n",
        "    return new.drop(columns=['target']), new['target']"
      ],
      "metadata": {
        "id": "cuD04g7HlmjK"
      },
      "execution_count": 14,
      "outputs": []
    },
    {
      "cell_type": "code",
      "source": [
        "X, y = get_Xy(train)\n",
        "\n",
        "X_train, X_val, y_train, y_val = train_test_split(X, y, stratify = y,\n",
        "                                                  random_state = 42,\n",
        "                                                  test_size = 0.3)"
      ],
      "metadata": {
        "id": "zQndmd7kOUyf"
      },
      "execution_count": 15,
      "outputs": []
    },
    {
      "cell_type": "code",
      "source": [
        "X.columns"
      ],
      "metadata": {
        "id": "xrFnpBWtL_A1",
        "outputId": "e7d38f31-a09e-40e1-df41-deeba8ab9932",
        "colab": {
          "base_uri": "https://localhost:8080/"
        }
      },
      "execution_count": 17,
      "outputs": [
        {
          "output_type": "execute_result",
          "data": {
            "text/plain": [
              "Index(['open', 'high', 'low', 'ma5', 'ma20', 'ma60', 'ma200', '^GSPC-close',\n",
              "       '^GSPC-volume', '^GSPC-ma5', '^GSPC-ma20', '^GSPC-ma60', '^GSPC-ma200',\n",
              "       '^VIX-close', '^VIX-ma5', '^VIX-ma20', '^VIX-ma60', '^VIX-ma200',\n",
              "       '^IXIC-close', '^IXIC-volume', '^IXIC-ma5', '^IXIC-ma20', '^IXIC-ma60',\n",
              "       '^IXIC-ma200', '^DJI-close', '^DJI-volume', '^DJI-ma5', '^DJI-ma20',\n",
              "       '^DJI-ma60', '^DJI-ma200', '^HSI-close', '^HSI-volume', '^HSI-ma5',\n",
              "       '^HSI-ma20', '^HSI-ma60', '^HSI-ma200', '^FTSE-close', '^FTSE-volume',\n",
              "       '^FTSE-ma5', '^FTSE-ma20', '^FTSE-ma60', '^FTSE-ma200', '^FCHI-close',\n",
              "       '^FCHI-volume', '^FCHI-ma5', '^FCHI-ma20', '^FCHI-ma60', '^FCHI-ma200',\n",
              "       'GC=F-close', 'GC=F-ma5', 'GC=F-ma20', 'GC=F-ma60', 'GC=F-ma200',\n",
              "       'CL=F-close', 'CL=F-volume', 'CL=F-ma5', 'CL=F-ma20', 'CL=F-ma60',\n",
              "       'CL=F-ma200', 'day_0', 'day_1', 'day_2', 'day_3', 'day_4', 'month_1',\n",
              "       'month_10', 'month_11', 'month_12', 'month_2', 'month_3', 'month_4',\n",
              "       'month_5', 'month_6', 'month_7', 'month_8', 'month_9'],\n",
              "      dtype='object')"
            ]
          },
          "metadata": {},
          "execution_count": 17
        }
      ]
    },
    {
      "cell_type": "code",
      "source": [
        "model = tf.keras.models.Sequential([\n",
        "    layers.Dense(128, input_shape=(76,), activation='relu'),\n",
        "    layers.Dropout(0.2),\n",
        "    layers.Dense(128, activation='relu'),\n",
        "    layers.Dropout(0.2),\n",
        "    layers.Dense(64, activation='relu'),\n",
        "    layers.Dropout(0.2),\n",
        "    layers.Dense(2)\n",
        "])"
      ],
      "metadata": {
        "id": "8A65sAYge-D0"
      },
      "execution_count": 23,
      "outputs": []
    },
    {
      "cell_type": "code",
      "source": [
        "model.compile(optimizer = \"adam\",\n",
        "              loss = tf.keras.losses.SparseCategoricalCrossentropy(from_logits=True),\n",
        "              metrics=['accuracy'])\n",
        "\n",
        "history = model.fit(X_train, y_train,\n",
        "                    validation_data = (X_val, y_val),\n",
        "                    epochs = 25, batch_size = 64, \n",
        "                    shuffle = True, verbose=1)"
      ],
      "metadata": {
        "colab": {
          "base_uri": "https://localhost:8080/"
        },
        "id": "2iZkYG8gfbeG",
        "outputId": "4f075fec-3568-436a-a8e6-d0e0943fe269"
      },
      "execution_count": 24,
      "outputs": [
        {
          "output_type": "stream",
          "name": "stdout",
          "text": [
            "Epoch 1/25\n",
            "4664/4664 [==============================] - 18s 4ms/step - loss: 0.6588 - accuracy: 0.5955 - val_loss: 0.6198 - val_accuracy: 0.6525\n",
            "Epoch 2/25\n",
            "4664/4664 [==============================] - 15s 3ms/step - loss: 0.6205 - accuracy: 0.6481 - val_loss: 0.6009 - val_accuracy: 0.6657\n",
            "Epoch 3/25\n",
            "4664/4664 [==============================] - 15s 3ms/step - loss: 0.6108 - accuracy: 0.6581 - val_loss: 0.5955 - val_accuracy: 0.6712\n",
            "Epoch 4/25\n",
            "4664/4664 [==============================] - 15s 3ms/step - loss: 0.6059 - accuracy: 0.6626 - val_loss: 0.5929 - val_accuracy: 0.6711\n",
            "Epoch 5/25\n",
            "4664/4664 [==============================] - 17s 4ms/step - loss: 0.6030 - accuracy: 0.6652 - val_loss: 0.5911 - val_accuracy: 0.6735\n",
            "Epoch 6/25\n",
            "4664/4664 [==============================] - 16s 3ms/step - loss: 0.6017 - accuracy: 0.6664 - val_loss: 0.5910 - val_accuracy: 0.6774\n",
            "Epoch 7/25\n",
            "4664/4664 [==============================] - 15s 3ms/step - loss: 0.6001 - accuracy: 0.6683 - val_loss: 0.5908 - val_accuracy: 0.6774\n",
            "Epoch 8/25\n",
            "4664/4664 [==============================] - 16s 3ms/step - loss: 0.5991 - accuracy: 0.6687 - val_loss: 0.5899 - val_accuracy: 0.6747\n",
            "Epoch 9/25\n",
            "4664/4664 [==============================] - 16s 3ms/step - loss: 0.5982 - accuracy: 0.6697 - val_loss: 0.5881 - val_accuracy: 0.6770\n",
            "Epoch 10/25\n",
            "4664/4664 [==============================] - 17s 4ms/step - loss: 0.5966 - accuracy: 0.6712 - val_loss: 0.5892 - val_accuracy: 0.6759\n",
            "Epoch 11/25\n",
            "4664/4664 [==============================] - 17s 4ms/step - loss: 0.5963 - accuracy: 0.6715 - val_loss: 0.5877 - val_accuracy: 0.6794\n",
            "Epoch 12/25\n",
            "4664/4664 [==============================] - 17s 4ms/step - loss: 0.5958 - accuracy: 0.6718 - val_loss: 0.5870 - val_accuracy: 0.6793\n",
            "Epoch 13/25\n",
            "4664/4664 [==============================] - 17s 4ms/step - loss: 0.5953 - accuracy: 0.6729 - val_loss: 0.5867 - val_accuracy: 0.6782\n",
            "Epoch 14/25\n",
            "4664/4664 [==============================] - 15s 3ms/step - loss: 0.5946 - accuracy: 0.6725 - val_loss: 0.5869 - val_accuracy: 0.6796\n",
            "Epoch 15/25\n",
            "4664/4664 [==============================] - 15s 3ms/step - loss: 0.5942 - accuracy: 0.6733 - val_loss: 0.5870 - val_accuracy: 0.6801\n",
            "Epoch 16/25\n",
            "4664/4664 [==============================] - 17s 4ms/step - loss: 0.5936 - accuracy: 0.6740 - val_loss: 0.5868 - val_accuracy: 0.6792\n",
            "Epoch 17/25\n",
            "4664/4664 [==============================] - 15s 3ms/step - loss: 0.5934 - accuracy: 0.6742 - val_loss: 0.5858 - val_accuracy: 0.6798\n",
            "Epoch 18/25\n",
            "4664/4664 [==============================] - 17s 4ms/step - loss: 0.5927 - accuracy: 0.6749 - val_loss: 0.5866 - val_accuracy: 0.6792\n",
            "Epoch 19/25\n",
            "4664/4664 [==============================] - 17s 4ms/step - loss: 0.5925 - accuracy: 0.6756 - val_loss: 0.5854 - val_accuracy: 0.6813\n",
            "Epoch 20/25\n",
            "4664/4664 [==============================] - 16s 3ms/step - loss: 0.5922 - accuracy: 0.6755 - val_loss: 0.5842 - val_accuracy: 0.6814\n",
            "Epoch 21/25\n",
            "4664/4664 [==============================] - 15s 3ms/step - loss: 0.5922 - accuracy: 0.6746 - val_loss: 0.5853 - val_accuracy: 0.6820\n",
            "Epoch 22/25\n",
            "4664/4664 [==============================] - 17s 4ms/step - loss: 0.5915 - accuracy: 0.6764 - val_loss: 0.5860 - val_accuracy: 0.6801\n",
            "Epoch 23/25\n",
            "4664/4664 [==============================] - 17s 4ms/step - loss: 0.5914 - accuracy: 0.6761 - val_loss: 0.5841 - val_accuracy: 0.6819\n",
            "Epoch 24/25\n",
            "4664/4664 [==============================] - 15s 3ms/step - loss: 0.5911 - accuracy: 0.6765 - val_loss: 0.5839 - val_accuracy: 0.6818\n",
            "Epoch 25/25\n",
            "4664/4664 [==============================] - 17s 4ms/step - loss: 0.5901 - accuracy: 0.6774 - val_loss: 0.5837 - val_accuracy: 0.6822\n"
          ]
        }
      ]
    },
    {
      "cell_type": "code",
      "source": [
        "def plot_history(hist):\n",
        "    plt.plot(hist.history[\"accuracy\"], label = \"training\")\n",
        "    plt.plot(hist.history[\"val_accuracy\"], label = \"validation\")\n",
        "    plt.gca().set(xlabel = \"epoch\", ylabel = \"accuracy\")\n",
        "    plt.legend()\n",
        "    plt.show()"
      ],
      "metadata": {
        "id": "X-NxFp9S6Swd"
      },
      "execution_count": 25,
      "outputs": []
    },
    {
      "cell_type": "code",
      "source": [
        "plot_history(history)"
      ],
      "metadata": {
        "colab": {
          "base_uri": "https://localhost:8080/",
          "height": 279
        },
        "id": "Awafvdj56cE_",
        "outputId": "c6043c26-b240-4ac4-edf3-ab0c1eb8e773"
      },
      "execution_count": 26,
      "outputs": [
        {
          "output_type": "display_data",
          "data": {
            "text/plain": [
              "<Figure size 432x288 with 1 Axes>"
            ],
            "image/png": "[encoded data removed]"
          },
          "metadata": {
            "needs_background": "light"
          }
        }
      ]
    },
    {
      "cell_type": "code",
      "source": [
        "test.head()"
      ],
      "metadata": {
        "id": "3lh1KX04MLvv",
        "outputId": "2e56338d-ba2f-473f-d9e6-348e8670db4b",
        "colab": {
          "base_uri": "https://localhost:8080/",
          "height": 236
        }
      },
      "execution_count": 31,
      "outputs": [
        {
          "output_type": "execute_result",
          "data": {
            "text/plain": [
              "         Date      open      high       low     close    volume       ma5  \\\n",
              "0  2021-10-18  0.000488  0.005584  0.004843  0.006715  0.161973  0.012670   \n",
              "1  2021-07-29 -0.005628 -0.007298 -0.002888  0.004053 -0.145173  0.002889   \n",
              "2  2021-08-20 -0.018482 -0.001936  0.013491  0.060700 -0.424071 -0.017294   \n",
              "3  2022-03-22 -0.001782  0.019471  0.016791 -0.030686 -0.141925  0.018248   \n",
              "4  2022-06-13 -0.022221 -0.027558 -0.034563  0.015037  0.151207 -0.017013   \n",
              "\n",
              "       ma20      ma60     ma200  ...  month_11  month_12  month_2  month_3  \\\n",
              "0  0.001331  0.000297  0.001422  ...         0         0        0        0   \n",
              "1 -0.002065 -0.001475  0.000924  ...         0         0        0        0   \n",
              "2  0.000150 -0.000302  0.003726  ...         0         0        0        0   \n",
              "3  0.001000 -0.001862 -0.000985  ...         0         0        0        1   \n",
              "4 -0.000252 -0.000290  0.001048  ...         0         0        0        0   \n",
              "\n",
              "   month_4  month_5  month_6  month_7  month_8  month_9  \n",
              "0        0        0        0        0        0        0  \n",
              "1        0        0        0        1        0        0  \n",
              "2        0        0        0        0        1        0  \n",
              "3        0        0        0        0        0        0  \n",
              "4        0        0        1        0        0        0  \n",
              "\n",
              "[5 rows x 81 columns]"
            ],
            "text/html": [
              "\n",
              "  <div id=\"df-b7f1cf07-9369-40da-94ae-f1accb291243\">\n",
              "    <div class=\"colab-df-container\">\n",
              "      <div>\n",
              "<style scoped>\n",
              "    .dataframe tbody tr th:only-of-type {\n",
              "        vertical-align: middle;\n",
              "    }\n",
              "\n",
              "    .dataframe tbody tr th {\n",
              "        vertical-align: top;\n",
              "    }\n",
              "\n",
              "    .dataframe thead th {\n",
              "        text-align: right;\n",
              "    }\n",
              "</style>\n",
              "<table border=\"1\" class=\"dataframe\">\n",
              "  <thead>\n",
              "    <tr style=\"text-align: right;\">\n",
              "      <th></th>\n",
              "      <th>Date</th>\n",
              "      <th>open</th>\n",
              "      <th>high</th>\n",
              "      <th>low</th>\n",
              "      <th>close</th>\n",
              "      <th>volume</th>\n",
              "      <th>ma5</th>\n",
              "      <th>ma20</th>\n",
              "      <th>ma60</th>\n",
              "      <th>ma200</th>\n",
              "      <th>...</th>\n",
              "      <th>month_11</th>\n",
              "      <th>month_12</th>\n",
              "      <th>month_2</th>\n",
              "      <th>month_3</th>\n",
              "      <th>month_4</th>\n",
              "      <th>month_5</th>\n",
              "      <th>month_6</th>\n",
              "      <th>month_7</th>\n",
              "      <th>month_8</th>\n",
              "      <th>month_9</th>\n",
              "    </tr>\n",
              "  </thead>\n",
              "  <tbody>\n",
              "    <tr>\n",
              "      <th>0</th>\n",
              "      <td>2021-10-18</td>\n",
              "      <td>0.000488</td>\n",
              "      <td>0.005584</td>\n",
              "      <td>0.004843</td>\n",
              "      <td>0.006715</td>\n",
              "      <td>0.161973</td>\n",
              "      <td>0.012670</td>\n",
              "      <td>0.001331</td>\n",
              "      <td>0.000297</td>\n",
              "      <td>0.001422</td>\n",
              "      <td>...</td>\n",
              "      <td>0</td>\n",
              "      <td>0</td>\n",
              "      <td>0</td>\n",
              "      <td>0</td>\n",
              "      <td>0</td>\n",
              "      <td>0</td>\n",
              "      <td>0</td>\n",
              "      <td>0</td>\n",
              "      <td>0</td>\n",
              "      <td>0</td>\n",
              "    </tr>\n",
              "    <tr>\n",
              "      <th>1</th>\n",
              "      <td>2021-07-29</td>\n",
              "      <td>-0.005628</td>\n",
              "      <td>-0.007298</td>\n",
              "      <td>-0.002888</td>\n",
              "      <td>0.004053</td>\n",
              "      <td>-0.145173</td>\n",
              "      <td>0.002889</td>\n",
              "      <td>-0.002065</td>\n",
              "      <td>-0.001475</td>\n",
              "      <td>0.000924</td>\n",
              "      <td>...</td>\n",
              "      <td>0</td>\n",
              "      <td>0</td>\n",
              "      <td>0</td>\n",
              "      <td>0</td>\n",
              "      <td>0</td>\n",
              "      <td>0</td>\n",
              "      <td>0</td>\n",
              "      <td>1</td>\n",
              "      <td>0</td>\n",
              "      <td>0</td>\n",
              "    </tr>\n",
              "    <tr>\n",
              "      <th>2</th>\n",
              "      <td>2021-08-20</td>\n",
              "      <td>-0.018482</td>\n",
              "      <td>-0.001936</td>\n",
              "      <td>0.013491</td>\n",
              "      <td>0.060700</td>\n",
              "      <td>-0.424071</td>\n",
              "      <td>-0.017294</td>\n",
              "      <td>0.000150</td>\n",
              "      <td>-0.000302</td>\n",
              "      <td>0.003726</td>\n",
              "      <td>...</td>\n",
              "      <td>0</td>\n",
              "      <td>0</td>\n",
              "      <td>0</td>\n",
              "      <td>0</td>\n",
              "      <td>0</td>\n",
              "      <td>0</td>\n",
              "      <td>0</td>\n",
              "      <td>0</td>\n",
              "      <td>1</td>\n",
              "      <td>0</td>\n",
              "    </tr>\n",
              "    <tr>\n",
              "      <th>3</th>\n",
              "      <td>2022-03-22</td>\n",
              "      <td>-0.001782</td>\n",
              "      <td>0.019471</td>\n",
              "      <td>0.016791</td>\n",
              "      <td>-0.030686</td>\n",
              "      <td>-0.141925</td>\n",
              "      <td>0.018248</td>\n",
              "      <td>0.001000</td>\n",
              "      <td>-0.001862</td>\n",
              "      <td>-0.000985</td>\n",
              "      <td>...</td>\n",
              "      <td>0</td>\n",
              "      <td>0</td>\n",
              "      <td>0</td>\n",
              "      <td>1</td>\n",
              "      <td>0</td>\n",
              "      <td>0</td>\n",
              "      <td>0</td>\n",
              "      <td>0</td>\n",
              "      <td>0</td>\n",
              "      <td>0</td>\n",
              "    </tr>\n",
              "    <tr>\n",
              "      <th>4</th>\n",
              "      <td>2022-06-13</td>\n",
              "      <td>-0.022221</td>\n",
              "      <td>-0.027558</td>\n",
              "      <td>-0.034563</td>\n",
              "      <td>0.015037</td>\n",
              "      <td>0.151207</td>\n",
              "      <td>-0.017013</td>\n",
              "      <td>-0.000252</td>\n",
              "      <td>-0.000290</td>\n",
              "      <td>0.001048</td>\n",
              "      <td>...</td>\n",
              "      <td>0</td>\n",
              "      <td>0</td>\n",
              "      <td>0</td>\n",
              "      <td>0</td>\n",
              "      <td>0</td>\n",
              "      <td>0</td>\n",
              "      <td>1</td>\n",
              "      <td>0</td>\n",
              "      <td>0</td>\n",
              "      <td>0</td>\n",
              "    </tr>\n",
              "  </tbody>\n",
              "</table>\n",
              "<p>5 rows × 81 columns</p>\n",
              "</div>\n",
              "      <button class=\"colab-df-convert\" onclick=\"convertToInteractive('df-b7f1cf07-9369-40da-94ae-f1accb291243')\"\n",
              "              title=\"Convert this dataframe to an interactive table.\"\n",
              "              style=\"display:none;\">\n",
              "        \n",
              "  <svg xmlns=\"http://www.w3.org/2000/svg\" height=\"24px\"viewBox=\"0 0 24 24\"\n",
              "       width=\"24px\">\n",
              "    <path d=\"M0 0h24v24H0V0z\" fill=\"none\"/>\n",
              "    <path d=\"M18.56 5.44l.94 2.06.94-2.06 2.06-.94-2.06-.94-.94-2.06-.94 2.06-2.06.94zm-11 1L8.5 8.5l.94-2.06 2.06-.94-2.06-.94L8.5 2.5l-.94 2.06-2.06.94zm10 10l.94 2.06.94-2.06 2.06-.94-2.06-.94-.94-2.06-.94 2.06-2.06.94z\"/><path d=\"M17.41 7.96l-1.37-1.37c-.4-.4-.92-.59-1.43-.59-.52 0-1.04.2-1.43.59L10.3 9.45l-7.72 7.72c-.78.78-.78 2.05 0 2.83L4 21.41c.39.39.9.59 1.41.59.51 0 1.02-.2 1.41-.59l7.78-7.78 2.81-2.81c.8-.78.8-2.07 0-2.86zM5.41 20L4 18.59l7.72-7.72 1.47 1.35L5.41 20z\"/>\n",
              "  </svg>\n",
              "      </button>\n",
              "      \n",
              "  <style>\n",
              "    .colab-df-container {\n",
              "      display:flex;\n",
              "      flex-wrap:wrap;\n",
              "      gap: 12px;\n",
              "    }\n",
              "\n",
              "    .colab-df-convert {\n",
              "      background-color: #E8F0FE;\n",
              "      border: none;\n",
              "      border-radius: 50%;\n",
              "      cursor: pointer;\n",
              "      display: none;\n",
              "      fill: #1967D2;\n",
              "      height: 32px;\n",
              "      padding: 0 0 0 0;\n",
              "      width: 32px;\n",
              "    }\n",
              "\n",
              "    .colab-df-convert:hover {\n",
              "      background-color: #E2EBFA;\n",
              "      box-shadow: 0px 1px 2px rgba(60, 64, 67, 0.3), 0px 1px 3px 1px rgba(60, 64, 67, 0.15);\n",
              "      fill: #174EA6;\n",
              "    }\n",
              "\n",
              "    [theme=dark] .colab-df-convert {\n",
              "      background-color: #3B4455;\n",
              "      fill: #D2E3FC;\n",
              "    }\n",
              "\n",
              "    [theme=dark] .colab-df-convert:hover {\n",
              "      background-color: #434B5C;\n",
              "      box-shadow: 0px 1px 3px 1px rgba(0, 0, 0, 0.15);\n",
              "      filter: drop-shadow(0px 1px 2px rgba(0, 0, 0, 0.3));\n",
              "      fill: #FFFFFF;\n",
              "    }\n",
              "  </style>\n",
              "\n",
              "      <script>\n",
              "        const buttonEl =\n",
              "          document.querySelector('#df-b7f1cf07-9369-40da-94ae-f1accb291243 button.colab-df-convert');\n",
              "        buttonEl.style.display =\n",
              "          google.colab.kernel.accessAllowed ? 'block' : 'none';\n",
              "\n",
              "        async function convertToInteractive(key) {\n",
              "          const element = document.querySelector('#df-b7f1cf07-9369-40da-94ae-f1accb291243');\n",
              "          const dataTable =\n",
              "            await google.colab.kernel.invokeFunction('convertToInteractive',\n",
              "                                                     [key], {});\n",
              "          if (!dataTable) return;\n",
              "\n",
              "          const docLinkHtml = 'Like what you see? Visit the ' +\n",
              "            '<a target=\"_blank\" href=https://colab.research.google.com/notebooks/data_table.ipynb>data table notebook</a>'\n",
              "            + ' to learn more about interactive tables.';\n",
              "          element.innerHTML = '';\n",
              "          dataTable['output_type'] = 'display_data';\n",
              "          await google.colab.output.renderOutput(dataTable, element);\n",
              "          const docLink = document.createElement('div');\n",
              "          docLink.innerHTML = docLinkHtml;\n",
              "          element.appendChild(docLink);\n",
              "        }\n",
              "      </script>\n",
              "    </div>\n",
              "  </div>\n",
              "  "
            ]
          },
          "metadata": {},
          "execution_count": 31
        }
      ]
    },
    {
      "cell_type": "code",
      "source": [
        "X_test, y_test = get_Xy(test)"
      ],
      "metadata": {
        "id": "gnHGfJNLJNjr"
      },
      "execution_count": 27,
      "outputs": []
    },
    {
      "cell_type": "code",
      "source": [
        "loss, accuracy = model.evaluate(X_test, y_test)\n",
        "print('Test accuracy :', accuracy)"
      ],
      "metadata": {
        "colab": {
          "base_uri": "https://localhost:8080/"
        },
        "id": "grSbRGiI-t_v",
        "outputId": "7b68cb2a-cb92-43b7-94ef-c12def1b769c"
      },
      "execution_count": 28,
      "outputs": [
        {
          "output_type": "stream",
          "name": "stdout",
          "text": [
            "3933/3933 [==============================] - 9s 2ms/step - loss: 0.7578 - accuracy: 0.5054\n",
            "Test accuracy : 0.5053635835647583\n"
          ]
        }
      ]
    },
    {
      "cell_type": "code",
      "source": [
        "model.save('/content/drive/Shareddrives/PIC 16B Project/model_week')"
      ],
      "metadata": {
        "id": "2mwi35FFScEa",
        "outputId": "e600860a-999e-496f-d5ff-c26a6a8526a2",
        "colab": {
          "base_uri": "https://localhost:8080/"
        }
      },
      "execution_count": null,
      "outputs": [
        {
          "output_type": "stream",
          "name": "stdout",
          "text": [
            "INFO:tensorflow:Assets written to: /content/drive/Shareddrives/PIC 16B Project/model_week/assets\n"
          ]
        }
      ]
    }
  ]
}