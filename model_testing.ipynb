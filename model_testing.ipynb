{
  "nbformat": 4,
  "nbformat_minor": 0,
  "metadata": {
    "colab": {
      "name": "model_testing.ipynb",
      "provenance": [],
      "authorship_tag": "ABX9TyMPoV7dY4MDWOY6KzUwMudW",
      "include_colab_link": true
    },
    "kernelspec": {
      "name": "python3",
      "display_name": "Python 3"
    },
    "language_info": {
      "name": "python"
    },
    "accelerator": "GPU"
  },
  "cells": [
    {
      "cell_type": "markdown",
      "metadata": {
        "id": "view-in-github",
        "colab_type": "text"
      },
      "source": [
        "<a href=\"https://colab.research.google.com/github/acgowda/marketflow/blob/main/model_testing.ipynb\" target=\"_parent\"><img src=\"https://colab.research.google.com/assets/colab-badge.svg\" alt=\"Open In Colab\"/></a>"
      ]
    },
    {
      "cell_type": "code",
      "source": [
        "import tensorflow as tf\n",
        "from tensorflow.keras import layers\n",
        "\n",
        "from sklearn.model_selection import train_test_split\n",
        "\n",
        "import numpy as np\n",
        "from matplotlib import pyplot as plt\n",
        "import pandas as pd"
      ],
      "metadata": {
        "id": "fpnC_R4IdWPf"
      },
      "execution_count": null,
      "outputs": []
    },
    {
      "cell_type": "code",
      "execution_count": null,
      "metadata": {
        "colab": {
          "base_uri": "https://localhost:8080/"
        },
        "id": "x_KRw1ClWWXY",
        "outputId": "8f240dfa-9d27-4e26-ee7e-564209914c7e"
      },
      "outputs": [
        {
          "output_type": "stream",
          "name": "stdout",
          "text": [
            "Mounted at /content/drive/\n"
          ]
        }
      ],
      "source": [
        "from google.colab import drive\n",
        "drive.mount('/content/drive/')"
      ]
    },
    {
      "cell_type": "code",
      "source": [
        "df = pd.read_csv('/content/drive/Shareddrives/PIC 16B Project/stock_data3.csv')\n",
        "df.head()"
      ],
      "metadata": {
        "id": "22dL3Q80bcSX",
        "colab": {
          "base_uri": "https://localhost:8080/",
          "height": 236
        },
        "outputId": "07777a8a-9bd8-422e-ef08-91274026e181"
      },
      "execution_count": null,
      "outputs": [
        {
          "output_type": "execute_result",
          "data": {
            "text/plain": [
              "   Unnamed: 0        Date  close      open      high       low    volume  \\\n",
              "0           0  2017-10-24    1.0  1.435785  1.818259  1.506505  2.789887   \n",
              "1           1  2017-10-25    0.0  1.706291  1.774853  1.727938  1.062202   \n",
              "2           2  2017-10-26    1.0  1.852573  1.813737  1.655021  0.535720   \n",
              "3           3  2017-10-27    0.0  1.671184  1.639665  1.665758 -0.463551   \n",
              "4           4  2017-10-30    0.0  1.645529  1.581339  1.580316  0.057663   \n",
              "\n",
              "        ma5      ma20      ma60  ...  ^GSPC-volume  ^GSPC-ma5  ^GSPC-ma20  \\\n",
              "0  1.173010  0.913128  0.575702  ...     -0.424601  -0.892740   -0.926244   \n",
              "1  1.348664  0.978270  0.604672  ...      0.004575  -0.893885   -0.922728   \n",
              "2  1.472645  1.032301  0.627990  ...     -0.000665  -0.894359   -0.919196   \n",
              "3  1.594092  1.089682  0.650985  ...      0.016668  -0.892726   -0.914866   \n",
              "4  1.679793  1.131863  0.670935  ...     -0.202383  -0.890540   -0.911799   \n",
              "\n",
              "   ^GSPC-ma60  ^GSPC-ma200  ^VIX-close  ^VIX-ma5  ^VIX-ma20  ^VIX-ma60  \\\n",
              "0   -1.018000    -1.247523   -0.883515 -0.982796  -1.106524  -1.127281   \n",
              "1   -1.016060    -1.245152   -0.875529 -0.955746  -1.098106  -1.124602   \n",
              "2   -1.014071    -1.242806   -0.867542 -0.926597  -1.087275  -1.122205   \n",
              "3   -1.011456    -1.240250   -1.038682 -0.930561  -1.085480  -1.123709   \n",
              "4   -1.009151    -1.237797   -0.958817 -0.943853  -1.078981  -1.122604   \n",
              "\n",
              "   ^VIX-ma200  \n",
              "0   -1.431370  \n",
              "1   -1.431607  \n",
              "2   -1.431570  \n",
              "3   -1.433151  \n",
              "4   -1.433814  \n",
              "\n",
              "[5 rows x 39 columns]"
            ],
            "text/html": [
              "\n",
              "  <div id=\"df-2b1ed09e-1049-4991-9c42-373c992e8b0a\">\n",
              "    <div class=\"colab-df-container\">\n",
              "      <div>\n",
              "<style scoped>\n",
              "    .dataframe tbody tr th:only-of-type {\n",
              "        vertical-align: middle;\n",
              "    }\n",
              "\n",
              "    .dataframe tbody tr th {\n",
              "        vertical-align: top;\n",
              "    }\n",
              "\n",
              "    .dataframe thead th {\n",
              "        text-align: right;\n",
              "    }\n",
              "</style>\n",
              "<table border=\"1\" class=\"dataframe\">\n",
              "  <thead>\n",
              "    <tr style=\"text-align: right;\">\n",
              "      <th></th>\n",
              "      <th>Unnamed: 0</th>\n",
              "      <th>Date</th>\n",
              "      <th>close</th>\n",
              "      <th>open</th>\n",
              "      <th>high</th>\n",
              "      <th>low</th>\n",
              "      <th>volume</th>\n",
              "      <th>ma5</th>\n",
              "      <th>ma20</th>\n",
              "      <th>ma60</th>\n",
              "      <th>...</th>\n",
              "      <th>^GSPC-volume</th>\n",
              "      <th>^GSPC-ma5</th>\n",
              "      <th>^GSPC-ma20</th>\n",
              "      <th>^GSPC-ma60</th>\n",
              "      <th>^GSPC-ma200</th>\n",
              "      <th>^VIX-close</th>\n",
              "      <th>^VIX-ma5</th>\n",
              "      <th>^VIX-ma20</th>\n",
              "      <th>^VIX-ma60</th>\n",
              "      <th>^VIX-ma200</th>\n",
              "    </tr>\n",
              "  </thead>\n",
              "  <tbody>\n",
              "    <tr>\n",
              "      <th>0</th>\n",
              "      <td>0</td>\n",
              "      <td>2017-10-24</td>\n",
              "      <td>1.0</td>\n",
              "      <td>1.435785</td>\n",
              "      <td>1.818259</td>\n",
              "      <td>1.506505</td>\n",
              "      <td>2.789887</td>\n",
              "      <td>1.173010</td>\n",
              "      <td>0.913128</td>\n",
              "      <td>0.575702</td>\n",
              "      <td>...</td>\n",
              "      <td>-0.424601</td>\n",
              "      <td>-0.892740</td>\n",
              "      <td>-0.926244</td>\n",
              "      <td>-1.018000</td>\n",
              "      <td>-1.247523</td>\n",
              "      <td>-0.883515</td>\n",
              "      <td>-0.982796</td>\n",
              "      <td>-1.106524</td>\n",
              "      <td>-1.127281</td>\n",
              "      <td>-1.431370</td>\n",
              "    </tr>\n",
              "    <tr>\n",
              "      <th>1</th>\n",
              "      <td>1</td>\n",
              "      <td>2017-10-25</td>\n",
              "      <td>0.0</td>\n",
              "      <td>1.706291</td>\n",
              "      <td>1.774853</td>\n",
              "      <td>1.727938</td>\n",
              "      <td>1.062202</td>\n",
              "      <td>1.348664</td>\n",
              "      <td>0.978270</td>\n",
              "      <td>0.604672</td>\n",
              "      <td>...</td>\n",
              "      <td>0.004575</td>\n",
              "      <td>-0.893885</td>\n",
              "      <td>-0.922728</td>\n",
              "      <td>-1.016060</td>\n",
              "      <td>-1.245152</td>\n",
              "      <td>-0.875529</td>\n",
              "      <td>-0.955746</td>\n",
              "      <td>-1.098106</td>\n",
              "      <td>-1.124602</td>\n",
              "      <td>-1.431607</td>\n",
              "    </tr>\n",
              "    <tr>\n",
              "      <th>2</th>\n",
              "      <td>2</td>\n",
              "      <td>2017-10-26</td>\n",
              "      <td>1.0</td>\n",
              "      <td>1.852573</td>\n",
              "      <td>1.813737</td>\n",
              "      <td>1.655021</td>\n",
              "      <td>0.535720</td>\n",
              "      <td>1.472645</td>\n",
              "      <td>1.032301</td>\n",
              "      <td>0.627990</td>\n",
              "      <td>...</td>\n",
              "      <td>-0.000665</td>\n",
              "      <td>-0.894359</td>\n",
              "      <td>-0.919196</td>\n",
              "      <td>-1.014071</td>\n",
              "      <td>-1.242806</td>\n",
              "      <td>-0.867542</td>\n",
              "      <td>-0.926597</td>\n",
              "      <td>-1.087275</td>\n",
              "      <td>-1.122205</td>\n",
              "      <td>-1.431570</td>\n",
              "    </tr>\n",
              "    <tr>\n",
              "      <th>3</th>\n",
              "      <td>3</td>\n",
              "      <td>2017-10-27</td>\n",
              "      <td>0.0</td>\n",
              "      <td>1.671184</td>\n",
              "      <td>1.639665</td>\n",
              "      <td>1.665758</td>\n",
              "      <td>-0.463551</td>\n",
              "      <td>1.594092</td>\n",
              "      <td>1.089682</td>\n",
              "      <td>0.650985</td>\n",
              "      <td>...</td>\n",
              "      <td>0.016668</td>\n",
              "      <td>-0.892726</td>\n",
              "      <td>-0.914866</td>\n",
              "      <td>-1.011456</td>\n",
              "      <td>-1.240250</td>\n",
              "      <td>-1.038682</td>\n",
              "      <td>-0.930561</td>\n",
              "      <td>-1.085480</td>\n",
              "      <td>-1.123709</td>\n",
              "      <td>-1.433151</td>\n",
              "    </tr>\n",
              "    <tr>\n",
              "      <th>4</th>\n",
              "      <td>4</td>\n",
              "      <td>2017-10-30</td>\n",
              "      <td>0.0</td>\n",
              "      <td>1.645529</td>\n",
              "      <td>1.581339</td>\n",
              "      <td>1.580316</td>\n",
              "      <td>0.057663</td>\n",
              "      <td>1.679793</td>\n",
              "      <td>1.131863</td>\n",
              "      <td>0.670935</td>\n",
              "      <td>...</td>\n",
              "      <td>-0.202383</td>\n",
              "      <td>-0.890540</td>\n",
              "      <td>-0.911799</td>\n",
              "      <td>-1.009151</td>\n",
              "      <td>-1.237797</td>\n",
              "      <td>-0.958817</td>\n",
              "      <td>-0.943853</td>\n",
              "      <td>-1.078981</td>\n",
              "      <td>-1.122604</td>\n",
              "      <td>-1.433814</td>\n",
              "    </tr>\n",
              "  </tbody>\n",
              "</table>\n",
              "<p>5 rows × 39 columns</p>\n",
              "</div>\n",
              "      <button class=\"colab-df-convert\" onclick=\"convertToInteractive('df-2b1ed09e-1049-4991-9c42-373c992e8b0a')\"\n",
              "              title=\"Convert this dataframe to an interactive table.\"\n",
              "              style=\"display:none;\">\n",
              "        \n",
              "  <svg xmlns=\"http://www.w3.org/2000/svg\" height=\"24px\"viewBox=\"0 0 24 24\"\n",
              "       width=\"24px\">\n",
              "    <path d=\"M0 0h24v24H0V0z\" fill=\"none\"/>\n",
              "    <path d=\"M18.56 5.44l.94 2.06.94-2.06 2.06-.94-2.06-.94-.94-2.06-.94 2.06-2.06.94zm-11 1L8.5 8.5l.94-2.06 2.06-.94-2.06-.94L8.5 2.5l-.94 2.06-2.06.94zm10 10l.94 2.06.94-2.06 2.06-.94-2.06-.94-.94-2.06-.94 2.06-2.06.94z\"/><path d=\"M17.41 7.96l-1.37-1.37c-.4-.4-.92-.59-1.43-.59-.52 0-1.04.2-1.43.59L10.3 9.45l-7.72 7.72c-.78.78-.78 2.05 0 2.83L4 21.41c.39.39.9.59 1.41.59.51 0 1.02-.2 1.41-.59l7.78-7.78 2.81-2.81c.8-.78.8-2.07 0-2.86zM5.41 20L4 18.59l7.72-7.72 1.47 1.35L5.41 20z\"/>\n",
              "  </svg>\n",
              "      </button>\n",
              "      \n",
              "  <style>\n",
              "    .colab-df-container {\n",
              "      display:flex;\n",
              "      flex-wrap:wrap;\n",
              "      gap: 12px;\n",
              "    }\n",
              "\n",
              "    .colab-df-convert {\n",
              "      background-color: #E8F0FE;\n",
              "      border: none;\n",
              "      border-radius: 50%;\n",
              "      cursor: pointer;\n",
              "      display: none;\n",
              "      fill: #1967D2;\n",
              "      height: 32px;\n",
              "      padding: 0 0 0 0;\n",
              "      width: 32px;\n",
              "    }\n",
              "\n",
              "    .colab-df-convert:hover {\n",
              "      background-color: #E2EBFA;\n",
              "      box-shadow: 0px 1px 2px rgba(60, 64, 67, 0.3), 0px 1px 3px 1px rgba(60, 64, 67, 0.15);\n",
              "      fill: #174EA6;\n",
              "    }\n",
              "\n",
              "    [theme=dark] .colab-df-convert {\n",
              "      background-color: #3B4455;\n",
              "      fill: #D2E3FC;\n",
              "    }\n",
              "\n",
              "    [theme=dark] .colab-df-convert:hover {\n",
              "      background-color: #434B5C;\n",
              "      box-shadow: 0px 1px 3px 1px rgba(0, 0, 0, 0.15);\n",
              "      filter: drop-shadow(0px 1px 2px rgba(0, 0, 0, 0.3));\n",
              "      fill: #FFFFFF;\n",
              "    }\n",
              "  </style>\n",
              "\n",
              "      <script>\n",
              "        const buttonEl =\n",
              "          document.querySelector('#df-2b1ed09e-1049-4991-9c42-373c992e8b0a button.colab-df-convert');\n",
              "        buttonEl.style.display =\n",
              "          google.colab.kernel.accessAllowed ? 'block' : 'none';\n",
              "\n",
              "        async function convertToInteractive(key) {\n",
              "          const element = document.querySelector('#df-2b1ed09e-1049-4991-9c42-373c992e8b0a');\n",
              "          const dataTable =\n",
              "            await google.colab.kernel.invokeFunction('convertToInteractive',\n",
              "                                                     [key], {});\n",
              "          if (!dataTable) return;\n",
              "\n",
              "          const docLinkHtml = 'Like what you see? Visit the ' +\n",
              "            '<a target=\"_blank\" href=https://colab.research.google.com/notebooks/data_table.ipynb>data table notebook</a>'\n",
              "            + ' to learn more about interactive tables.';\n",
              "          element.innerHTML = '';\n",
              "          dataTable['output_type'] = 'display_data';\n",
              "          await google.colab.output.renderOutput(dataTable, element);\n",
              "          const docLink = document.createElement('div');\n",
              "          docLink.innerHTML = docLinkHtml;\n",
              "          element.appendChild(docLink);\n",
              "        }\n",
              "      </script>\n",
              "    </div>\n",
              "  </div>\n",
              "  "
            ]
          },
          "metadata": {},
          "execution_count": 3
        }
      ]
    },
    {
      "cell_type": "code",
      "source": [
        "X = df.drop(columns=['close','Unnamed: 0','Date'])\n",
        "y = df['close']\n",
        "\n",
        "X_train, X_test, y_train, y_test = train_test_split(X, y, test_size = 0.3)"
      ],
      "metadata": {
        "id": "52KXCmSMhqpx"
      },
      "execution_count": null,
      "outputs": []
    },
    {
      "cell_type": "code",
      "source": [
        "model = tf.keras.models.Sequential([\n",
        "    layers.Dense(64, input_shape=(36,), activation='relu'),\n",
        "    layers.Dropout(0.2),\n",
        "    layers.Dense(64, activation='relu'),\n",
        "    layers.Dropout(0.2),\n",
        "    layers.Dense(2)\n",
        "])"
      ],
      "metadata": {
        "id": "8A65sAYge-D0"
      },
      "execution_count": null,
      "outputs": []
    },
    {
      "cell_type": "code",
      "source": [
        "model.compile(optimizer = \"adam\",\n",
        "              loss = tf.keras.losses.SparseCategoricalCrossentropy(from_logits=True),\n",
        "              metrics=['accuracy'])\n",
        "\n",
        "history = model.fit(X_train, y_train, epochs=20, batch_size = 64, \n",
        "                    shuffle = True, verbose=1)"
      ],
      "metadata": {
        "colab": {
          "base_uri": "https://localhost:8080/"
        },
        "id": "2iZkYG8gfbeG",
        "outputId": "eda5a8ff-b21f-44ef-d763-a3205a832dc1"
      },
      "execution_count": null,
      "outputs": [
        {
          "output_type": "stream",
          "name": "stdout",
          "text": [
            "Epoch 1/20\n",
            "5871/5871 [==============================] - 21s 3ms/step - loss: 0.5778 - accuracy: 0.6890\n",
            "Epoch 2/20\n",
            "5871/5871 [==============================] - 16s 3ms/step - loss: 0.5741 - accuracy: 0.6916\n",
            "Epoch 3/20\n",
            "5871/5871 [==============================] - 14s 2ms/step - loss: 0.5715 - accuracy: 0.6940\n",
            "Epoch 4/20\n",
            "5871/5871 [==============================] - 14s 2ms/step - loss: 0.5697 - accuracy: 0.6963\n",
            "Epoch 5/20\n",
            "5871/5871 [==============================] - 14s 2ms/step - loss: 0.5676 - accuracy: 0.6978\n",
            "Epoch 6/20\n",
            "5871/5871 [==============================] - 14s 2ms/step - loss: 0.5666 - accuracy: 0.6982\n",
            "Epoch 7/20\n",
            "5871/5871 [==============================] - 14s 2ms/step - loss: 0.5652 - accuracy: 0.6991\n",
            "Epoch 8/20\n",
            "5871/5871 [==============================] - 14s 2ms/step - loss: 0.5641 - accuracy: 0.7003\n",
            "Epoch 9/20\n",
            "5871/5871 [==============================] - 14s 2ms/step - loss: 0.5627 - accuracy: 0.7014\n",
            "Epoch 10/20\n",
            "5871/5871 [==============================] - 14s 2ms/step - loss: 0.5619 - accuracy: 0.7024\n",
            "Epoch 11/20\n",
            "5871/5871 [==============================] - 14s 2ms/step - loss: 0.5609 - accuracy: 0.7034\n",
            "Epoch 12/20\n",
            "5871/5871 [==============================] - 14s 2ms/step - loss: 0.5602 - accuracy: 0.7039\n",
            "Epoch 13/20\n",
            "5871/5871 [==============================] - 13s 2ms/step - loss: 0.5590 - accuracy: 0.7041\n",
            "Epoch 14/20\n",
            "5871/5871 [==============================] - 14s 2ms/step - loss: 0.5586 - accuracy: 0.7054\n",
            "Epoch 15/20\n",
            "5871/5871 [==============================] - 14s 2ms/step - loss: 0.5580 - accuracy: 0.7058\n",
            "Epoch 16/20\n",
            "5871/5871 [==============================] - 14s 2ms/step - loss: 0.5575 - accuracy: 0.7054\n",
            "Epoch 17/20\n",
            "5871/5871 [==============================] - 14s 2ms/step - loss: 0.5565 - accuracy: 0.7063\n",
            "Epoch 18/20\n",
            "5871/5871 [==============================] - 13s 2ms/step - loss: 0.5560 - accuracy: 0.7066\n",
            "Epoch 19/20\n",
            "5871/5871 [==============================] - 14s 2ms/step - loss: 0.5553 - accuracy: 0.7075\n",
            "Epoch 20/20\n",
            "5871/5871 [==============================] - 13s 2ms/step - loss: 0.5548 - accuracy: 0.7078\n"
          ]
        }
      ]
    },
    {
      "cell_type": "code",
      "source": [
        "loss, accuracy = model.evaluate(X_test, y_test)\n",
        "print('Test accuracy :', accuracy)"
      ],
      "metadata": {
        "colab": {
          "base_uri": "https://localhost:8080/"
        },
        "id": "grSbRGiI-t_v",
        "outputId": "5ae60e18-ccb6-4b38-f1f2-9c2937387740"
      },
      "execution_count": 15,
      "outputs": [
        {
          "output_type": "stream",
          "name": "stdout",
          "text": [
            "5032/5032 [==============================] - 19s 4ms/step - loss: 0.5620 - accuracy: 0.7021\n",
            "Test accuracy : 0.702107846736908\n"
          ]
        }
      ]
    },
    {
      "cell_type": "code",
      "source": [
        "def plot_history(hist):\n",
        "    plt.plot(hist.history[\"accuracy\"], label = \"training\")\n",
        "    # plt.plot(hist.history[\"val_accuracy\"], label = \"validation\")\n",
        "    plt.gca().set(xlabel = \"epoch\", ylabel = \"accuracy\")\n",
        "    plt.legend()\n",
        "    plt.show()"
      ],
      "metadata": {
        "id": "X-NxFp9S6Swd"
      },
      "execution_count": 16,
      "outputs": []
    },
    {
      "cell_type": "code",
      "source": [
        "plot_history(history)"
      ],
      "metadata": {
        "colab": {
          "base_uri": "https://localhost:8080/",
          "height": 279
        },
        "id": "Awafvdj56cE_",
        "outputId": "f229d795-3165-45d8-d41e-ce67d570cfe7"
      },
      "execution_count": 17,
      "outputs": [
        {
          "output_type": "display_data",
          "data": {
            "text/plain": [
              "<Figure size 432x288 with 1 Axes>"
            ],
            "image/png": "[encoded data removed]"
          },
          "metadata": {
            "needs_background": "light"
          }
        }
      ]
    }
  ]
}